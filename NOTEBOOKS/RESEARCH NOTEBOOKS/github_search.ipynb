{
 "cells": [
  {
   "cell_type": "markdown",
   "metadata": {},
   "source": [
    "# README\n",
    "- This notebook includes code to run searches against github API \n",
    "- Uses ghapi library \n",
    "- Requires API key renewal every 30 days \n",
    "- Returns results as dataframes w/ name, description, topics, URL, and license  \n",
    "\n",
    "**TODO**\n",
    "- Description field are quite short so adding a scraping element to also grab the readme text (if it exists) would be useful. See scraper notebook for potential code"
   ]
  },
  {
   "cell_type": "code",
   "execution_count": 4,
   "metadata": {},
   "outputs": [],
   "source": [
    "#imports and path\n",
    "from ghapi.core import *\n",
    "import pandas as pd\n",
    "path = '/Users/laurentfintoni/Desktop/University/COURSE DOCS/THESIS/Internship/musow-pipeline/'"
   ]
  },
  {
   "cell_type": "code",
   "execution_count": 2,
   "metadata": {},
   "outputs": [],
   "source": [
    "#main search function using GhApi \n",
    "\n",
    "def github_search(keyword):\n",
    "    #setup api object\n",
    "    api = GhApi(owner='laurentfintoni', token='HERE')\n",
    "    \n",
    "    #setup api call for searches \n",
    "    search_result = api.search.repos(keyword, 'commiter-date') \n",
    "\n",
    "    #create lists of the needed items from returned json object \n",
    "    name = [item['name'] for item in search_result['items']]\n",
    "    desc = [item['description'] for item in search_result['items']]\n",
    "    url = [item['html_url'] for item in search_result['items']]\n",
    "    topics = [item['topics'] for item in search_result['items']]\n",
    "    license = []\n",
    "    for item in search_result['items']:\n",
    "        if item['license'] is None:\n",
    "            license.append('')\n",
    "        elif item['license']['name'] is None:\n",
    "            license.append('')\n",
    "        elif ('license' in item) and ('name' in item['license']):\n",
    "            license.append(item['license']['name'])\n",
    "\n",
    "    #create df w/ lists \n",
    "    gh_df = pd.DataFrame()\n",
    "    gh_df['Name'] = pd.Series(name).astype('string') \n",
    "    gh_df['Description'] = pd.Series(desc).astype('string')\n",
    "    gh_df['Topics'] = pd.Series(topics) \n",
    "    gh_df['URL'] = pd.Series(url).astype('string')\n",
    "    gh_df['License'] = pd.Series(license).astype('string')\n",
    "    \n",
    "    return gh_df"
   ]
  },
  {
   "cell_type": "code",
   "execution_count": 5,
   "metadata": {},
   "outputs": [],
   "source": [
    "#search with keyword list \n",
    "\n",
    "input_kws = ['music archive', 'oral history']\n",
    "counter = 0\n",
    "for kw in input_kws:\n",
    "    result = github_search(kw)\n",
    "    result.to_pickle(path+f'GH_PICKLES/{input_kws[counter]}.pkl')\n",
    "    counter =+ 1"
   ]
  },
  {
   "cell_type": "code",
   "execution_count": 12,
   "metadata": {},
   "outputs": [],
   "source": [
    "#search with single keyword \n",
    "\n",
    "input_kw = 'video games'\n",
    "result = github_search(input_kw)\n",
    "result.to_pickle(path+f'GH_PICKLES/{input_kw}.pkl')"
   ]
  }
 ],
 "metadata": {
  "interpreter": {
   "hash": "aee8b7b246df8f9039afb4144a1f6fd8d2ca17a180786b69acc140d282b71a49"
  },
  "kernelspec": {
   "display_name": "Python 3.9.9 64-bit",
   "language": "python",
   "name": "python3"
  },
  "language_info": {
   "codemirror_mode": {
    "name": "ipython",
    "version": 3
   },
   "file_extension": ".py",
   "mimetype": "text/x-python",
   "name": "python",
   "nbconvert_exporter": "python",
   "pygments_lexer": "ipython3",
   "version": "3.9.9"
  },
  "orig_nbformat": 4
 },
 "nbformat": 4,
 "nbformat_minor": 2
}
