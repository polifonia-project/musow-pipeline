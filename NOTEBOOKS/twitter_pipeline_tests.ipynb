{
 "cells": [
  {
   "cell_type": "markdown",
   "metadata": {},
   "source": [
    "# Pipeline\n",
    "\n",
    "- This notebook is used to test various aspects of the twitter pipeline \n",
    "\n",
    "## Imports"
   ]
  },
  {
   "cell_type": "code",
   "execution_count": 1,
   "metadata": {},
   "outputs": [],
   "source": [
    "path = '../'\n",
    "import pandas as pd\n",
    "#import custom functions\n",
    "from musow_pipeline.LogReg_Searches import LogRegSearches\n",
    "from musow_pipeline import conf"
   ]
  },
  {
   "cell_type": "markdown",
   "metadata": {},
   "source": [
    "## Variables"
   ]
  },
  {
   "cell_type": "code",
   "execution_count": 3,
   "metadata": {},
   "outputs": [],
   "source": [
    "# descriptions training set -> v2 = musow+mji descriptions vs summarized scrapes from twitter searches  \n",
    "archive_desc_training_v2 = pd.read_pickle(path+'LOGREG_RELEVANCE/TRAINING_SETS/archive_desc_training_v2.pkl')\n",
    "\n",
    "# twitter training set -> v1 = tweets from bigrams vs tweets for digital humanities and music company \n",
    "twitter_training_set_v1 = pd.read_pickle(path+'LOGREG_RELEVANCE/TRAINING_SETS/twitter_training_v1.pkl')"
   ]
  },
  {
   "cell_type": "code",
   "execution_count": 2,
   "metadata": {},
   "outputs": [],
   "source": [
    "# descriptions training set \n",
    "archive_desc_training_v4 = pd.read_pickle(path+'LOGREG_RELEVANCE/TRAINING_SETS/archive_desc_training_v4.pkl')\n",
    "\n",
    "# twitter training set \n",
    "twitter_training_set_v2 = pd.read_pickle(path+'LOGREG_RELEVANCE/TRAINING_SETS/twitter_training_v2.pkl')\n",
    "twitter_training_set_v2_alt = pd.read_pickle(path+'LOGREG_RELEVANCE/TRAINING_SETS/twitter_training_v2_alt.pkl')"
   ]
  },
  {
   "cell_type": "markdown",
   "metadata": {},
   "source": [
    "## Training twitter and descriptions classifiers\n",
    "\n",
    "This is a ONE TIME operation. The models are pickled and loaded later to predict new results"
   ]
  },
  {
   "cell_type": "code",
   "execution_count": 8,
   "metadata": {},
   "outputs": [
    {
     "name": "stdout",
     "output_type": "stream",
     "text": [
      "report:\n",
      "              precision    recall  f1-score   support\n",
      "\n",
      "           0       0.70      0.72      0.71       556\n",
      "           1       0.69      0.67      0.68       510\n",
      "\n",
      "    accuracy                           0.70      1066\n",
      "   macro avg       0.69      0.69      0.69      1066\n",
      "weighted avg       0.69      0.70      0.69      1066\n",
      "\n"
     ]
    }
   ],
   "source": [
    "# one time training on twitter\n",
    "twitter_training_model = LogRegSearches.train(twitter_training_set_v2, 'tweet', 'Target', 10, 'precision', 1000, 'twitter_v2', path)\n",
    "\n",
    "# one time training on resources\n",
    "#resource_training_model = LogRegSearches.train(archive_desc_training_v4, 'Description', 'Target', 10, 'precision', 1000, 'resources_v4',path)"
   ]
  },
  {
   "cell_type": "markdown",
   "metadata": {},
   "source": [
    "## Query Twitter\n",
    "\n",
    "Calls Twitter API with the list of keywords and returns the table `prediction_twitter`"
   ]
  },
  {
   "cell_type": "code",
   "execution_count": 3,
   "metadata": {},
   "outputs": [
    {
     "name": "stdout",
     "output_type": "stream",
     "text": [
      "-------------------\n",
      "Token:  None\n",
      "Endpoint Response Code: 200\n",
      "-------------------\n",
      "Start Date:  2022-05-22T00:00:00.000Z\n",
      "# of Tweets added from this response:  49\n",
      "Total # of Tweets added for '\"music archive\" -is:retweet': 49\n",
      "-------------------\n",
      "Total number of results: 49\n",
      "-------------------\n",
      "Token:  None\n",
      "Endpoint Response Code: 200\n",
      "Next Token:  b26v89c19zqg8o3fpywo625zwim847tptjf91gd1ryrul\n",
      "Start Date:  2022-05-22T00:00:00.000Z\n",
      "# of Tweets added from this response:  494\n",
      "Total # of Tweets added for '\"music collection\" -is:retweet': 494\n",
      "-------------------\n",
      "-------------------\n",
      "Token:  b26v89c19zqg8o3fpywo625zwim847tptjf91gd1ryrul\n",
      "Endpoint Response Code: 200\n",
      "-------------------\n",
      "Start Date:  2022-05-22T00:00:00.000Z\n",
      "# of Tweets added from this response:  160\n",
      "Total # of Tweets added for '\"music collection\" -is:retweet': 654\n",
      "-------------------\n",
      "Total number of results: 654\n",
      "-------------------\n",
      "Token:  None\n",
      "Endpoint Response Code: 200\n",
      "-------------------\n",
      "Start Date:  2022-05-22T00:00:00.000Z\n",
      "# of Tweets added from this response:  422\n",
      "Total # of Tweets added for '\"audio file\" -is:retweet': 422\n",
      "-------------------\n",
      "Total number of results: 422\n",
      "-------------------\n",
      "Token:  None\n",
      "Endpoint Response Code: 200\n",
      "Next Token:  b26v89c19zqg8o3fpywokuy32ii50reixyu9f2btmq4cd\n",
      "Start Date:  2022-05-22T00:00:00.000Z\n",
      "# of Tweets added from this response:  496\n",
      "Total # of Tweets added for '\"music library\" -is:retweet': 496\n",
      "-------------------\n",
      "-------------------\n",
      "Token:  b26v89c19zqg8o3fpywokuy32ii50reixyu9f2btmq4cd\n",
      "Endpoint Response Code: 200\n",
      "-------------------\n",
      "Start Date:  2022-05-22T00:00:00.000Z\n",
      "# of Tweets added from this response:  343\n",
      "Total # of Tweets added for '\"music library\" -is:retweet': 839\n",
      "-------------------\n",
      "Total number of results: 839\n",
      "-------------------\n",
      "Token:  None\n",
      "Endpoint Response Code: 200\n",
      "Next Token:  b26v89c19zqg8o3fpywol9wysv02bvo1nobtpukfkeef1\n",
      "Start Date:  2022-05-22T00:00:00.000Z\n",
      "# of Tweets added from this response:  472\n",
      "Total # of Tweets added for '\"sheet music\" -is:retweet': 472\n",
      "-------------------\n",
      "-------------------\n",
      "Token:  b26v89c19zqg8o3fpywol9wysv02bvo1nobtpukfkeef1\n",
      "Endpoint Response Code: 200\n",
      "Next Token:  b26v89c19zqg8o3fpywo66f5kuiahln9ndkmlfujxt01p\n",
      "Start Date:  2022-05-22T00:00:00.000Z\n",
      "# of Tweets added from this response:  493\n",
      "Total # of Tweets added for '\"sheet music\" -is:retweet': 965\n",
      "-------------------\n",
      "Total number of results: 965\n",
      "-------------------\n",
      "Token:  None\n",
      "Endpoint Response Code: 200\n",
      "-------------------\n",
      "Start Date:  2022-05-22T00:00:00.000Z\n",
      "# of Tweets added from this response:  360\n",
      "Total # of Tweets added for '\"sound archive\" -is:retweet': 360\n",
      "-------------------\n",
      "Total number of results: 360\n",
      "-------------------\n",
      "Token:  None\n",
      "Endpoint Response Code: 200\n",
      "-------------------\n",
      "Start Date:  2022-05-22T00:00:00.000Z\n",
      "# of Tweets added from this response:  270\n",
      "Total # of Tweets added for '\"sound recording\" -is:retweet': 270\n",
      "-------------------\n",
      "Total number of results: 270\n"
     ]
    }
   ],
   "source": [
    "#load token\n",
    "token = conf.TOKEN\n",
    "#a selection of keywords based on MJI and musoW datasets\n",
    "\n",
    "#Choose keywords  \n",
    "keywords = ['music archive', 'music collection', 'audio file', 'music library', 'sheet music', 'sound archive', 'sound recording']\n",
    "\n",
    "#search timeframe (if using custom search)\n",
    "start = ['2022-05-22T00:00:00.000Z']\n",
    "end = ['2022-05-28T23:59:59.000Z']\n",
    "\n",
    "#choose search option \n",
    "## search last week\n",
    "#tweets = LogRegSearches.search_twitter_weekly(token, keywords, 50, 50)\n",
    "## search custom timeframe\n",
    "tweets = LogRegSearches.search_twitter_custom(token, keywords, start, end, 500, 500)"
   ]
  },
  {
   "cell_type": "markdown",
   "metadata": {},
   "source": [
    "## Classify tweets"
   ]
  },
  {
   "cell_type": "code",
   "execution_count": 2,
   "metadata": {},
   "outputs": [
    {
     "name": "stdout",
     "output_type": "stream",
     "text": [
      "Total tweets to classify: 801\n"
     ]
    },
    {
     "data": {
      "text/html": [
       "<div>\n",
       "<style scoped>\n",
       "    .dataframe tbody tr th:only-of-type {\n",
       "        vertical-align: middle;\n",
       "    }\n",
       "\n",
       "    .dataframe tbody tr th {\n",
       "        vertical-align: top;\n",
       "    }\n",
       "\n",
       "    .dataframe thead th {\n",
       "        text-align: right;\n",
       "    }\n",
       "</style>\n",
       "<table border=\"1\" class=\"dataframe\">\n",
       "  <thead>\n",
       "    <tr style=\"text-align: right;\">\n",
       "      <th></th>\n",
       "      <th>user</th>\n",
       "      <th>tweet id</th>\n",
       "      <th>created_at</th>\n",
       "      <th>lang</th>\n",
       "      <th>like_count</th>\n",
       "      <th>quote_count</th>\n",
       "      <th>reply_count</th>\n",
       "      <th>retweet_count</th>\n",
       "      <th>tweet</th>\n",
       "      <th>URL</th>\n",
       "      <th>Search KW</th>\n",
       "    </tr>\n",
       "  </thead>\n",
       "  <tbody>\n",
       "    <tr>\n",
       "      <th>0</th>\n",
       "      <td>5555Hotaru</td>\n",
       "      <td>1530677324005314560</td>\n",
       "      <td>2022-05-28 22:28:07+00:00</td>\n",
       "      <td>en</td>\n",
       "      <td>0</td>\n",
       "      <td>0</td>\n",
       "      <td>0</td>\n",
       "      <td>0</td>\n",
       "      <td>Ryuichi Sakamoto &amp;amp; Joe Hisaishi Best Piano...</td>\n",
       "      <td>https://youtu.be/k9vJKFfTu4A</td>\n",
       "      <td>\"music collection\" -is:retweet</td>\n",
       "    </tr>\n",
       "    <tr>\n",
       "      <th>1</th>\n",
       "      <td>rockisinfinite</td>\n",
       "      <td>1530603012158201857</td>\n",
       "      <td>2022-05-28 17:32:49+00:00</td>\n",
       "      <td>en</td>\n",
       "      <td>1</td>\n",
       "      <td>0</td>\n",
       "      <td>0</td>\n",
       "      <td>0</td>\n",
       "      <td>Knuckles: Unknown From M.E. by Sonic’s Music C...</td>\n",
       "      <td>https://soundcloud.app.goo.gl/QEM6MTmDuGk6s1ps8</td>\n",
       "      <td>\"music collection\" -is:retweet</td>\n",
       "    </tr>\n",
       "    <tr>\n",
       "      <th>2</th>\n",
       "      <td>MalafachaSka</td>\n",
       "      <td>1530602805559427078</td>\n",
       "      <td>2022-05-28 17:32:00+00:00</td>\n",
       "      <td>en</td>\n",
       "      <td>2</td>\n",
       "      <td>1</td>\n",
       "      <td>0</td>\n",
       "      <td>0</td>\n",
       "      <td>Big Facts, started my music collection with \n",
       " ...</td>\n",
       "      <td>https://opensea.io/assets/matic/0xc29cbe04ae32...</td>\n",
       "      <td>\"music collection\" -is:retweet</td>\n",
       "    </tr>\n",
       "    <tr>\n",
       "      <th>3</th>\n",
       "      <td>ro_p256</td>\n",
       "      <td>1530574324654292993</td>\n",
       "      <td>2022-05-28 15:38:50+00:00</td>\n",
       "      <td>en</td>\n",
       "      <td>0</td>\n",
       "      <td>0</td>\n",
       "      <td>0</td>\n",
       "      <td>0</td>\n",
       "      <td>Check out \n",
       "Pokemon \n",
       "Piano Sheet Music Collecti...</td>\n",
       "      <td>https://www.ebay.com/itm/225007047626?mkevt=1&amp;...</td>\n",
       "      <td>\"music collection\" -is:retweet</td>\n",
       "    </tr>\n",
       "    <tr>\n",
       "      <th>4</th>\n",
       "      <td>willpfeifer</td>\n",
       "      <td>1530565800897167360</td>\n",
       "      <td>2022-05-28 15:04:58+00:00</td>\n",
       "      <td>en</td>\n",
       "      <td>3</td>\n",
       "      <td>0</td>\n",
       "      <td>0</td>\n",
       "      <td>0</td>\n",
       "      <td>Don't forget to tune in TONIGHT at 9 PM ET / 8...</td>\n",
       "      <td>https://www.suburbspod.com/radio/</td>\n",
       "      <td>\"music collection\" -is:retweet</td>\n",
       "    </tr>\n",
       "    <tr>\n",
       "      <th>...</th>\n",
       "      <td>...</td>\n",
       "      <td>...</td>\n",
       "      <td>...</td>\n",
       "      <td>...</td>\n",
       "      <td>...</td>\n",
       "      <td>...</td>\n",
       "      <td>...</td>\n",
       "      <td>...</td>\n",
       "      <td>...</td>\n",
       "      <td>...</td>\n",
       "      <td>...</td>\n",
       "    </tr>\n",
       "    <tr>\n",
       "      <th>796</th>\n",
       "      <td>DAJoseph16</td>\n",
       "      <td>1528323865021403137</td>\n",
       "      <td>2022-05-22 10:36:18+00:00</td>\n",
       "      <td>en</td>\n",
       "      <td>8</td>\n",
       "      <td>0</td>\n",
       "      <td>0</td>\n",
       "      <td>2</td>\n",
       "      <td>Dear friends,\n",
       "Plz listen to this audio file. I...</td>\n",
       "      <td>http://www.dajoseph.com/Audio-Videos/Sunday_QA...</td>\n",
       "      <td>\"audio file\" -is:retweet</td>\n",
       "    </tr>\n",
       "    <tr>\n",
       "      <th>797</th>\n",
       "      <td>MusicScheduling</td>\n",
       "      <td>1528290567431520259</td>\n",
       "      <td>2022-05-22 08:24:00+00:00</td>\n",
       "      <td>en</td>\n",
       "      <td>1</td>\n",
       "      <td>0</td>\n",
       "      <td>0</td>\n",
       "      <td>0</td>\n",
       "      <td>Unlike other music scheduling or playlist crea...</td>\n",
       "      <td>https://www.libraryplayer.co.uk/2021/07/musics...</td>\n",
       "      <td>\"audio file\" -is:retweet</td>\n",
       "    </tr>\n",
       "    <tr>\n",
       "      <th>798</th>\n",
       "      <td>englishspeeches</td>\n",
       "      <td>1528226664118886401</td>\n",
       "      <td>2022-05-22 04:10:04+00:00</td>\n",
       "      <td>en</td>\n",
       "      <td>4</td>\n",
       "      <td>0</td>\n",
       "      <td>0</td>\n",
       "      <td>0</td>\n",
       "      <td>Jackie Chan: “Now I am older, I understand we...</td>\n",
       "      <td>https://youtu.be/Y0B32z3WwwA, https://www.engl...</td>\n",
       "      <td>\"audio file\" -is:retweet</td>\n",
       "    </tr>\n",
       "    <tr>\n",
       "      <th>799</th>\n",
       "      <td>reconzar</td>\n",
       "      <td>1528221549429288960</td>\n",
       "      <td>2022-05-22 03:49:45+00:00</td>\n",
       "      <td>en</td>\n",
       "      <td>0</td>\n",
       "      <td>0</td>\n",
       "      <td>0</td>\n",
       "      <td>0</td>\n",
       "      <td>I also volunteer at a local museum/biosphere....</td>\n",
       "      <td>https://soundcloud.com/reconzar/hideo-kojima-s...</td>\n",
       "      <td>\"audio file\" -is:retweet</td>\n",
       "    </tr>\n",
       "    <tr>\n",
       "      <th>800</th>\n",
       "      <td>GoonerAudio</td>\n",
       "      <td>1528177957813989377</td>\n",
       "      <td>2022-05-22 00:56:31+00:00</td>\n",
       "      <td>en</td>\n",
       "      <td>17</td>\n",
       "      <td>0</td>\n",
       "      <td>1</td>\n",
       "      <td>7</td>\n",
       "      <td>New Audio File Drop for PUMPDRONES+\n",
       "\n",
       "\"CHAINED\"...</td>\n",
       "      <td>http://www.patreon.com/gooneraudiolabs</td>\n",
       "      <td>\"audio file\" -is:retweet</td>\n",
       "    </tr>\n",
       "  </tbody>\n",
       "</table>\n",
       "<p>801 rows × 11 columns</p>\n",
       "</div>"
      ],
      "text/plain": [
       "                user             tweet id                 created_at lang  \\\n",
       "0         5555Hotaru  1530677324005314560  2022-05-28 22:28:07+00:00   en   \n",
       "1     rockisinfinite  1530603012158201857  2022-05-28 17:32:49+00:00   en   \n",
       "2       MalafachaSka  1530602805559427078  2022-05-28 17:32:00+00:00   en   \n",
       "3            ro_p256  1530574324654292993  2022-05-28 15:38:50+00:00   en   \n",
       "4        willpfeifer  1530565800897167360  2022-05-28 15:04:58+00:00   en   \n",
       "..               ...                  ...                        ...  ...   \n",
       "796       DAJoseph16  1528323865021403137  2022-05-22 10:36:18+00:00   en   \n",
       "797  MusicScheduling  1528290567431520259  2022-05-22 08:24:00+00:00   en   \n",
       "798  englishspeeches  1528226664118886401  2022-05-22 04:10:04+00:00   en   \n",
       "799         reconzar  1528221549429288960  2022-05-22 03:49:45+00:00   en   \n",
       "800      GoonerAudio  1528177957813989377  2022-05-22 00:56:31+00:00   en   \n",
       "\n",
       "     like_count  quote_count  reply_count  retweet_count  \\\n",
       "0             0            0            0              0   \n",
       "1             1            0            0              0   \n",
       "2             2            1            0              0   \n",
       "3             0            0            0              0   \n",
       "4             3            0            0              0   \n",
       "..          ...          ...          ...            ...   \n",
       "796           8            0            0              2   \n",
       "797           1            0            0              0   \n",
       "798           4            0            0              0   \n",
       "799           0            0            0              0   \n",
       "800          17            0            1              7   \n",
       "\n",
       "                                                 tweet  \\\n",
       "0    Ryuichi Sakamoto &amp; Joe Hisaishi Best Piano...   \n",
       "1    Knuckles: Unknown From M.E. by Sonic’s Music C...   \n",
       "2    Big Facts, started my music collection with \n",
       " ...   \n",
       "3    Check out \n",
       "Pokemon \n",
       "Piano Sheet Music Collecti...   \n",
       "4    Don't forget to tune in TONIGHT at 9 PM ET / 8...   \n",
       "..                                                 ...   \n",
       "796  Dear friends,\n",
       "Plz listen to this audio file. I...   \n",
       "797  Unlike other music scheduling or playlist crea...   \n",
       "798   Jackie Chan: “Now I am older, I understand we...   \n",
       "799   I also volunteer at a local museum/biosphere....   \n",
       "800  New Audio File Drop for PUMPDRONES+\n",
       "\n",
       "\"CHAINED\"...   \n",
       "\n",
       "                                                   URL  \\\n",
       "0                         https://youtu.be/k9vJKFfTu4A   \n",
       "1      https://soundcloud.app.goo.gl/QEM6MTmDuGk6s1ps8   \n",
       "2    https://opensea.io/assets/matic/0xc29cbe04ae32...   \n",
       "3    https://www.ebay.com/itm/225007047626?mkevt=1&...   \n",
       "4                    https://www.suburbspod.com/radio/   \n",
       "..                                                 ...   \n",
       "796  http://www.dajoseph.com/Audio-Videos/Sunday_QA...   \n",
       "797  https://www.libraryplayer.co.uk/2021/07/musics...   \n",
       "798  https://youtu.be/Y0B32z3WwwA, https://www.engl...   \n",
       "799  https://soundcloud.com/reconzar/hideo-kojima-s...   \n",
       "800             http://www.patreon.com/gooneraudiolabs   \n",
       "\n",
       "                          Search KW  \n",
       "0    \"music collection\" -is:retweet  \n",
       "1    \"music collection\" -is:retweet  \n",
       "2    \"music collection\" -is:retweet  \n",
       "3    \"music collection\" -is:retweet  \n",
       "4    \"music collection\" -is:retweet  \n",
       "..                              ...  \n",
       "796        \"audio file\" -is:retweet  \n",
       "797        \"audio file\" -is:retweet  \n",
       "798        \"audio file\" -is:retweet  \n",
       "799        \"audio file\" -is:retweet  \n",
       "800        \"audio file\" -is:retweet  \n",
       "\n",
       "[801 rows x 11 columns]"
      ]
     },
     "execution_count": 2,
     "metadata": {},
     "output_type": "execute_result"
    }
   ],
   "source": [
    "#load all search results into a single dataframe \n",
    "tweets_to_classify = LogRegSearches.tweets_to_classify(path+'TWITTER_SEARCHES/RAW_SEARCHES/', '2022-05-22_05-28.pkl')\n",
    "tweets_to_classify"
   ]
  },
  {
   "cell_type": "code",
   "execution_count": 16,
   "metadata": {},
   "outputs": [
    {
     "name": "stdout",
     "output_type": "stream",
     "text": [
      "Total tweets predicted: 504\n"
     ]
    },
    {
     "data": {
      "text/html": [
       "<div>\n",
       "<style scoped>\n",
       "    .dataframe tbody tr th:only-of-type {\n",
       "        vertical-align: middle;\n",
       "    }\n",
       "\n",
       "    .dataframe tbody tr th {\n",
       "        vertical-align: top;\n",
       "    }\n",
       "\n",
       "    .dataframe thead th {\n",
       "        text-align: right;\n",
       "    }\n",
       "</style>\n",
       "<table border=\"1\" class=\"dataframe\">\n",
       "  <thead>\n",
       "    <tr style=\"text-align: right;\">\n",
       "      <th></th>\n",
       "      <th>tweet</th>\n",
       "      <th>Prediction</th>\n",
       "      <th>Score</th>\n",
       "      <th>Probability</th>\n",
       "      <th>Input Length</th>\n",
       "      <th>URL</th>\n",
       "      <th>Search KW</th>\n",
       "      <th>tweet date</th>\n",
       "      <th>user</th>\n",
       "      <th>tweet id</th>\n",
       "    </tr>\n",
       "  </thead>\n",
       "  <tbody>\n",
       "    <tr>\n",
       "      <th>0</th>\n",
       "      <td>Music Note Clock Wall Clock Music Teacher Gift...</td>\n",
       "      <td>1</td>\n",
       "      <td>11.547149</td>\n",
       "      <td>0.99999</td>\n",
       "      <td>169</td>\n",
       "      <td>https://ift.tt/3aEqwMr</td>\n",
       "      <td>\"sheet music\" -is:retweet</td>\n",
       "      <td>2022-05-24</td>\n",
       "      <td>pondscumsteph1</td>\n",
       "      <td>1529015312821125121</td>\n",
       "    </tr>\n",
       "    <tr>\n",
       "      <th>1</th>\n",
       "      <td>Fur Elise sheet music (Ludwig van Beethoven mu...</td>\n",
       "      <td>1</td>\n",
       "      <td>8.546705</td>\n",
       "      <td>0.999806</td>\n",
       "      <td>80</td>\n",
       "      <td>https://sheetmusic.kongashare.com/fur-elise-sh...</td>\n",
       "      <td>\"sheet music\" -is:retweet</td>\n",
       "      <td>2022-05-25</td>\n",
       "      <td>konga_share</td>\n",
       "      <td>1529256862230712320</td>\n",
       "    </tr>\n",
       "    <tr>\n",
       "      <th>2</th>\n",
       "      <td>CINEMA PARADISO, ENNIO MORRICONE with sheet mu...</td>\n",
       "      <td>1</td>\n",
       "      <td>8.145584</td>\n",
       "      <td>0.99971</td>\n",
       "      <td>101</td>\n",
       "      <td>https://sheetmusiclibrary.website/2022/05/24/c...</td>\n",
       "      <td>\"sheet music\" -is:retweet</td>\n",
       "      <td>2022-05-24</td>\n",
       "      <td>LibrarySheet</td>\n",
       "      <td>1529177480149487616</td>\n",
       "    </tr>\n",
       "    <tr>\n",
       "      <th>3</th>\n",
       "      <td>Wagner - The Ride of the Valkyries (piano solo...</td>\n",
       "      <td>1</td>\n",
       "      <td>8.075519</td>\n",
       "      <td>0.999689</td>\n",
       "      <td>116</td>\n",
       "      <td>https://sheetmusiclibrary.website/2022/05/02/w...</td>\n",
       "      <td>\"sheet music\" -is:retweet</td>\n",
       "      <td>2022-05-27</td>\n",
       "      <td>LibrarySheet</td>\n",
       "      <td>1530261038968582145</td>\n",
       "    </tr>\n",
       "    <tr>\n",
       "      <th>4</th>\n",
       "      <td>Elton John – Rocket Man (Piano solo) with shee...</td>\n",
       "      <td>1</td>\n",
       "      <td>7.9908</td>\n",
       "      <td>0.999662</td>\n",
       "      <td>105</td>\n",
       "      <td>https://sheetmusiclibrary.website/2022/05/24/e...</td>\n",
       "      <td>\"sheet music\" -is:retweet</td>\n",
       "      <td>2022-05-24</td>\n",
       "      <td>LibrarySheet</td>\n",
       "      <td>1529176305358487552</td>\n",
       "    </tr>\n",
       "    <tr>\n",
       "      <th>...</th>\n",
       "      <td>...</td>\n",
       "      <td>...</td>\n",
       "      <td>...</td>\n",
       "      <td>...</td>\n",
       "      <td>...</td>\n",
       "      <td>...</td>\n",
       "      <td>...</td>\n",
       "      <td>...</td>\n",
       "      <td>...</td>\n",
       "      <td>...</td>\n",
       "    </tr>\n",
       "    <tr>\n",
       "      <th>499</th>\n",
       "      <td>Not a day goes by where I don't miss https://t...</td>\n",
       "      <td>1</td>\n",
       "      <td>0.199036</td>\n",
       "      <td>0.549595</td>\n",
       "      <td>84</td>\n",
       "      <td>http://What.CD</td>\n",
       "      <td>\"music collection\" -is:retweet</td>\n",
       "      <td>2022-05-28</td>\n",
       "      <td>stowball</td>\n",
       "      <td>1530436349651996672</td>\n",
       "    </tr>\n",
       "    <tr>\n",
       "      <th>500</th>\n",
       "      <td>Buy my sheetmusic 'If I Fell' on SheetMusicPlu...</td>\n",
       "      <td>1</td>\n",
       "      <td>0.178405</td>\n",
       "      <td>0.544483</td>\n",
       "      <td>72</td>\n",
       "      <td>http://www.sheetmusicplus.com/title/22160947</td>\n",
       "      <td>\"sheet music\" -is:retweet</td>\n",
       "      <td>2022-05-25</td>\n",
       "      <td>Clavi10Claudio</td>\n",
       "      <td>1529441719166676993</td>\n",
       "    </tr>\n",
       "    <tr>\n",
       "      <th>501</th>\n",
       "      <td>Buy my sheetmusic 'Summer Nights' on SheetMusi...</td>\n",
       "      <td>1</td>\n",
       "      <td>0.157613</td>\n",
       "      <td>0.539322</td>\n",
       "      <td>76</td>\n",
       "      <td>http://www.sheetmusicplus.com/title/20679578</td>\n",
       "      <td>\"sheet music\" -is:retweet</td>\n",
       "      <td>2022-05-26</td>\n",
       "      <td>Clavi10Claudio</td>\n",
       "      <td>1529920839596003347</td>\n",
       "    </tr>\n",
       "    <tr>\n",
       "      <th>502</th>\n",
       "      <td>Ready to say goodbye to streaming services? We...</td>\n",
       "      <td>1</td>\n",
       "      <td>0.077469</td>\n",
       "      <td>0.519358</td>\n",
       "      <td>92</td>\n",
       "      <td>http://p4k.in/z4uXGYp</td>\n",
       "      <td>\"music collection\" -is:retweet</td>\n",
       "      <td>2022-05-26</td>\n",
       "      <td>pitchfork</td>\n",
       "      <td>1529972974228496386</td>\n",
       "    </tr>\n",
       "    <tr>\n",
       "      <th>503</th>\n",
       "      <td>Quiet on the Set ~ Windows Volume Limiter http...</td>\n",
       "      <td>1</td>\n",
       "      <td>0.022436</td>\n",
       "      <td>0.505609</td>\n",
       "      <td>65</td>\n",
       "      <td>http://audio-file.org/2022/05/25/quiet-on-the-...</td>\n",
       "      <td>\"audio file\" -is:retweet</td>\n",
       "      <td>2022-05-25</td>\n",
       "      <td>tom2tec</td>\n",
       "      <td>1529474640451608586</td>\n",
       "    </tr>\n",
       "  </tbody>\n",
       "</table>\n",
       "<p>504 rows × 10 columns</p>\n",
       "</div>"
      ],
      "text/plain": [
       "                                                 tweet Prediction      Score  \\\n",
       "0    Music Note Clock Wall Clock Music Teacher Gift...          1  11.547149   \n",
       "1    Fur Elise sheet music (Ludwig van Beethoven mu...          1   8.546705   \n",
       "2    CINEMA PARADISO, ENNIO MORRICONE with sheet mu...          1   8.145584   \n",
       "3    Wagner - The Ride of the Valkyries (piano solo...          1   8.075519   \n",
       "4    Elton John – Rocket Man (Piano solo) with shee...          1     7.9908   \n",
       "..                                                 ...        ...        ...   \n",
       "499  Not a day goes by where I don't miss https://t...          1   0.199036   \n",
       "500  Buy my sheetmusic 'If I Fell' on SheetMusicPlu...          1   0.178405   \n",
       "501  Buy my sheetmusic 'Summer Nights' on SheetMusi...          1   0.157613   \n",
       "502  Ready to say goodbye to streaming services? We...          1   0.077469   \n",
       "503  Quiet on the Set ~ Windows Volume Limiter http...          1   0.022436   \n",
       "\n",
       "    Probability Input Length  \\\n",
       "0       0.99999          169   \n",
       "1      0.999806           80   \n",
       "2       0.99971          101   \n",
       "3      0.999689          116   \n",
       "4      0.999662          105   \n",
       "..          ...          ...   \n",
       "499    0.549595           84   \n",
       "500    0.544483           72   \n",
       "501    0.539322           76   \n",
       "502    0.519358           92   \n",
       "503    0.505609           65   \n",
       "\n",
       "                                                   URL  \\\n",
       "0                               https://ift.tt/3aEqwMr   \n",
       "1    https://sheetmusic.kongashare.com/fur-elise-sh...   \n",
       "2    https://sheetmusiclibrary.website/2022/05/24/c...   \n",
       "3    https://sheetmusiclibrary.website/2022/05/02/w...   \n",
       "4    https://sheetmusiclibrary.website/2022/05/24/e...   \n",
       "..                                                 ...   \n",
       "499                                     http://What.CD   \n",
       "500       http://www.sheetmusicplus.com/title/22160947   \n",
       "501       http://www.sheetmusicplus.com/title/20679578   \n",
       "502                              http://p4k.in/z4uXGYp   \n",
       "503  http://audio-file.org/2022/05/25/quiet-on-the-...   \n",
       "\n",
       "                          Search KW  tweet date            user  \\\n",
       "0         \"sheet music\" -is:retweet  2022-05-24  pondscumsteph1   \n",
       "1         \"sheet music\" -is:retweet  2022-05-25     konga_share   \n",
       "2         \"sheet music\" -is:retweet  2022-05-24    LibrarySheet   \n",
       "3         \"sheet music\" -is:retweet  2022-05-27    LibrarySheet   \n",
       "4         \"sheet music\" -is:retweet  2022-05-24    LibrarySheet   \n",
       "..                              ...         ...             ...   \n",
       "499  \"music collection\" -is:retweet  2022-05-28        stowball   \n",
       "500       \"sheet music\" -is:retweet  2022-05-25  Clavi10Claudio   \n",
       "501       \"sheet music\" -is:retweet  2022-05-26  Clavi10Claudio   \n",
       "502  \"music collection\" -is:retweet  2022-05-26       pitchfork   \n",
       "503        \"audio file\" -is:retweet  2022-05-25         tom2tec   \n",
       "\n",
       "                tweet id  \n",
       "0    1529015312821125121  \n",
       "1    1529256862230712320  \n",
       "2    1529177480149487616  \n",
       "3    1530261038968582145  \n",
       "4    1529176305358487552  \n",
       "..                   ...  \n",
       "499  1530436349651996672  \n",
       "500  1529441719166676993  \n",
       "501  1529920839596003347  \n",
       "502  1529972974228496386  \n",
       "503  1529474640451608586  \n",
       "\n",
       "[504 rows x 10 columns]"
      ]
     },
     "execution_count": 16,
     "metadata": {},
     "output_type": "execute_result"
    }
   ],
   "source": [
    "#run classification and get links from results\n",
    "predicted_tweets, twitter_link_list = LogRegSearches.predict_twitter(path, 'twitter_v2_alt', tweets_to_classify, 'tweet', 1)\n",
    "predicted_tweets"
   ]
  },
  {
   "cell_type": "code",
   "execution_count": 7,
   "metadata": {},
   "outputs": [
    {
     "name": "stdout",
     "output_type": "stream",
     "text": [
      "Total tweets to classify: 801\n"
     ]
    }
   ],
   "source": [
    "discard = ['youtu', '404', 'Not Found', 'bandcamp', 'ebay', 'It needs a human touch', 'Page not found', 'open.spotify.com', 'We\\'re sorry...', 'Not Acceptable!', 'Access denied', '412 Error', 'goo.gl', 'instagr.am', 'soundcloud', 'apple.co', 'amzn', 'masterstillmusic', 'Facebook', 'facebook', 'sheetmusiclibrary.website', 'Unsupported browser', 'Last.fm', 'last.fm', 'amazon', 'tidal.com', 'tmblr.co', 'blogspot', 'dailymusicroll', 'PortalTaxiMusic', 'apple.news', 'yahoo.com', 'sheetmusicplus.com', 'musicnotes.com', 'musescore.com', 'etsy', 'nts.live', 'twitch.tv', 'YouTube', 'radiosparx.com', 'freemusicarchive.org', 'blastradio', 'opensea', 'mixcloud', 'catalog.works', 'nft', 'NFT', 'allmusic.com', 'foundation.app', 'Robot or human?', 'heardle', 'insession.agency', 'jobvite', 'career', 'docs.google.com/forms/', 'discogs.com', 'zora.co', 'play.google.com', 't.me', 'mintable.app', 'instagram', 'linkedin', 'forms.gle', 'vimeo', 'radioiita', 'spotify', 'event', 'mediafire', 'noodsradio', 'pinterest', 'rakuten', 'stackoverflow', 'fiverr', 'patreon']\n",
    "tweets_to_classify = LogRegSearches.tweets_to_classify(path+'TWITTER_SEARCHES/RAW_SEARCHES/', '2022-05-22_05-28.pkl')\n",
    "tweets_to_classify = tweets_to_classify.drop_duplicates(['tweet'], keep='last')\n",
    "tweets_to_classify = tweets_to_classify[~tweets_to_classify.URL.str.contains('|'.join(discard))]\n",
    "tweets_to_classify = tweets_to_classify[['tweet', 'URL', 'Search KW', 'created_at']]\n",
    "tweets_to_classify['created_at'] = tweets_to_classify['created_at'].astype(str)\n",
    "tweets_to_classify['created_at'] = tweets_to_classify['created_at'].str[0:10]\n",
    "tweets_to_classify = tweets_to_classify.rename({'created_at': 'tweet date'}, axis=1)\n",
    "twitter_link_list = [link for link in tweets_to_classify['URL']]"
   ]
  },
  {
   "cell_type": "code",
   "execution_count": 8,
   "metadata": {},
   "outputs": [
    {
     "data": {
      "text/plain": [
       "395"
      ]
     },
     "execution_count": 8,
     "metadata": {},
     "output_type": "execute_result"
    }
   ],
   "source": [
    "len(twitter_link_list)"
   ]
  },
  {
   "cell_type": "markdown",
   "metadata": {},
   "source": [
    "## Scrape URLS"
   ]
  },
  {
   "cell_type": "code",
   "execution_count": 17,
   "metadata": {},
   "outputs": [
    {
     "name": "stdout",
     "output_type": "stream",
     "text": [
      "1 https://ift.tt/3aEqwMr\n",
      "2 https://sheetmusic.kongashare.com/fur-elise-sheet-music/\n",
      "3 https://sheetmusiclibrary.website/2022/05/24/cinema-paradiso-morricone/\n",
      "4 https://sheetmusiclibrary.website/2022/05/02/wagner-sheet-music-4/\n",
      "5 https://sheetmusiclibrary.website/2022/05/24/elton-john-sheet-music-3/\n",
      "6 https://sheetmusiclibrary.website/2022/05/23/beethoven-liszt-sheet-music/\n",
      "7 https://dolarcalle.com/2022/05/25/vgm-ecce-valde-sheet-music-for-panzer-dragoon-vandal-game-music/\n",
      "8 https://buff.ly/3wuiEXq\n",
      "9 https://buff.ly/3LDHngk\n",
      "10 https://sheetmusiclibrary.website/2022/05/27/jazz-play-along-4/\n"
     ]
    },
    {
     "name": "stderr",
     "output_type": "stream",
     "text": [
      "Your max_length is set to 120, but you input_length is only 103. You might consider decreasing max_length manually, e.g. summarizer('...', max_length=51)\n"
     ]
    },
    {
     "name": "stdout",
     "output_type": "stream",
     "text": [
      "11 https://bit.ly/3MEwrAe\n",
      "12 https://sheetmusiclibrary.website/2022/05/25/van-morrison-sheet-music/\n",
      "13 https://sheetmusiclibrary.website/2022/05/22/universal-mind-of-bill-evans/\n"
     ]
    },
    {
     "name": "stderr",
     "output_type": "stream",
     "text": [
      "Token indices sequence length is longer than the specified maximum sequence length for this model (1386 > 1024). Running this sequence through the model will result in indexing errors\n"
     ]
    },
    {
     "name": "stdout",
     "output_type": "stream",
     "text": [
      "14 https://sheetmusiclibrary.website/2022/05/24/milestones-miles-davis/\n",
      "15 https://sheetmusiclibrary.website/2022/05/03/jazz-play-along-3/?utm_source=ReviveOldPost&utm_medium=social&utm_campaign=ReviveOldPost\n",
      "16 https://pin.it/3kvBUvm\n",
      "17 https://sheetmusiclibrary.website/2022/02/15/spain-chick-corea-sheet-music/?utm_source=ReviveOldPost&utm_medium=social&utm_campaign=ReviveOldPost\n",
      "18 https://sheetmusiclibrary.website/2022/04/01/scriabin-24-preludes-op-11/?utm_source=ReviveOldPost&utm_medium=social&utm_campaign=ReviveOldPost\n",
      "19 https://sheetmusiclibrary.website/2022/05/24/milestones-miles-davis/?utm_source=ReviveOldPost&utm_medium=social&utm_campaign=ReviveOldPost\n",
      "20 https://sunset-vending.com/product/chris-stapleton-smooth-as-tennessee-whiskey-sheet-music-single/\n",
      "21 https://pin.it/6QYT8MZ\n"
     ]
    },
    {
     "name": "stderr",
     "output_type": "stream",
     "text": [
      "Your max_length is set to 120, but you input_length is only 110. You might consider decreasing max_length manually, e.g. summarizer('...', max_length=55)\n"
     ]
    },
    {
     "name": "stdout",
     "output_type": "stream",
     "text": [
      "22 https://sunset-vending.com/product/skyfall-sheet-music/\n"
     ]
    },
    {
     "name": "stderr",
     "output_type": "stream",
     "text": [
      "Your max_length is set to 120, but you input_length is only 57. You might consider decreasing max_length manually, e.g. summarizer('...', max_length=28)\n"
     ]
    },
    {
     "name": "stdout",
     "output_type": "stream",
     "text": [
      "23 https://sheetmusiclibrary.website/2022/02/24/frederic-mompou-sheet-music-2/?utm_source=ReviveOldPost&utm_medium=social&utm_campaign=ReviveOldPost\n"
     ]
    },
    {
     "name": "stderr",
     "output_type": "stream",
     "text": [
      "Your max_length is set to 120, but you input_length is only 70. You might consider decreasing max_length manually, e.g. summarizer('...', max_length=35)\n"
     ]
    },
    {
     "name": "stdout",
     "output_type": "stream",
     "text": [
      "24 https://briefly.co/anchor/Music/story/slipstream-music-library-platform-raises-75m-series-financing-sony-music-involved---rain-news?hl=1&f=gubbeen&utm_source=Twitter&utm_medium=autotweet&utm_content=unhighlighted&utm_campaign=Music\n",
      "25 http://Slip.stream\n"
     ]
    },
    {
     "name": "stderr",
     "output_type": "stream",
     "text": [
      "Your max_length is set to 120, but you input_length is only 99. You might consider decreasing max_length manually, e.g. summarizer('...', max_length=49)\n"
     ]
    },
    {
     "name": "stdout",
     "output_type": "stream",
     "text": [
      "26 http://www.dalsegno.eu\n",
      "27 https://www.scoreexchange.com/scores/543125.html\n",
      "28 https://sheetmusiclibrary.website/2022/05/14/pink-floyd-sheet-music/?utm_source=ReviveOldPost&utm_medium=social&utm_campaign=ReviveOldPost\n",
      "29 https://www.sheetmusicdirect.com/en-US/se/ID_No/1136470/Product.aspx\n",
      "30 https://wp.me/pd2HnU-13q\n",
      "31 https://rainnews.com/slip-stream-music-library-platform-raises-7-5m-series-financing-sony-music-involved\n",
      "32 http://Slip.stream\n",
      "33 https://sheetmusiclibrary.website/2022/03/14/keane-sheet-music/?utm_source=ReviveOldPost&utm_medium=social&utm_campaign=ReviveOldPost\n"
     ]
    },
    {
     "name": "stderr",
     "output_type": "stream",
     "text": [
      "Your max_length is set to 120, but you input_length is only 71. You might consider decreasing max_length manually, e.g. summarizer('...', max_length=35)\n"
     ]
    },
    {
     "name": "stdout",
     "output_type": "stream",
     "text": [
      "34 https://sophiebrienmusictuition.wordpress.com/2022/05/26/supernova-tigers-blud-by-kat-cunning-piano-cover-sheet-music/\n",
      "35 https://www.ilovefreegle.org/message/90040922?src=twitter\n",
      "36 https://www.jsongs.com.br/2022/05/avataro-sentai-donbrothers-music.html?spref=tw\n",
      "37 https://www.scoreexchange.com/scores/124878.html\n"
     ]
    },
    {
     "name": "stderr",
     "output_type": "stream",
     "text": [
      "Your max_length is set to 120, but you input_length is only 70. You might consider decreasing max_length manually, e.g. summarizer('...', max_length=35)\n"
     ]
    },
    {
     "name": "stdout",
     "output_type": "stream",
     "text": [
      "38 http://www.hamarpercussion.com\n",
      "39 https://blog.archive.org/2022/05/25/music-library-association-opens-its-publications-at-internet-archive/\n",
      "40 https://sheetmusiclibrary.website/2022/03/24/how-music-helps-be-more-creative/?utm_source=ReviveOldPost&utm_medium=social&utm_campaign=ReviveOldPost\n",
      "41 https://dai.ly/x8aatie\n",
      "42 https://tutotube.fr/musiques-instruments/mad-world-gary-jules-tutorial-of-my-piano-cover-sheet-music/\n"
     ]
    },
    {
     "name": "stderr",
     "output_type": "stream",
     "text": [
      "Your max_length is set to 120, but you input_length is only 43. You might consider decreasing max_length manually, e.g. summarizer('...', max_length=21)\n"
     ]
    },
    {
     "name": "stdout",
     "output_type": "stream",
     "text": [
      "43 https://www.cnbc.com/guide/apple-homepod-how-to-play-ripped-music/\n",
      "44 https://livemusicarchive.app/music/artists/GratefulDead/recordings/gd77-05-26.sbd.sacks.3224.sbeok.shnf\n"
     ]
    },
    {
     "name": "stderr",
     "output_type": "stream",
     "text": [
      "Your max_length is set to 120, but you input_length is only 61. You might consider decreasing max_length manually, e.g. summarizer('...', max_length=30)\n"
     ]
    },
    {
     "name": "stdout",
     "output_type": "stream",
     "text": [
      "45 https://sheetmusiclibrary.website/2022/03/28/the-girl-from-ipanema/?utm_source=ReviveOldPost&utm_medium=social&utm_campaign=ReviveOldPost\n",
      "46 https://sheetmusiclibrary.website/2021/08/28/miles-davis-sheet-music-2/\n",
      "47 https://sheetmusiclibrary.website/2022/05/25/a-musical-analysis-of-the-compositions-of-bill-evans-billy-strayhorn-and-bill-murray/\n",
      "48 https://sheetmusiclibrary.website/2022/05/25/10-most-outstanding-jazz-pianists-you-should-listen-to/\n"
     ]
    },
    {
     "name": "stderr",
     "output_type": "stream",
     "text": [
      "Your max_length is set to 120, but you input_length is only 81. You might consider decreasing max_length manually, e.g. summarizer('...', max_length=40)\n"
     ]
    },
    {
     "name": "stdout",
     "output_type": "stream",
     "text": [
      "49 https://sheetmusiclibrary.website/2022/04/03/educacion-musical-adultos/?utm_source=ReviveOldPost&utm_medium=social&utm_campaign=ReviveOldPost\n",
      "50 https://www.totim.audio/\n",
      "51 https://www.praisecharts.com/songs/details/78531/getaway-sheet-music/piano-vocal-pack\n",
      "52 https://sheetmusiclibrary.website/2022/03/24/jobim-meditacao-andrea-motis/?utm_source=ReviveOldPost&utm_medium=social&utm_campaign=ReviveOldPost\n",
      "53 https://sheetmusiclibrary.website/2022/05/26/herbie-hancock/?utm_source=ReviveOldPost&utm_medium=social&utm_campaign=ReviveOldPost\n",
      "54 https://sheetmusiclibrary.website/2022/03/14/keith-jarrett-transcriptions-3/?utm_source=ReviveOldPost&utm_medium=social&utm_campaign=ReviveOldPost\n",
      "55 https://ift.tt/WxT8i1U\n",
      "56 https://musescore.com/user/10919536/scores/2377386\n",
      "57 http://Musescore.com\n",
      "58 https://texttwt.blogspot.com/?book=0739098969\n",
      "59 https://sheetmusiclibrary.website/2022/05/17/casta-diva-easy-piano/?utm_source=ReviveOldPost&utm_medium=social&utm_campaign=ReviveOldPost\n"
     ]
    },
    {
     "name": "stderr",
     "output_type": "stream",
     "text": [
      "Your max_length is set to 120, but you input_length is only 97. You might consider decreasing max_length manually, e.g. summarizer('...', max_length=48)\n"
     ]
    },
    {
     "name": "stdout",
     "output_type": "stream",
     "text": [
      "60 https://need-mart.com/2022/05/27/the-giant-book-of-classical-piano-sheet-music-easy-piano-the-giant-book-of-sheet-music/\n",
      "61 https://sheetmusiclibrary.website/2022/03/19/astor-piazzolla-tango/?utm_source=ReviveOldPost&utm_medium=social&utm_campaign=ReviveOldPost\n",
      "62 https://sheetmusiclibrary.website/2022/03/15/blind-willie-mctell-georgia-blues/?utm_source=ReviveOldPost&utm_medium=social&utm_campaign=ReviveOldPost\n",
      "63 https://sheetmusiclibrary.website/2022/05/08/johann-sebastian-bach-2/?utm_source=ReviveOldPost&utm_medium=social&utm_campaign=ReviveOldPost\n",
      "64 https://sheetmusiclibrary.website/2022/03/23/rachmaninov-vocalise/?utm_source=ReviveOldPost&utm_medium=social&utm_campaign=ReviveOldPost\n"
     ]
    },
    {
     "name": "stderr",
     "output_type": "stream",
     "text": [
      "Your max_length is set to 120, but you input_length is only 81. You might consider decreasing max_length manually, e.g. summarizer('...', max_length=40)\n"
     ]
    },
    {
     "name": "stdout",
     "output_type": "stream",
     "text": [
      "65 https://sheetmusiclibrary.website/2022/03/28/keith-jarret-jan-garbarek/?utm_source=ReviveOldPost&utm_medium=social&utm_campaign=ReviveOldPost\n",
      "66 https://francisdrummingblog.com/2019/10/18/tool-schism-drum-sheet-music/\n",
      "67 https://www.sheetmusicdirect.com/go/pass-playlist-broadway-favorites\n",
      "68 https://sheetmusiclibrary.website/2022/03/20/ella-fitzgerald-rodgers-hart/?utm_source=ReviveOldPost&utm_medium=social&utm_campaign=ReviveOldPost\n",
      "69 http://www.mamadance.com\n",
      "70 https://sheetmusiclibrary.website/2022/03/17/oscar-peterson-sheet-music-5/?utm_source=ReviveOldPost&utm_medium=social&utm_campaign=ReviveOldPost\n",
      "71 https://sheetmusiclibrary.website/2022/05/15/grieg-piano-works-sheet-music/?utm_source=ReviveOldPost&utm_medium=social&utm_campaign=ReviveOldPost\n",
      "72 https://sheetmusiclibrary.website/2022/04/01/bill-evans-live/?utm_source=ReviveOldPost&utm_medium=social&utm_campaign=ReviveOldPost\n",
      "73 https://sheetmusiclibrary.website/2022/04/23/lester-young-coleman-hawkins/?utm_source=ReviveOldPost&utm_medium=social&utm_campaign=ReviveOldPost\n",
      "74 https://sheetmusiclibrary.website/2022/04/07/in-memoriam-spartacus/?utm_source=ReviveOldPost&utm_medium=social&utm_campaign=ReviveOldPost\n",
      "75 https://www.praisecharts.com/songs/details/78636/kingdom-sheet-music/piano-vocal-pack\n",
      "76 https://sheetmusiclibrary.website/2022/05/12/jazz-sheet-music/?utm_source=ReviveOldPost&utm_medium=social&utm_campaign=ReviveOldPost\n",
      "77 https://blog.archive.org/2022/05/25/music-library-association-opens-its-publications-at-internet-archive\n",
      "78 https://sheetmusiclibrary.website/2022/05/20/the-musical-prince-of-egypt/?utm_source=ReviveOldPost&utm_medium=social&utm_campaign=ReviveOldPost\n",
      "79 https://sheetmusiclibrary.website/2022/03/23/mozart-sheet-music-5/?utm_source=ReviveOldPost&utm_medium=social&utm_campaign=ReviveOldPost\n",
      "80 https://www.sheetmusicplus.com/title/echo-for-voice-and-piano-digital-sheet-music/22258896\n",
      "81 https://tataloo.in/\n",
      "82 https://rumble.com/v16aupa-eric-carmen-all-by-myself-as-performed-by-celine-dion-sheet-music.html\n",
      "83 https://sheetmusiclibrary.website/2022/03/29/glenn-gould-sheet-music-2/?utm_source=ReviveOldPost&utm_medium=social&utm_campaign=ReviveOldPost\n",
      "84 https://sheetmusiclibrary.website/2022/05/14/masterclass-no3-lang-lang/?utm_source=ReviveOldPost&utm_medium=social&utm_campaign=ReviveOldPost\n"
     ]
    },
    {
     "name": "stderr",
     "output_type": "stream",
     "text": [
      "Your max_length is set to 120, but you input_length is only 111. You might consider decreasing max_length manually, e.g. summarizer('...', max_length=55)\n"
     ]
    },
    {
     "name": "stdout",
     "output_type": "stream",
     "text": [
      "85 https://bit.ly/3wFDD8t\n",
      "86 https://tinyurl.com/yem7pxbt\n",
      "87 https://sheetmusiclibrary.website/2022/03/16/jazz-sheet-music-3/?utm_source=ReviveOldPost&utm_medium=social&utm_campaign=ReviveOldPost\n",
      "88 https://web.library.yale.edu/cataloging/music\n",
      "89 https://sheetmusiclibrary.website/2022/05/25/led-zeppelin-easy-guitar/\n",
      "90 https://texttwt.blogspot.com/?book=1470610701\n",
      "91 https://www.softwarepixie.com/mediamonkey-5-0-3-2626-rc3-windows-android/\n"
     ]
    },
    {
     "name": "stderr",
     "output_type": "stream",
     "text": [
      "Your max_length is set to 120, but you input_length is only 119. You might consider decreasing max_length manually, e.g. summarizer('...', max_length=59)\n"
     ]
    },
    {
     "name": "stdout",
     "output_type": "stream",
     "text": [
      "92 https://www.reddit.com/r/Jazz/comments/uyub7b/how_to_play_lil_darlin_jazz_piano_with_sheet_music/\n",
      "93 http://ldcradio.co.uk\n",
      "94 https://www.scoreexchange.com/scores/84693.html\n",
      "95 https://bit.ly/3HFjxzD\n",
      "96 https://livemusicarchive.app/music/artists/GratefulDead/recordings/gd82-05-23.sbd.gorinsky.5058.sbeok.shnf\n",
      "97 https://onl.bz/FvBJiZh\n",
      "98 https://onl.bz/CjcpnMw\n",
      "99 https://clubsound-kr.tistory.com/1502\n"
     ]
    },
    {
     "name": "stderr",
     "output_type": "stream",
     "text": [
      "Your max_length is set to 120, but you input_length is only 83. You might consider decreasing max_length manually, e.g. summarizer('...', max_length=41)\n"
     ]
    },
    {
     "name": "stdout",
     "output_type": "stream",
     "text": [
      "100 https://bit.ly/39PyTWc\n",
      "101 https://cincinnatilibrary.bibliocommons.com/v2/record/S170C1098465\n",
      "102 https://tips.applenws.com/how-to-add-songs-from-windows-pc-to-icloud-music-library/2022/tips-tricks?utm_source=ReviveOldPost&utm_medium=social&utm_campaign=ReviveOldPost\n",
      "103 https://livemusicarchive.app/music/artists/TedeschiTrucksBand/recordings/ttb2010-10-01.AKG461\n",
      "104 https://sheetmusiclibrary.website/2022/04/09/learn-to-play-the-piano/?utm_source=ReviveOldPost&utm_medium=social&utm_campaign=ReviveOldPost\n"
     ]
    },
    {
     "name": "stderr",
     "output_type": "stream",
     "text": [
      "Your max_length is set to 120, but you input_length is only 110. You might consider decreasing max_length manually, e.g. summarizer('...', max_length=55)\n"
     ]
    },
    {
     "name": "stdout",
     "output_type": "stream",
     "text": [
      "105 https://bit.ly/3PGAz4C\n",
      "106 https://www.sheetmusicdirect.com/Search.aspx?query=Garth%20Steenberg\n",
      "107 https://www.sheetmusicplus.com/search?Ntt=garth+steenberg\n",
      "108 http://www.sheetmusicnow.com/products/hunters-of-avatar-violin-2-p462089\n"
     ]
    },
    {
     "name": "stderr",
     "output_type": "stream",
     "text": [
      "Your max_length is set to 120, but you input_length is only 93. You might consider decreasing max_length manually, e.g. summarizer('...', max_length=46)\n"
     ]
    },
    {
     "name": "stdout",
     "output_type": "stream",
     "text": [
      "109 https://cincinnatilibrary.bibliocommons.com/v2/record/S170C2779859\n",
      "110 http://bigtakeover.com/news/VideoPremiereSuedeheadMorrisseycoverbyTheArtOfTheSoul\n"
     ]
    },
    {
     "name": "stderr",
     "output_type": "stream",
     "text": [
      "Your max_length is set to 120, but you input_length is only 65. You might consider decreasing max_length manually, e.g. summarizer('...', max_length=32)\n"
     ]
    },
    {
     "name": "stdout",
     "output_type": "stream",
     "text": [
      "111 https://www.scoreexchange.com/scores/110038.html\n",
      "112 http://www.hamarpercussion.com\n",
      "113 https://sunset-vending.com/product/total-eclipse-of-the-heart-piano-vocal-guitar-sheet-music-recorded-on-columbia-records-by-bonnie-tyler/\n",
      "114 http://Tomplay.com\n",
      "115 https://soundiiz.com\n",
      "116 http://www.liveway.fm\n",
      "117 https://www.steinberg.net/dorico/\n"
     ]
    },
    {
     "name": "stderr",
     "output_type": "stream",
     "text": [
      "Your max_length is set to 120, but you input_length is only 102. You might consider decreasing max_length manually, e.g. summarizer('...', max_length=51)\n"
     ]
    },
    {
     "name": "stdout",
     "output_type": "stream",
     "text": [
      "118 https://bit.ly/3FDKVgR\n",
      "119 http://www.lite-magazin.de\n",
      "120 https://buff.ly/3GrFMJz\n"
     ]
    },
    {
     "name": "stderr",
     "output_type": "stream",
     "text": [
      "Your max_length is set to 120, but you input_length is only 109. You might consider decreasing max_length manually, e.g. summarizer('...', max_length=54)\n"
     ]
    },
    {
     "name": "stdout",
     "output_type": "stream",
     "text": [
      "121 https://buff.ly/2uiduwM\n",
      "122 https://www.topstory.online/153869-2/\n",
      "123 https://www.newtone-records.com/\n",
      "124 https://link.notjustokdistro.com/myguyz\n",
      "125 https://veronneau.org/introducing-metalfinder.html\n",
      "126 https://www.esquire.com/uk/design/g40115996/best-cd-players/\n",
      "127 https://www.sheetmusicplus.com/title/omnia-mutantur-for-satb-choir-a-cappella-digital-sheet-music/22269494\n",
      "128 https://bit.ly/3wUsz7B\n",
      "129 https://ift.tt/AoKqZyU\n",
      "130 https://pod.fo/e/125977\n",
      "131 https://is.gd/lM0COj\n"
     ]
    },
    {
     "name": "stderr",
     "output_type": "stream",
     "text": [
      "Your max_length is set to 120, but you input_length is only 22. You might consider decreasing max_length manually, e.g. summarizer('...', max_length=11)\n"
     ]
    },
    {
     "name": "stdout",
     "output_type": "stream",
     "text": [
      "132 http://bit.ly/3Lyl3EA\n",
      "133 http://www.anthonygiamanco.com/store/p10/INVOCATION_%28organ_solo%29.html\n",
      "134 http://melco-audio.com/product-n100/\n",
      "135 https://www.angelikaanywhere.com/page/music/\n",
      "136 http://www.bastienpianobasics.com\n",
      "137 http://ballsackradio.com\n",
      "138 https://archive.org/details/musiclibraryassociationpublications\n"
     ]
    },
    {
     "name": "stderr",
     "output_type": "stream",
     "text": [
      "Your max_length is set to 120, but you input_length is only 84. You might consider decreasing max_length manually, e.g. summarizer('...', max_length=42)\n"
     ]
    },
    {
     "name": "stdout",
     "output_type": "stream",
     "text": [
      "139 https://www.sales.hrgb.org.uk/index.php?main_page=product_free_shipping_info&cPath=6_11&products_id=1863\n",
      "140 https://payhip.com/b/VnCpu\n",
      "141 https://sunset-vending.com/product/magna-tiles-grateful-dead-music-collection-magnetic-tiles-magnetic-kids-building-toys-educational-stem-toys-for-ages-3-15-pieces-by-createon/\n",
      "142 https://cincinnatilibrary.bibliocommons.com/v2/record/S170C2263219\n",
      "143 https://hermitage-crabapple.amebaownd.com/posts/categories/6017921\n",
      "144 https://bib.dbvis.de/publications/view/943\n",
      "145 https://www.hants.gov.uk/News/24052022JubileeListingsRecordsOffice\n",
      "146 https://bit.ly/3MMILyr\n",
      "147 https://cincinnatilibrary.bibliocommons.com/v2/record/S170C2563406\n",
      "148 https://onl.bz/sAW7hRX\n",
      "149 https://onl.bz/S3WEX4A\n",
      "150 http://hermitage-crabapple.amebaownd.com/pages/811095/page_201701220951\n",
      "151 https://www.sheetmusicdirect.com/en-US/makemusicday\n",
      "152 https://www.google.com/url?sa=t&source=web&rct=j&url=https://www.marineband.marines.mil/Audio-Resources/Taps/&ved=2ahUKEwjYxtnxt_n3AhX1i_0HHbxSCq4QFnoECF4QAQ&sqi=2&usg=AOvVaw1mG5wXPpkX_xjq_MEyDg0E\n",
      "153 http://bit.ly/LookingForLightSheet\n"
     ]
    },
    {
     "name": "stderr",
     "output_type": "stream",
     "text": [
      "Your max_length is set to 120, but you input_length is only 113. You might consider decreasing max_length manually, e.g. summarizer('...', max_length=56)\n"
     ]
    },
    {
     "name": "stdout",
     "output_type": "stream",
     "text": [
      "154 https://ftpunks.com/review-pomegranate-teas-ep-in-contrast/\n",
      "155 https://cincinnatilibrary.bibliocommons.com/v2/record/S170C2627348\n",
      "156 https://talesfromthebraziersgrotto.wordpress.com/2022/05/27/music-archive-part-xix-hide-with-spread-beaver-ever-free-universal-victor-1998/\n",
      "157 http://hermitage-crabapple.amebaownd.com/posts/9776571\n"
     ]
    },
    {
     "name": "stderr",
     "output_type": "stream",
     "text": [
      "Your max_length is set to 120, but you input_length is only 89. You might consider decreasing max_length manually, e.g. summarizer('...', max_length=44)\n"
     ]
    },
    {
     "name": "stdout",
     "output_type": "stream",
     "text": [
      "158 https://www.bl.uk/projects/Resonations-artist-residency-programme\n"
     ]
    },
    {
     "name": "stderr",
     "output_type": "stream",
     "text": [
      "Your max_length is set to 120, but you input_length is only 56. You might consider decreasing max_length manually, e.g. summarizer('...', max_length=28)\n"
     ]
    },
    {
     "name": "stdout",
     "output_type": "stream",
     "text": [
      "159 https://cincinnatilibrary.bibliocommons.com/v2/record/S170C2565040\n"
     ]
    },
    {
     "name": "stderr",
     "output_type": "stream",
     "text": [
      "Your max_length is set to 120, but you input_length is only 101. You might consider decreasing max_length manually, e.g. summarizer('...', max_length=50)\n"
     ]
    },
    {
     "name": "stdout",
     "output_type": "stream",
     "text": [
      "160 https://www.sd.net/blogs/archive/5242022-sd-public-utilities-commission/\n",
      "161 https://cincinnatilibrary.bibliocommons.com/v2/record/S170C2759456\n"
     ]
    },
    {
     "name": "stderr",
     "output_type": "stream",
     "text": [
      "Your max_length is set to 120, but you input_length is only 80. You might consider decreasing max_length manually, e.g. summarizer('...', max_length=40)\n"
     ]
    },
    {
     "name": "stdout",
     "output_type": "stream",
     "text": [
      "162 http://dlvr.it/SR9X76\n"
     ]
    },
    {
     "name": "stderr",
     "output_type": "stream",
     "text": [
      "Your max_length is set to 120, but you input_length is only 107. You might consider decreasing max_length manually, e.g. summarizer('...', max_length=53)\n"
     ]
    },
    {
     "name": "stdout",
     "output_type": "stream",
     "text": [
      "163 https://bit.ly/38WbfqC\n",
      "164 https://buff.ly/3lD4NHQ\n",
      "165 https://buff.ly/2qNX3H6\n",
      "166 https://buff.ly/3MPoloj\n",
      "167 https://bit.ly/3lGOjP2\n"
     ]
    },
    {
     "name": "stderr",
     "output_type": "stream",
     "text": [
      "Your max_length is set to 120, but you input_length is only 55. You might consider decreasing max_length manually, e.g. summarizer('...', max_length=27)\n"
     ]
    },
    {
     "name": "stdout",
     "output_type": "stream",
     "text": [
      "168 https://linktr.ee/proudfacemusic\n",
      "169 https://www.androidauthority.com/turn-off-icloud-music-library-3168069/?utm_source=dlvr.it&utm_medium=twitter\n",
      "170 https://www.androidauthority.com/turn-off-icloud-music-library-3168069/\n",
      "171 https://cincinnatilibrary.bibliocommons.com/v2/record/S170C2733858\n",
      "172 https://music.justnoblepiano.com/HesAPirate\n",
      "173 https://ift.tt/lbsrfpS\n",
      "174 https://drive.google.com/drive/folders/1qf-Gy5gZAHdiYx_Z1bGWWdxHQVxRU9Bv?usp=sharing\n"
     ]
    },
    {
     "name": "stderr",
     "output_type": "stream",
     "text": [
      "Your max_length is set to 120, but you input_length is only 41. You might consider decreasing max_length manually, e.g. summarizer('...', max_length=20)\n"
     ]
    },
    {
     "name": "stdout",
     "output_type": "stream",
     "text": [
      "175 http://coventryhospitalradio.org\n",
      "176 https://mudc.at/3LJe8IV\n"
     ]
    },
    {
     "name": "stderr",
     "output_type": "stream",
     "text": [
      "Your max_length is set to 120, but you input_length is only 72. You might consider decreasing max_length manually, e.g. summarizer('...', max_length=36)\n"
     ]
    },
    {
     "name": "stdout",
     "output_type": "stream",
     "text": [
      "177 http://RetroStrange.TV\n",
      "178 https://archive.org/details/SoundRec1943\n",
      "179 https://timstwitterlisteningparty.com/pages/replay/feed_292.html\n",
      "180 https://mei-review.com/revideo-app-review/\n"
     ]
    },
    {
     "name": "stderr",
     "output_type": "stream",
     "text": [
      "Your max_length is set to 120, but you input_length is only 112. You might consider decreasing max_length manually, e.g. summarizer('...', max_length=56)\n"
     ]
    },
    {
     "name": "stdout",
     "output_type": "stream",
     "text": [
      "181 https://is.gd/dVAwpq\n",
      "182 https://ift.tt/kRLGUm7\n",
      "183 https://cincinnatilibrary.bibliocommons.com/v2/record/S170C2829590\n",
      "184 https://mailchi.mp/87c485bdabf3/cash-reject-mailing-list\n",
      "185 https://www.practicingmusician.com\n",
      "186 https://ffm.to/mahrexrunthisshit\n",
      "187 https://www.ukrainianartsong.ca/welcome-to-the-library-2\n",
      "188 https://lttr.ai/xRea\n"
     ]
    },
    {
     "name": "stderr",
     "output_type": "stream",
     "text": [
      "Your max_length is set to 120, but you input_length is only 102. You might consider decreasing max_length manually, e.g. summarizer('...', max_length=51)\n"
     ]
    },
    {
     "name": "stdout",
     "output_type": "stream",
     "text": [
      "189 https://www.sd.net/blogs/archive/5262022-sd-transportation-commission-board/\n"
     ]
    },
    {
     "name": "stderr",
     "output_type": "stream",
     "text": [
      "Your max_length is set to 120, but you input_length is only 51. You might consider decreasing max_length manually, e.g. summarizer('...', max_length=25)\n"
     ]
    },
    {
     "name": "stdout",
     "output_type": "stream",
     "text": [
      "190 https://caseguard.com/audio-redaction-software/\n"
     ]
    },
    {
     "name": "stderr",
     "output_type": "stream",
     "text": [
      "Your max_length is set to 120, but you input_length is only 41. You might consider decreasing max_length manually, e.g. summarizer('...', max_length=20)\n"
     ]
    },
    {
     "name": "stdout",
     "output_type": "stream",
     "text": [
      "191 https://pitchfork.com/features/article/the-obsessive-world-of-digital-music-collectors/\n",
      "192 https://thegadgetflow.com/portfolio/tiktaalik-mic-plus-high-tech-microphone-provides-hi-fi-sound-recording-noise-reduction/\n",
      "193 https://buff.ly/3LE8jfX\n",
      "194 https://bit.ly/38dr6Rw\n",
      "195 http://bit.ly/2J12Y50\n",
      "196 https://link.medium.com/XcxxRavdfqb\n"
     ]
    },
    {
     "name": "stderr",
     "output_type": "stream",
     "text": [
      "Your max_length is set to 120, but you input_length is only 116. You might consider decreasing max_length manually, e.g. summarizer('...', max_length=58)\n"
     ]
    },
    {
     "name": "stdout",
     "output_type": "stream",
     "text": [
      "197 http://p4k.in/3p13XNn\n",
      "198 https://pandora.app.link/nt3akdxGoqb\n",
      "199 https://www.matonizz.com/.../armed-forces-salute-low-brass/\n"
     ]
    },
    {
     "name": "stderr",
     "output_type": "stream",
     "text": [
      "Your max_length is set to 120, but you input_length is only 75. You might consider decreasing max_length manually, e.g. summarizer('...', max_length=37)\n"
     ]
    },
    {
     "name": "stdout",
     "output_type": "stream",
     "text": [
      "200 https://cincinnatilibrary.bibliocommons.com/v2/record/S170C3108404\n",
      "201 https://trustmytutor.com/2022/05/22/for-this-project-you-enhance-the-functionality-of-the-database-for-a-friends-music-collection/\n",
      "202 https://americanessays.net/2022/05/22/for-this-project-you-enhance-the-functionality-of-the-database-for-a-friends-music-collection/\n",
      "203 https://essayquest.net/for-this-project-you-enhance-the-functionality-of-the-database-for-a-friends-music-collection/\n"
     ]
    },
    {
     "name": "stderr",
     "output_type": "stream",
     "text": [
      "Your max_length is set to 120, but you input_length is only 115. You might consider decreasing max_length manually, e.g. summarizer('...', max_length=57)\n"
     ]
    },
    {
     "name": "stdout",
     "output_type": "stream",
     "text": [
      "204 https://www.discoverlbj.org\n",
      "205 https://www.musicnotes.com/l/socials-sale\n",
      "206 https://getkidsintomusic.com/2022/05/16/where-to-buy-sheet-music-online/\n",
      "207 http://blog.archive.org/2022/05/25/music-library-association-opens-its-publications-at-internet-archive/\n",
      "208 https://bit.ly/2NMUrrQ\n"
     ]
    },
    {
     "name": "stderr",
     "output_type": "stream",
     "text": [
      "Your max_length is set to 120, but you input_length is only 80. You might consider decreasing max_length manually, e.g. summarizer('...', max_length=40)\n"
     ]
    },
    {
     "name": "stdout",
     "output_type": "stream",
     "text": [
      "209 http://dlvr.it/SR9ZFr\n",
      "210 http://bit.ly/vintagehymns\n",
      "211 https://www.sheetmusicplus.com/search?Ntt=Masakazu+YAMAMOTO\n",
      "212 https://hermitage-crabapple.amebaownd.com/pages/5181126/page_202108140852\n"
     ]
    },
    {
     "name": "stderr",
     "output_type": "stream",
     "text": [
      "Your max_length is set to 120, but you input_length is only 116. You might consider decreasing max_length manually, e.g. summarizer('...', max_length=58)\n"
     ]
    },
    {
     "name": "stdout",
     "output_type": "stream",
     "text": [
      "213 https://pitchfork.com/features/article/everything-you-need-to-build-your-own-digital-music-collection/?bxid=5cb4e266fc942d6faa5d2e38&cndid=35584331&esrc=subscribe-page&hasha=8fa45db03cc5b70f8851de248ead1333&hashb=50b4197c6b7bf57ec9978b843d1a6e32670e29a3&hashc=c7be7586a9cf60aaec6a9812f69f13c266f7f21be7d4d6a86e917886ab5ed3f8&utm_brand=p4k&utm_campaign=aud-dev&utm_mailing=P4K_HotLinks_052622&utm_medium=email&utm_source=nl&utm_term=P4K_HotLinks_NewMusic\n"
     ]
    },
    {
     "name": "stderr",
     "output_type": "stream",
     "text": [
      "Your max_length is set to 120, but you input_length is only 116. You might consider decreasing max_length manually, e.g. summarizer('...', max_length=58)\n"
     ]
    },
    {
     "name": "stdout",
     "output_type": "stream",
     "text": [
      "214 https://pitchfork.com/features/article/everything-you-need-to-build-your-own-digital-music-collection/\n"
     ]
    },
    {
     "name": "stderr",
     "output_type": "stream",
     "text": [
      "Your max_length is set to 120, but you input_length is only 41. You might consider decreasing max_length manually, e.g. summarizer('...', max_length=20)\n"
     ]
    },
    {
     "name": "stdout",
     "output_type": "stream",
     "text": [
      "215 http://p4k.in/4FQjw2m\n",
      "216 https://ift.tt/g3AcGEM\n",
      "217 https://drive.google.com/file/d/1xedXiAKs50VKqkTEahVwNcWIUw81Rzp4/view?usp=sharing\n",
      "218 http://bit.ly/PMLLACL\n",
      "219 https://cincinnatilibrary.bibliocommons.com/v2/record/S170C2591586\n",
      "220 http://dlvr.it/SR6WdT\n"
     ]
    },
    {
     "name": "stderr",
     "output_type": "stream",
     "text": [
      "Your max_length is set to 120, but you input_length is only 29. You might consider decreasing max_length manually, e.g. summarizer('...', max_length=14)\n"
     ]
    },
    {
     "name": "stdout",
     "output_type": "stream",
     "text": [
      "221 https://researchbuzz.me/2022/05/28/music-library-association-global-solar-power-tracker-chrome-more-saturday-researchbuzz-may-28-2022/\n",
      "222 https://github.com/rgwood/ReiTunes\n",
      "223 https://www.onlineconverter.com/video-to-mp3\n"
     ]
    },
    {
     "name": "stderr",
     "output_type": "stream",
     "text": [
      "Your max_length is set to 120, but you input_length is only 40. You might consider decreasing max_length manually, e.g. summarizer('...', max_length=20)\n"
     ]
    },
    {
     "name": "stdout",
     "output_type": "stream",
     "text": [
      "224 https://www.dailymail.co.uk/news/article-10856403/Dead-Daylight-player-threatened-shoot-school-AR-15-days-Texas-massacre.html\n",
      "225 https://finnoexpert.com/2022/05/26/inakl-mini-digital-voice-recorder-voice-activated-stadalone-builtin-speaker-professional-audio-recorder-mp3-player-tf-card-dictaphone-record-microphone18-sound-recording/\n",
      "226 https://finnoexpert.com/2022/05/24/ae-mini-digital-voice-recorder-of-32-gb-micro-sd-card-supportable-professional-audio-recorder-mp-3-player-tf-card-dictaphone-record-microphone-sound-recording-device/\n",
      "227 https://www.gate.fm/wTVuR5bz\n",
      "228 https://www.complex.com/music/2020/08/frank-dukes-kingsway-music-library-could-change-sampling-forever?curator=MusicREDEF\n"
     ]
    },
    {
     "name": "stderr",
     "output_type": "stream",
     "text": [
      "Your max_length is set to 120, but you input_length is only 71. You might consider decreasing max_length manually, e.g. summarizer('...', max_length=35)\n"
     ]
    },
    {
     "name": "stdout",
     "output_type": "stream",
     "text": [
      "229 https://cincinnatilibrary.bibliocommons.com/v2/record/S170C2666240\n"
     ]
    },
    {
     "name": "stderr",
     "output_type": "stream",
     "text": [
      "Your max_length is set to 120, but you input_length is only 79. You might consider decreasing max_length manually, e.g. summarizer('...', max_length=39)\n"
     ]
    },
    {
     "name": "stdout",
     "output_type": "stream",
     "text": [
      "230 https://joinpeertube.org/\n"
     ]
    },
    {
     "name": "stderr",
     "output_type": "stream",
     "text": [
      "Your max_length is set to 120, but you input_length is only 81. You might consider decreasing max_length manually, e.g. summarizer('...', max_length=40)\n"
     ]
    },
    {
     "name": "stdout",
     "output_type": "stream",
     "text": [
      "231 https://nkd.su/added/2022-05-28/\n",
      "232 https://blog.arrangeme.com/blog/staccato-spotlight-james-michael-stevens?xnpe_tifc=buY8hkYZ4kYlOInj4kQ_OMpsafeWaeiLhkQZhM4DOuWLafUDaM4lhMhsa941bdiAbdeDEG8chMQSh.e.xknjxkh.4keL4I4NOnTT&utm_source=bloomreach&utm_campaign=AME%20Weekly%20Newsletter%20-%2005.27.22&utm_medium=email\n",
      "233 https://hermitage-crabapple.amebaownd.com/posts/categories/457101\n",
      "234 https://hermitage-crabapple.amebaownd.com/posts/categories/478682\n"
     ]
    },
    {
     "name": "stderr",
     "output_type": "stream",
     "text": [
      "Your max_length is set to 120, but you input_length is only 92. You might consider decreasing max_length manually, e.g. summarizer('...', max_length=46)\n"
     ]
    },
    {
     "name": "stdout",
     "output_type": "stream",
     "text": [
      "235 https://www.libraryplayer.co.uk/2021/07/musicsched.html\n",
      "236 https://ebook-globalink.blogspot.com/2022/05/over-it-explicit-lyrics.html\n",
      "237 https://www.sheetmusicdirect.com/en-US/se/ID_No/1137185/Product.aspx\n",
      "238 https://app.arts-people.com/index.php?ticketing=rgt\n",
      "239 https://bit.ly/2SiqC1M\n",
      "240 https://bit.ly/3leS6lO\n",
      "241 https://djhjmedia.com/rich/audio-file-found-on-hunter-bidens-laptop-reveals-conversation-bewteen-hunter-and-walmart-chairman-about-getting-rid-of-trump-audio/\n"
     ]
    },
    {
     "name": "stderr",
     "output_type": "stream",
     "text": [
      "Your max_length is set to 120, but you input_length is only 78. You might consider decreasing max_length manually, e.g. summarizer('...', max_length=39)\n"
     ]
    },
    {
     "name": "stdout",
     "output_type": "stream",
     "text": [
      "242 https://cincinnatilibrary.bibliocommons.com/v2/record/S170C2575452\n",
      "243 https://selectrecordingstudios.co.uk/blog/68-the-benefits-of-using-a-professional-recording-studio\n",
      "244 https://www.nfsa.gov.au/queervision\n"
     ]
    },
    {
     "name": "stderr",
     "output_type": "stream",
     "text": [
      "Your max_length is set to 120, but you input_length is only 76. You might consider decreasing max_length manually, e.g. summarizer('...', max_length=38)\n"
     ]
    },
    {
     "name": "stdout",
     "output_type": "stream",
     "text": [
      "245 https://bit.ly/370W63y\n",
      "246 https://cincinnatilibrary.bibliocommons.com/v2/record/S170C2606562\n"
     ]
    },
    {
     "name": "stderr",
     "output_type": "stream",
     "text": [
      "Your max_length is set to 120, but you input_length is only 79. You might consider decreasing max_length manually, e.g. summarizer('...', max_length=39)\n"
     ]
    },
    {
     "name": "stdout",
     "output_type": "stream",
     "text": [
      "247 https://jvz8.com/c/2456587/380418/\n",
      "248 http://Gofund.me/eb4ffff4\n",
      "249 https://www.magic109.com/\n"
     ]
    },
    {
     "name": "stderr",
     "output_type": "stream",
     "text": [
      "Your max_length is set to 120, but you input_length is only 73. You might consider decreasing max_length manually, e.g. summarizer('...', max_length=36)\n"
     ]
    },
    {
     "name": "stdout",
     "output_type": "stream",
     "text": [
      "250 https://cincinnatilibrary.bibliocommons.com/v2/record/S170C2745355\n",
      "251 https://bit.ly/3KUzClx\n",
      "252 https://www.sheetmusicplus.com/title/sweet-caroline-digital-sheet-music/20735458\n",
      "253 https://www.icantrustnetwork.co.uk/audio-files/the-hero-in-you-motivational-video-675\n"
     ]
    },
    {
     "name": "stderr",
     "output_type": "stream",
     "text": [
      "Your max_length is set to 120, but you input_length is only 62. You might consider decreasing max_length manually, e.g. summarizer('...', max_length=31)\n"
     ]
    },
    {
     "name": "stdout",
     "output_type": "stream",
     "text": [
      "254 https://cincinnatilibrary.bibliocommons.com/v2/record/S170C2706945\n",
      "255 https://bit.ly/36UVDQ9\n",
      "256 https://ebook-globalink.blogspot.com/2022/05/future-nostalgia-moonlight-edition.html\n",
      "257 https://ebook-globalink.blogspot.com/2022/05/heaven-hell.html\n",
      "258 http://bit.ly/3Gon854\n"
     ]
    },
    {
     "name": "stderr",
     "output_type": "stream",
     "text": [
      "Your max_length is set to 120, but you input_length is only 103. You might consider decreasing max_length manually, e.g. summarizer('...', max_length=51)\n"
     ]
    },
    {
     "name": "stdout",
     "output_type": "stream",
     "text": [
      "259 https://dynaud.io/3PHAnlt\n",
      "260 https://drive.google.com/file/d/17yYFnQ5IfL0XVADq_oSYo0bJDoqGFQek/view?usp=sharing\n",
      "261 https://topuniversitytutor.com/please-write-an-essay-and-make-a-transcription-for-the-short-audio-file/\n",
      "262 https://ebook-globalink.blogspot.com/2022/05/queen-explicit-lyrics.html\n",
      "263 https://ebook-globalink.blogspot.com/2022/05/camila.html\n",
      "264 https://ebook-globalink.blogspot.com/2022/05/sweetener-explicit-lyrics-ariana-grande.html\n",
      "265 https://www.wired.com/2001/02/music-archive-going-silent/amp\n"
     ]
    },
    {
     "name": "stderr",
     "output_type": "stream",
     "text": [
      "Your max_length is set to 120, but you input_length is only 70. You might consider decreasing max_length manually, e.g. summarizer('...', max_length=35)\n"
     ]
    },
    {
     "name": "stdout",
     "output_type": "stream",
     "text": [
      "266 http://ucla.in/3wJnHSB\n",
      "267 https://www.dropbox.com/s/ke85dvb7n19lrof/TFTGR_220522_Deadcast.mp3?dl=0\n"
     ]
    },
    {
     "name": "stderr",
     "output_type": "stream",
     "text": [
      "Your max_length is set to 120, but you input_length is only 69. You might consider decreasing max_length manually, e.g. summarizer('...', max_length=34)\n"
     ]
    },
    {
     "name": "stdout",
     "output_type": "stream",
     "text": [
      "268 https://cincinnatilibrary.bibliocommons.com/v2/record/S170C3331674\n",
      "269 https://cincinnatilibrary.bibliocommons.com/v2/record/S170C2628987\n",
      "270 https://bit.ly/3kVv0Ru\n",
      "271 https://ift.tt/PhT93H0\n",
      "272 https://cincinnatilibrary.bibliocommons.com/v2/record/S170C2544430\n",
      "273 https://cincinnatilibrary.bibliocommons.com/v2/record/S170C1776826\n"
     ]
    },
    {
     "name": "stderr",
     "output_type": "stream",
     "text": [
      "Your max_length is set to 120, but you input_length is only 77. You might consider decreasing max_length manually, e.g. summarizer('...', max_length=38)\n"
     ]
    },
    {
     "name": "stdout",
     "output_type": "stream",
     "text": [
      "274 https://cincinnatilibrary.bibliocommons.com/v2/record/S170C2578751\n"
     ]
    },
    {
     "name": "stderr",
     "output_type": "stream",
     "text": [
      "Your max_length is set to 120, but you input_length is only 66. You might consider decreasing max_length manually, e.g. summarizer('...', max_length=33)\n"
     ]
    },
    {
     "name": "stdout",
     "output_type": "stream",
     "text": [
      "275 https://cincinnatilibrary.bibliocommons.com/v2/record/S170C2624950\n",
      "276 http://blogbirder.blogspot.com/2022/05/sound-recording-collared-flycatcher.html\n"
     ]
    },
    {
     "name": "stderr",
     "output_type": "stream",
     "text": [
      "Your max_length is set to 120, but you input_length is only 66. You might consider decreasing max_length manually, e.g. summarizer('...', max_length=33)\n"
     ]
    },
    {
     "name": "stdout",
     "output_type": "stream",
     "text": [
      "277 https://cincinnatilibrary.bibliocommons.com/v2/record/S170C2654020\n",
      "278 https://bit.ly/3FUzGku\n",
      "279 https://radio.nrk.no/serie/ekko/sesong/202205/MDFP02008122#t=36m36s\n",
      "280 https://thewestcoastreader.com/new-language-added-to-b-c-newcomers-guide/\n"
     ]
    },
    {
     "name": "stderr",
     "output_type": "stream",
     "text": [
      "Your max_length is set to 120, but you input_length is only 101. You might consider decreasing max_length manually, e.g. summarizer('...', max_length=50)\n"
     ]
    },
    {
     "name": "stdout",
     "output_type": "stream",
     "text": [
      "281 https://www.sheetmusicplus.com/title/theme-for-young-love-for-soprano-flute-piano-digital-sheet-music/20696264\n",
      "282 https://bit.ly/3LWcBA9\n"
     ]
    },
    {
     "name": "stderr",
     "output_type": "stream",
     "text": [
      "Your max_length is set to 120, but you input_length is only 74. You might consider decreasing max_length manually, e.g. summarizer('...', max_length=37)\n"
     ]
    },
    {
     "name": "stdout",
     "output_type": "stream",
     "text": [
      "283 https://cincinnatilibrary.bibliocommons.com/v2/record/S170C3120786\n"
     ]
    },
    {
     "name": "stderr",
     "output_type": "stream",
     "text": [
      "Your max_length is set to 120, but you input_length is only 65. You might consider decreasing max_length manually, e.g. summarizer('...', max_length=32)\n"
     ]
    },
    {
     "name": "stdout",
     "output_type": "stream",
     "text": [
      "284 https://cincinnatilibrary.bibliocommons.com/v2/record/S170C2654041\n",
      "285 https://www.suburbspod.com/radio/\n"
     ]
    },
    {
     "name": "stderr",
     "output_type": "stream",
     "text": [
      "Your max_length is set to 120, but you input_length is only 65. You might consider decreasing max_length manually, e.g. summarizer('...', max_length=32)\n"
     ]
    },
    {
     "name": "stdout",
     "output_type": "stream",
     "text": [
      "286 https://cincinnatilibrary.bibliocommons.com/v2/record/S170C2642159\n"
     ]
    },
    {
     "name": "stderr",
     "output_type": "stream",
     "text": [
      "Your max_length is set to 120, but you input_length is only 117. You might consider decreasing max_length manually, e.g. summarizer('...', max_length=58)\n"
     ]
    },
    {
     "name": "stdout",
     "output_type": "stream",
     "text": [
      "287 https://is.gd/46O1v8\n",
      "288 https://cincinnatilibrary.bibliocommons.com/v2/record/S170C2681183\n",
      "289 https://bit.ly/386toBX\n"
     ]
    },
    {
     "name": "stderr",
     "output_type": "stream",
     "text": [
      "Your max_length is set to 120, but you input_length is only 41. You might consider decreasing max_length manually, e.g. summarizer('...', max_length=20)\n"
     ]
    },
    {
     "name": "stdout",
     "output_type": "stream",
     "text": [
      "290 https://pitchfork.com/features/article/the-obsessive-world-of-digital-music-collectors/?utm_source=twitter&mbid=social_twitter&utm_social-type=owned&utm_medium=social&utm_brand=p4k\n",
      "291 https://cincinnatilibrary.bibliocommons.com/v2/record/S170C2714773\n",
      "292 https://tfiglobalnews.com/2022/05/24/china-executes-4-of-its-top-generals-as-a-civil-war-breaks-out/\n",
      "293 https://bit.ly/3KV4oej\n",
      "294 https://cincinnatilibrary.bibliocommons.com/v2/record/S170C2748690\n"
     ]
    },
    {
     "name": "stderr",
     "output_type": "stream",
     "text": [
      "Your max_length is set to 120, but you input_length is only 63. You might consider decreasing max_length manually, e.g. summarizer('...', max_length=31)\n"
     ]
    },
    {
     "name": "stdout",
     "output_type": "stream",
     "text": [
      "295 https://cincinnatilibrary.bibliocommons.com/v2/record/S170C2713491\n"
     ]
    },
    {
     "name": "stderr",
     "output_type": "stream",
     "text": [
      "Your max_length is set to 120, but you input_length is only 64. You might consider decreasing max_length manually, e.g. summarizer('...', max_length=32)\n"
     ]
    },
    {
     "name": "stdout",
     "output_type": "stream",
     "text": [
      "296 https://cincinnatilibrary.bibliocommons.com/v2/record/S170C2594059\n",
      "297 https://cincinnatilibrary.bibliocommons.com/v2/record/S170C3486698\n",
      "298 https://130701.biglink.to/Ravage\n"
     ]
    },
    {
     "name": "stderr",
     "output_type": "stream",
     "text": [
      "Your max_length is set to 120, but you input_length is only 77. You might consider decreasing max_length manually, e.g. summarizer('...', max_length=38)\n"
     ]
    },
    {
     "name": "stdout",
     "output_type": "stream",
     "text": [
      "299 https://cincinnatilibrary.bibliocommons.com/v2/record/S170C1985155\n",
      "300 https://cincinnatilibrary.bibliocommons.com/v2/record/S170C2744652\n"
     ]
    },
    {
     "name": "stderr",
     "output_type": "stream",
     "text": [
      "Your max_length is set to 120, but you input_length is only 84. You might consider decreasing max_length manually, e.g. summarizer('...', max_length=42)\n"
     ]
    },
    {
     "name": "stdout",
     "output_type": "stream",
     "text": [
      "301 https://cincinnatilibrary.bibliocommons.com/v2/record/S170C3462969\n"
     ]
    },
    {
     "name": "stderr",
     "output_type": "stream",
     "text": [
      "Your max_length is set to 120, but you input_length is only 73. You might consider decreasing max_length manually, e.g. summarizer('...', max_length=36)\n"
     ]
    },
    {
     "name": "stdout",
     "output_type": "stream",
     "text": [
      "302 https://cincinnatilibrary.bibliocommons.com/v2/record/S170C2675551\n"
     ]
    },
    {
     "name": "stderr",
     "output_type": "stream",
     "text": [
      "Your max_length is set to 120, but you input_length is only 80. You might consider decreasing max_length manually, e.g. summarizer('...', max_length=40)\n"
     ]
    },
    {
     "name": "stdout",
     "output_type": "stream",
     "text": [
      "303 https://cincinnatilibrary.bibliocommons.com/v2/record/S170C2576245\n",
      "304 https://payhip.com/b/AS6PX\n",
      "305 https://drakoniandgriffalco.blogspot.com/2020/08/the-audio-file-harlem-queen.html?m=1\n",
      "306 https://drakoniandgriffalco.blogspot.com/2022/01/the-audio-file-carlotta-beautox.html?m=1\n",
      "307 https://cincinnatilibrary.bibliocommons.com/v2/record/S170C1929106\n",
      "308 http://p4k.in/IA9NN1s\n",
      "309 http://blogbirder.blogspot.com/2022/05/sound-recording-great-reed-warbler.html?m=1\n",
      "310 https://bit.ly/3GaLeju\n",
      "311 https://bit.ly/3GbO3AQ\n",
      "312 https://www.dropbox.com/s/6hqp1mym2119u6s/Sparkle%20Squad%20FAQ%20audio.mp3?dl=0\n"
     ]
    },
    {
     "name": "stderr",
     "output_type": "stream",
     "text": [
      "Your max_length is set to 120, but you input_length is only 76. You might consider decreasing max_length manually, e.g. summarizer('...', max_length=38)\n"
     ]
    },
    {
     "name": "stdout",
     "output_type": "stream",
     "text": [
      "313 https://cincinnatilibrary.bibliocommons.com/v2/record/S170C2565157\n",
      "314 https://www.queenslibrary.org/cd/Plastic-hearts-[sound-recording]/2411783\n",
      "315 https://www.queenslibrary.org/search/book?searchField=Schitt%27s+Creek&category=book&searchFilter=\n",
      "316 https://www.bl.uk/help/how-to-care-for-sound-recording-collections\n"
     ]
    },
    {
     "name": "stderr",
     "output_type": "stream",
     "text": [
      "Your max_length is set to 120, but you input_length is only 68. You might consider decreasing max_length manually, e.g. summarizer('...', max_length=34)\n"
     ]
    },
    {
     "name": "stdout",
     "output_type": "stream",
     "text": [
      "317 https://cincinnatilibrary.bibliocommons.com/v2/record/S170C2521999\n",
      "318 https://www.nrj.fr/actus/evenements-nrj/nrj-dj-talent-2021-71354122\n"
     ]
    },
    {
     "name": "stderr",
     "output_type": "stream",
     "text": [
      "Your max_length is set to 120, but you input_length is only 54. You might consider decreasing max_length manually, e.g. summarizer('...', max_length=27)\n"
     ]
    },
    {
     "name": "stdout",
     "output_type": "stream",
     "text": [
      "319 http://www.opusip.co.uk/2022/05/25/punjab-and-haryana-high-court-fair-use-of-copyrighted-sound-recording-executive-cannot-exempt-use-200044/\n",
      "320 https://bit.ly/3MVLsxM\n",
      "321 https://anchor.fm/dawg-pound-lounge/episodes/We-Got-Clowney-Quick-Pod-Join-me-for-the-next-Ep-e1ivl7l\n",
      "322 https://bit.ly/3FyuhQ0\n"
     ]
    },
    {
     "name": "stderr",
     "output_type": "stream",
     "text": [
      "Your max_length is set to 120, but you input_length is only 114. You might consider decreasing max_length manually, e.g. summarizer('...', max_length=57)\n"
     ]
    },
    {
     "name": "stdout",
     "output_type": "stream",
     "text": [
      "323 https://drive.google.com/drive/folders/1loeAxbPdWJOIEcSO1jxQ2rbZxSV1fcEk\n",
      "324 https://okt.to/m7FsMY\n",
      "325 http://blogbirder.blogspot.com/2022/05/sound-recording-red-breasted-flycatcher.html?m=1\n",
      "326 https://cincinnatilibrary.bibliocommons.com/v2/record/S170C2035349\n"
     ]
    },
    {
     "name": "stderr",
     "output_type": "stream",
     "text": [
      "Your max_length is set to 120, but you input_length is only 79. You might consider decreasing max_length manually, e.g. summarizer('...', max_length=39)\n"
     ]
    },
    {
     "name": "stdout",
     "output_type": "stream",
     "text": [
      "327 https://cincinnatilibrary.bibliocommons.com/v2/record/S170C2656677\n",
      "328 https://okt.to/rDMaht\n",
      "329 https://www.sheetmusicplus.com/title/prelude-in-g-minor-military-of-rachmaninoff-for-piano-solo-digital-sheet-music/20796077\n"
     ]
    },
    {
     "name": "stderr",
     "output_type": "stream",
     "text": [
      "Your max_length is set to 120, but you input_length is only 83. You might consider decreasing max_length manually, e.g. summarizer('...', max_length=41)\n"
     ]
    },
    {
     "name": "stdout",
     "output_type": "stream",
     "text": [
      "330 https://arstechnica.com/?p=1849747\n",
      "331 https://mailchi.mp/a30a4f68d73c/what-300-february-26-14973589\n",
      "332 http://appsumo.8odi.net/3P0WzB\n",
      "333 https://www.sheetmusicplus.com/title/22286394\n",
      "334 https://www.sheetmusicplus.com/title/22286402\n",
      "335 https://www.sheetmusicplus.com/title/sieben-deutches-kirchegesnge-seven-german-hymns-for-satb-choir-a-cappella-digital-sheet-music/22287530?ac=1\n"
     ]
    },
    {
     "name": "stderr",
     "output_type": "stream",
     "text": [
      "Your max_length is set to 120, but you input_length is only 73. You might consider decreasing max_length manually, e.g. summarizer('...', max_length=36)\n"
     ]
    },
    {
     "name": "stdout",
     "output_type": "stream",
     "text": [
      "336 https://cincinnatilibrary.bibliocommons.com/v2/record/S170C3158267\n"
     ]
    },
    {
     "name": "stderr",
     "output_type": "stream",
     "text": [
      "Your max_length is set to 120, but you input_length is only 82. You might consider decreasing max_length manually, e.g. summarizer('...', max_length=41)\n"
     ]
    },
    {
     "name": "stdout",
     "output_type": "stream",
     "text": [
      "337 https://ift.tt/0uHDMFp\n",
      "338 https://bit.ly/mptshighlights\n",
      "339 https://camrosepubliclibrary.buzzsprout.com/\n",
      "340 https://drive.google.com/file/d/10Fe5h1V_qJOA_k_5934Q1syKIJKXevdX/view?usp=drivesdk\n",
      "341 http://shorturl.at/oxG58\n",
      "342 https://cincinnatilibrary.bibliocommons.com/v2/record/S170C2630950\n",
      "343 https://drakoniandgriffalco.blogspot.com/2022/05/the-audio-file-luchador-1000-fights-of.html?m=1\n",
      "344 https://www.sheetmusicplus.com/title/the-best-songs-ever-6th-edition-easy-piano-sheet-music/2931625\n",
      "345 https://dynaud.io/3yWmdHc\n",
      "346 https://assetstore.unity.com/packages/audio/music/orchestral/ultimate-game-music-collection-37351?aid=1011l7qkc\n",
      "347 https://nvd.nist.gov/vuln/detail/CVE-2021-30962\n"
     ]
    },
    {
     "name": "stderr",
     "output_type": "stream",
     "text": [
      "Your max_length is set to 120, but you input_length is only 84. You might consider decreasing max_length manually, e.g. summarizer('...', max_length=42)\n"
     ]
    },
    {
     "name": "stdout",
     "output_type": "stream",
     "text": [
      "348 https://cincinnatilibrary.bibliocommons.com/v2/record/S170C2990857\n",
      "349 https://culturednoise.com/music-library/\n",
      "350 https://os5.mycloud.com/action/share/1d086fa3-175c-48ee-8251-1f85e5ac6715\n",
      "351 https://os5.mycloud.com/action/share/c7c00b47-df9d-4ac9-8052-5f60ce559064\n",
      "352 https://www.dropbox.com/s/5zthuoc0dhiqyxo/Not_Brahms_and_Liszt_2022_05_23_AS.wav\n",
      "353 https://alleystoughton.us/not-brahms-and-liszt/#show320\n",
      "354 https://www.livelaw.in/news-updates/punjab-and-haryana-high-court-fair-use-of-copyrighted-sound-recording-executive-cannot-exempt-use-200044\n",
      "355 https://www.sheetmusicplus.com/title/succeeding-at-the-piano-lesson-technique-book-preparatory-2nd-edition-sheet-music/20342887?gclid=CjwKCAjwjbCDBhAwEiwAiudBy-OqiGORg4p4L3J65SBYE_IZUVou0F4gEnsl6Koq5BQhwrD2-4S7MBoCHOAQAvD_BwE&adid=282469060297&d=sem_ggl_Brand_sheet%20music%20plus&popup=false&ac=1&opttest=Brand&aff_id=250215&aff_id=250215\n"
     ]
    },
    {
     "name": "stderr",
     "output_type": "stream",
     "text": [
      "Your max_length is set to 120, but you input_length is only 62. You might consider decreasing max_length manually, e.g. summarizer('...', max_length=31)\n"
     ]
    },
    {
     "name": "stdout",
     "output_type": "stream",
     "text": [
      "356 https://cincinnatilibrary.bibliocommons.com/v2/record/S170C2530712\n"
     ]
    },
    {
     "name": "stderr",
     "output_type": "stream",
     "text": [
      "Your max_length is set to 120, but you input_length is only 113. You might consider decreasing max_length manually, e.g. summarizer('...', max_length=56)\n"
     ]
    },
    {
     "name": "stdout",
     "output_type": "stream",
     "text": [
      "357 https://www.musicteachermagazine.co.uk/review/article/choral-sheet-music-reviews-in-the-deep?utm_medium=Social&utm_source=Twitter#Echobox=1653478752\n",
      "358 https://www.umusicpub.com/jp/Digital-Music-Library/search/castlevania\n",
      "359 https://www.weddingvenuesinsomerset.co.uk/photobooth-hire-in-somerset\n",
      "360 http://www.sheetmusicplus.com/title/20949071\n",
      "361 http://www.sheetmusicplus.com/title/21292847\n"
     ]
    },
    {
     "name": "stderr",
     "output_type": "stream",
     "text": [
      "Your max_length is set to 120, but you input_length is only 54. You might consider decreasing max_length manually, e.g. summarizer('...', max_length=27)\n"
     ]
    },
    {
     "name": "stdout",
     "output_type": "stream",
     "text": [
      "362 https://littlehartleymusic.com.au/category/sheet-music-downloads/\n",
      "363 https://ift.tt/ALb4QSd\n",
      "364 https://ift.tt/JMYueK9\n"
     ]
    },
    {
     "name": "stderr",
     "output_type": "stream",
     "text": [
      "Your max_length is set to 120, but you input_length is only 84. You might consider decreasing max_length manually, e.g. summarizer('...', max_length=42)\n"
     ]
    },
    {
     "name": "stdout",
     "output_type": "stream",
     "text": [
      "365 https://shopyonline.com/talking-hamster-plush-toy/\n",
      "366 https://zoneluxe.store/talking-hamster-plush-toy/\n",
      "367 https://optimalpurchase.shop/talking-hamster-plush-toy/\n"
     ]
    },
    {
     "name": "stderr",
     "output_type": "stream",
     "text": [
      "Your max_length is set to 120, but you input_length is only 84. You might consider decreasing max_length manually, e.g. summarizer('...', max_length=42)\n"
     ]
    },
    {
     "name": "stdout",
     "output_type": "stream",
     "text": [
      "368 https://myfavoritechoice.com/talking-hamster-plush-toy/\n",
      "369 https://happygallery.shop/talking-hamster-plush-toy/\n",
      "370 https://marketplacetreasure.shop/talking-hamster-plush-toy/\n",
      "371 https://spinitsmart.com/talking-hamster-plush-toy/\n"
     ]
    },
    {
     "name": "stderr",
     "output_type": "stream",
     "text": [
      "Your max_length is set to 120, but you input_length is only 88. You might consider decreasing max_length manually, e.g. summarizer('...', max_length=44)\n"
     ]
    },
    {
     "name": "stdout",
     "output_type": "stream",
     "text": [
      "372 http://audio-file.org/2022/05/22/cleanfeed-online-recording-studio/\n",
      "373 https://medium.com/@r.winfield/your-music-collection-is-so-fascinating-a-joy-ride-its-understandable-how-you-revisit-the-70-s-5ab6086c576d\n",
      "374 http://www.sheetmusicplus.com/title/20663966\n",
      "375 http://bit.ly/3GibcSq\n",
      "376 http://www.sheetmusicplus.com/title/21708423\n",
      "377 http://www.sheetmusicplus.com/title/22030540\n",
      "378 http://www.sheetmusicplus.com/title/20768915\n",
      "379 https://www.musicnotes.com/sheet-music/artist/wei-nin\n",
      "380 https://www.sheetmusicplus.com/title/jesus-keep-me-near-the-cross-digital-sheet-music/22288674\n",
      "381 https://www.sheetmusicplus.com/title/fy-gwanwyn-sky-digital-sheet-music/22286220\n",
      "382 http://www.sheetmusicplus.com/title/20385871\n",
      "383 https://assetstore.unity.com/packages/audio/music/orchestral/total-music-collection-89126?aid=1011l7qkc\n",
      "384 https://buff.ly/3PUXIk2\n",
      "385 https://qz.com/840661/what-cd-is-gone-a-eulogy-for-the-greatest-music-collection-in-the-world/\n",
      "386 http://www.sheetmusicplus.com/title/22160947\n",
      "387 http://www.sheetmusicplus.com/title/20679578\n",
      "388 http://p4k.in/z4uXGYp\n"
     ]
    },
    {
     "name": "stderr",
     "output_type": "stream",
     "text": [
      "Your max_length is set to 120, but you input_length is only 114. You might consider decreasing max_length manually, e.g. summarizer('...', max_length=57)\n"
     ]
    },
    {
     "name": "stdout",
     "output_type": "stream",
     "text": [
      "389 http://audio-file.org/2022/05/25/quiet-on-the-set-windows-volume-limiter/\n",
      "337\n"
     ]
    },
    {
     "data": {
      "text/html": [
       "<div>\n",
       "<style scoped>\n",
       "    .dataframe tbody tr th:only-of-type {\n",
       "        vertical-align: middle;\n",
       "    }\n",
       "\n",
       "    .dataframe tbody tr th {\n",
       "        vertical-align: top;\n",
       "    }\n",
       "\n",
       "    .dataframe thead th {\n",
       "        text-align: right;\n",
       "    }\n",
       "</style>\n",
       "<table border=\"1\" class=\"dataframe\">\n",
       "  <thead>\n",
       "    <tr style=\"text-align: right;\">\n",
       "      <th></th>\n",
       "      <th>tweet</th>\n",
       "      <th>Prediction</th>\n",
       "      <th>Score</th>\n",
       "      <th>Probability</th>\n",
       "      <th>Input Length</th>\n",
       "      <th>URL</th>\n",
       "      <th>Search KW</th>\n",
       "      <th>tweet date</th>\n",
       "      <th>user</th>\n",
       "      <th>tweet id</th>\n",
       "      <th>Title</th>\n",
       "      <th>Description</th>\n",
       "    </tr>\n",
       "  </thead>\n",
       "  <tbody>\n",
       "    <tr>\n",
       "      <th>0</th>\n",
       "      <td>Fur Elise sheet music (Ludwig van Beethoven mu...</td>\n",
       "      <td>1</td>\n",
       "      <td>8.546705</td>\n",
       "      <td>0.999806</td>\n",
       "      <td>80</td>\n",
       "      <td>https://sheetmusic.kongashare.com/fur-elise-sh...</td>\n",
       "      <td>\"sheet music\" -is:retweet</td>\n",
       "      <td>2022-05-25</td>\n",
       "      <td>konga_share</td>\n",
       "      <td>1529256862230712320</td>\n",
       "      <td>Fur Elise sheet music (Ludwig van Beethoven mu...</td>\n",
       "      <td>The music is composed of a well-known compose...</td>\n",
       "    </tr>\n",
       "    <tr>\n",
       "      <th>1</th>\n",
       "      <td>CINEMA PARADISO, ENNIO MORRICONE with sheet mu...</td>\n",
       "      <td>1</td>\n",
       "      <td>8.145584</td>\n",
       "      <td>0.99971</td>\n",
       "      <td>101</td>\n",
       "      <td>https://sheetmusiclibrary.website/2022/05/24/c...</td>\n",
       "      <td>\"sheet music\" -is:retweet</td>\n",
       "      <td>2022-05-24</td>\n",
       "      <td>LibrarySheet</td>\n",
       "      <td>1529177480149487616</td>\n",
       "      <td>CINEMA PARADISO, ENNIO MORRICONE With Sheet Mu...</td>\n",
       "      <td>The Creative Development of Johann Sebastian ...</td>\n",
       "    </tr>\n",
       "    <tr>\n",
       "      <th>2</th>\n",
       "      <td>Wagner - The Ride of the Valkyries (piano solo...</td>\n",
       "      <td>1</td>\n",
       "      <td>8.075519</td>\n",
       "      <td>0.999689</td>\n",
       "      <td>116</td>\n",
       "      <td>https://sheetmusiclibrary.website/2022/05/02/w...</td>\n",
       "      <td>\"sheet music\" -is:retweet</td>\n",
       "      <td>2022-05-27</td>\n",
       "      <td>LibrarySheet</td>\n",
       "      <td>1530261038968582145</td>\n",
       "      <td>Wagner - The Ride Of The Valkyries (piano Solo...</td>\n",
       "      <td>The Ride of the Valkyries or Valkyrie Ride is...</td>\n",
       "    </tr>\n",
       "    <tr>\n",
       "      <th>3</th>\n",
       "      <td>Elton John – Rocket Man (Piano solo) with shee...</td>\n",
       "      <td>1</td>\n",
       "      <td>7.9908</td>\n",
       "      <td>0.999662</td>\n",
       "      <td>105</td>\n",
       "      <td>https://sheetmusiclibrary.website/2022/05/24/e...</td>\n",
       "      <td>\"sheet music\" -is:retweet</td>\n",
       "      <td>2022-05-24</td>\n",
       "      <td>LibrarySheet</td>\n",
       "      <td>1529176305358487552</td>\n",
       "      <td>Elton John – Rocket Man (Piano Solo) With Shee...</td>\n",
       "      <td>Elton John: 'I want to write more musicals an...</td>\n",
       "    </tr>\n",
       "    <tr>\n",
       "      <th>4</th>\n",
       "      <td>Beethoven-Liszt - Symphony No. 3, Op. 55 (Pian...</td>\n",
       "      <td>1</td>\n",
       "      <td>7.861649</td>\n",
       "      <td>0.999615</td>\n",
       "      <td>122</td>\n",
       "      <td>https://sheetmusiclibrary.website/2022/05/23/b...</td>\n",
       "      <td>\"music library\" -is:retweet</td>\n",
       "      <td>2022-05-23</td>\n",
       "      <td>LibrarySheet</td>\n",
       "      <td>1528689728219914241</td>\n",
       "      <td>Beethoven-Liszt - Symphony No. 3, Op. 55 (Pian...</td>\n",
       "      <td>Beethoven-Liszt – Symphony No. 3, Op.  55 (Pi...</td>\n",
       "    </tr>\n",
       "    <tr>\n",
       "      <th>...</th>\n",
       "      <td>...</td>\n",
       "      <td>...</td>\n",
       "      <td>...</td>\n",
       "      <td>...</td>\n",
       "      <td>...</td>\n",
       "      <td>...</td>\n",
       "      <td>...</td>\n",
       "      <td>...</td>\n",
       "      <td>...</td>\n",
       "      <td>...</td>\n",
       "      <td>...</td>\n",
       "      <td>...</td>\n",
       "    </tr>\n",
       "    <tr>\n",
       "      <th>332</th>\n",
       "      <td>This Month in Digital Music Libraries - May 20...</td>\n",
       "      <td>1</td>\n",
       "      <td>0.214171</td>\n",
       "      <td>0.553339</td>\n",
       "      <td>96</td>\n",
       "      <td>https://buff.ly/3PUXIk2</td>\n",
       "      <td>\"music library\" -is:retweet</td>\n",
       "      <td>2022-05-26</td>\n",
       "      <td>bliss_music</td>\n",
       "      <td>1529851364108554240</td>\n",
       "      <td>This month in digital music libraries - May 20...</td>\n",
       "      <td>This month in digital music libraries - May 2...</td>\n",
       "    </tr>\n",
       "    <tr>\n",
       "      <th>333</th>\n",
       "      <td>Buy my sheetmusic 'If I Fell' on SheetMusicPlu...</td>\n",
       "      <td>1</td>\n",
       "      <td>0.178405</td>\n",
       "      <td>0.544483</td>\n",
       "      <td>72</td>\n",
       "      <td>http://www.sheetmusicplus.com/title/22160947</td>\n",
       "      <td>\"sheet music\" -is:retweet</td>\n",
       "      <td>2022-05-25</td>\n",
       "      <td>Clavi10Claudio</td>\n",
       "      <td>1529441719166676993</td>\n",
       "      <td>If I Fell By John Lennon And Paul McCartney - ...</td>\n",
       "      <td>There are currently no items in your cart.  W...</td>\n",
       "    </tr>\n",
       "    <tr>\n",
       "      <th>334</th>\n",
       "      <td>Buy my sheetmusic 'Summer Nights' on SheetMusi...</td>\n",
       "      <td>1</td>\n",
       "      <td>0.157613</td>\n",
       "      <td>0.539322</td>\n",
       "      <td>76</td>\n",
       "      <td>http://www.sheetmusicplus.com/title/20679578</td>\n",
       "      <td>\"sheet music\" -is:retweet</td>\n",
       "      <td>2022-05-26</td>\n",
       "      <td>Clavi10Claudio</td>\n",
       "      <td>1529920839596003347</td>\n",
       "      <td>Summer Nights By Warren Casey And Jim Jacobs -...</td>\n",
       "      <td>There are currently no items in your cart.  W...</td>\n",
       "    </tr>\n",
       "    <tr>\n",
       "      <th>335</th>\n",
       "      <td>Ready to say goodbye to streaming services? We...</td>\n",
       "      <td>1</td>\n",
       "      <td>0.077469</td>\n",
       "      <td>0.519358</td>\n",
       "      <td>92</td>\n",
       "      <td>http://p4k.in/z4uXGYp</td>\n",
       "      <td>\"music collection\" -is:retweet</td>\n",
       "      <td>2022-05-26</td>\n",
       "      <td>pitchfork</td>\n",
       "      <td>1529972974228496386</td>\n",
       "      <td>Everything You Need to Build Your Own Digital ...</td>\n",
       "      <td>A Network Attached Storage (NAS) box is the i...</td>\n",
       "    </tr>\n",
       "    <tr>\n",
       "      <th>336</th>\n",
       "      <td>Quiet on the Set ~ Windows Volume Limiter http...</td>\n",
       "      <td>1</td>\n",
       "      <td>0.022436</td>\n",
       "      <td>0.505609</td>\n",
       "      <td>65</td>\n",
       "      <td>http://audio-file.org/2022/05/25/quiet-on-the-...</td>\n",
       "      <td>\"audio file\" -is:retweet</td>\n",
       "      <td>2022-05-25</td>\n",
       "      <td>tom2tec</td>\n",
       "      <td>1529474640451608586</td>\n",
       "      <td>Quiet on the Set ~ Windows Volume Limiter | Th...</td>\n",
       "      <td>This app is primarily geared toward young/spe...</td>\n",
       "    </tr>\n",
       "  </tbody>\n",
       "</table>\n",
       "<p>337 rows × 12 columns</p>\n",
       "</div>"
      ],
      "text/plain": [
       "                                                 tweet Prediction     Score  \\\n",
       "0    Fur Elise sheet music (Ludwig van Beethoven mu...          1  8.546705   \n",
       "1    CINEMA PARADISO, ENNIO MORRICONE with sheet mu...          1  8.145584   \n",
       "2    Wagner - The Ride of the Valkyries (piano solo...          1  8.075519   \n",
       "3    Elton John – Rocket Man (Piano solo) with shee...          1    7.9908   \n",
       "4    Beethoven-Liszt - Symphony No. 3, Op. 55 (Pian...          1  7.861649   \n",
       "..                                                 ...        ...       ...   \n",
       "332  This Month in Digital Music Libraries - May 20...          1  0.214171   \n",
       "333  Buy my sheetmusic 'If I Fell' on SheetMusicPlu...          1  0.178405   \n",
       "334  Buy my sheetmusic 'Summer Nights' on SheetMusi...          1  0.157613   \n",
       "335  Ready to say goodbye to streaming services? We...          1  0.077469   \n",
       "336  Quiet on the Set ~ Windows Volume Limiter http...          1  0.022436   \n",
       "\n",
       "    Probability Input Length  \\\n",
       "0      0.999806           80   \n",
       "1       0.99971          101   \n",
       "2      0.999689          116   \n",
       "3      0.999662          105   \n",
       "4      0.999615          122   \n",
       "..          ...          ...   \n",
       "332    0.553339           96   \n",
       "333    0.544483           72   \n",
       "334    0.539322           76   \n",
       "335    0.519358           92   \n",
       "336    0.505609           65   \n",
       "\n",
       "                                                   URL  \\\n",
       "0    https://sheetmusic.kongashare.com/fur-elise-sh...   \n",
       "1    https://sheetmusiclibrary.website/2022/05/24/c...   \n",
       "2    https://sheetmusiclibrary.website/2022/05/02/w...   \n",
       "3    https://sheetmusiclibrary.website/2022/05/24/e...   \n",
       "4    https://sheetmusiclibrary.website/2022/05/23/b...   \n",
       "..                                                 ...   \n",
       "332                            https://buff.ly/3PUXIk2   \n",
       "333       http://www.sheetmusicplus.com/title/22160947   \n",
       "334       http://www.sheetmusicplus.com/title/20679578   \n",
       "335                              http://p4k.in/z4uXGYp   \n",
       "336  http://audio-file.org/2022/05/25/quiet-on-the-...   \n",
       "\n",
       "                          Search KW  tweet date            user  \\\n",
       "0         \"sheet music\" -is:retweet  2022-05-25     konga_share   \n",
       "1         \"sheet music\" -is:retweet  2022-05-24    LibrarySheet   \n",
       "2         \"sheet music\" -is:retweet  2022-05-27    LibrarySheet   \n",
       "3         \"sheet music\" -is:retweet  2022-05-24    LibrarySheet   \n",
       "4       \"music library\" -is:retweet  2022-05-23    LibrarySheet   \n",
       "..                              ...         ...             ...   \n",
       "332     \"music library\" -is:retweet  2022-05-26     bliss_music   \n",
       "333       \"sheet music\" -is:retweet  2022-05-25  Clavi10Claudio   \n",
       "334       \"sheet music\" -is:retweet  2022-05-26  Clavi10Claudio   \n",
       "335  \"music collection\" -is:retweet  2022-05-26       pitchfork   \n",
       "336        \"audio file\" -is:retweet  2022-05-25         tom2tec   \n",
       "\n",
       "                tweet id                                              Title  \\\n",
       "0    1529256862230712320  Fur Elise sheet music (Ludwig van Beethoven mu...   \n",
       "1    1529177480149487616  CINEMA PARADISO, ENNIO MORRICONE With Sheet Mu...   \n",
       "2    1530261038968582145  Wagner - The Ride Of The Valkyries (piano Solo...   \n",
       "3    1529176305358487552  Elton John – Rocket Man (Piano Solo) With Shee...   \n",
       "4    1528689728219914241  Beethoven-Liszt - Symphony No. 3, Op. 55 (Pian...   \n",
       "..                   ...                                                ...   \n",
       "332  1529851364108554240  This month in digital music libraries - May 20...   \n",
       "333  1529441719166676993  If I Fell By John Lennon And Paul McCartney - ...   \n",
       "334  1529920839596003347  Summer Nights By Warren Casey And Jim Jacobs -...   \n",
       "335  1529972974228496386  Everything You Need to Build Your Own Digital ...   \n",
       "336  1529474640451608586  Quiet on the Set ~ Windows Volume Limiter | Th...   \n",
       "\n",
       "                                           Description  \n",
       "0     The music is composed of a well-known compose...  \n",
       "1     The Creative Development of Johann Sebastian ...  \n",
       "2     The Ride of the Valkyries or Valkyrie Ride is...  \n",
       "3     Elton John: 'I want to write more musicals an...  \n",
       "4     Beethoven-Liszt – Symphony No. 3, Op.  55 (Pi...  \n",
       "..                                                 ...  \n",
       "332   This month in digital music libraries - May 2...  \n",
       "333   There are currently no items in your cart.  W...  \n",
       "334   There are currently no items in your cart.  W...  \n",
       "335   A Network Attached Storage (NAS) box is the i...  \n",
       "336   This app is primarily geared toward young/spe...  \n",
       "\n",
       "[337 rows x 12 columns]"
      ]
     },
     "execution_count": 17,
     "metadata": {},
     "output_type": "execute_result"
    }
   ],
   "source": [
    "#scrape URL list and return a DF for resource classification\n",
    "scraped_links = LogRegSearches.scrape_links(twitter_link_list, predicted_tweets, '2022-05-22_05-28_v3_alt')\n",
    "scraped_links"
   ]
  },
  {
   "cell_type": "markdown",
   "metadata": {},
   "source": [
    "## Classify URLS"
   ]
  },
  {
   "cell_type": "code",
   "execution_count": 18,
   "metadata": {},
   "outputs": [
    {
     "data": {
      "text/html": [
       "<div>\n",
       "<style scoped>\n",
       "    .dataframe tbody tr th:only-of-type {\n",
       "        vertical-align: middle;\n",
       "    }\n",
       "\n",
       "    .dataframe tbody tr th {\n",
       "        vertical-align: top;\n",
       "    }\n",
       "\n",
       "    .dataframe thead th {\n",
       "        text-align: right;\n",
       "    }\n",
       "</style>\n",
       "<table border=\"1\" class=\"dataframe\">\n",
       "  <thead>\n",
       "    <tr style=\"text-align: right;\">\n",
       "      <th></th>\n",
       "      <th>tweet</th>\n",
       "      <th>Prediction</th>\n",
       "      <th>Score</th>\n",
       "      <th>Probability</th>\n",
       "      <th>Input Length</th>\n",
       "      <th>URL</th>\n",
       "      <th>Search KW</th>\n",
       "      <th>tweet date</th>\n",
       "      <th>user</th>\n",
       "      <th>tweet id</th>\n",
       "      <th>Title</th>\n",
       "      <th>Description</th>\n",
       "    </tr>\n",
       "  </thead>\n",
       "  <tbody>\n",
       "    <tr>\n",
       "      <th>0</th>\n",
       "      <td>Anita Datta reviews In the deep – a collection...</td>\n",
       "      <td>1</td>\n",
       "      <td>5.546715</td>\n",
       "      <td>0.996115</td>\n",
       "      <td>137</td>\n",
       "      <td>https://www.musicteachermagazine.co.uk/review/...</td>\n",
       "      <td>\"sheet music\" -is:retweet</td>\n",
       "      <td>2022-05-25</td>\n",
       "      <td>MusicTeacherMag</td>\n",
       "      <td>1529451291356934145</td>\n",
       "      <td>Choral sheet music reviews: In the deep | Musi...</td>\n",
       "      <td>Choral sheet music reviews: In the deep – a c...</td>\n",
       "    </tr>\n",
       "    <tr>\n",
       "      <th>1</th>\n",
       "      <td>Beethoven-Liszt - Symphony No. 3, Op. 55 (Pian...</td>\n",
       "      <td>1</td>\n",
       "      <td>3.685057</td>\n",
       "      <td>0.975519</td>\n",
       "      <td>255</td>\n",
       "      <td>https://sheetmusiclibrary.website/2022/05/23/b...</td>\n",
       "      <td>\"music library\" -is:retweet</td>\n",
       "      <td>2022-05-23</td>\n",
       "      <td>LibrarySheet</td>\n",
       "      <td>1528689728219914241</td>\n",
       "      <td>Beethoven-Liszt - Symphony No. 3, Op. 55 (Pian...</td>\n",
       "      <td>Beethoven-Liszt – Symphony No. 3, Op.  55 (Pi...</td>\n",
       "    </tr>\n",
       "    <tr>\n",
       "      <th>2</th>\n",
       "      <td>Is your child learning a musical instrument? D...</td>\n",
       "      <td>1</td>\n",
       "      <td>3.542830</td>\n",
       "      <td>0.971882</td>\n",
       "      <td>889</td>\n",
       "      <td>https://getkidsintomusic.com/2022/05/16/where-...</td>\n",
       "      <td>\"sheet music\" -is:retweet</td>\n",
       "      <td>2022-05-24</td>\n",
       "      <td>kids_into</td>\n",
       "      <td>1529110819094548481</td>\n",
       "      <td>Where to Buy Sheet Music Online?</td>\n",
       "      <td>There are good options for buying music onlin...</td>\n",
       "    </tr>\n",
       "    <tr>\n",
       "      <th>3</th>\n",
       "      <td>Hark! The Herald Angels Sing(Wind Quartet)\\n\\n...</td>\n",
       "      <td>1</td>\n",
       "      <td>3.526400</td>\n",
       "      <td>0.971430</td>\n",
       "      <td>138</td>\n",
       "      <td>https://is.gd/lM0COj</td>\n",
       "      <td>\"sheet music\" -is:retweet</td>\n",
       "      <td>2022-05-27</td>\n",
       "      <td>HarmonyTabs</td>\n",
       "      <td>1530132066167312386</td>\n",
       "      <td>Hark! The Herald Angels Sing (Wind Quartet) – ...</td>\n",
       "      <td>Hark!  The Herald Angels Sing. is a jazzy win...</td>\n",
       "    </tr>\n",
       "    <tr>\n",
       "      <th>4</th>\n",
       "      <td>We've partnered with  and  to offer FREE unlim...</td>\n",
       "      <td>1</td>\n",
       "      <td>3.396769</td>\n",
       "      <td>0.967603</td>\n",
       "      <td>201</td>\n",
       "      <td>https://buff.ly/3LE8jfX</td>\n",
       "      <td>\"sheet music\" -is:retweet</td>\n",
       "      <td>2022-05-28</td>\n",
       "      <td>MakeMusicDayUK</td>\n",
       "      <td>1530473969903620097</td>\n",
       "      <td>Make Music Day UK 2022 | Sheet Music Downloads...</td>\n",
       "      <td>Download the official sheet music selections ...</td>\n",
       "    </tr>\n",
       "    <tr>\n",
       "      <th>...</th>\n",
       "      <td>...</td>\n",
       "      <td>...</td>\n",
       "      <td>...</td>\n",
       "      <td>...</td>\n",
       "      <td>...</td>\n",
       "      <td>...</td>\n",
       "      <td>...</td>\n",
       "      <td>...</td>\n",
       "      <td>...</td>\n",
       "      <td>...</td>\n",
       "      <td>...</td>\n",
       "      <td>...</td>\n",
       "    </tr>\n",
       "    <tr>\n",
       "      <th>70</th>\n",
       "      <td>Make your Disney parks music collection BIGGER...</td>\n",
       "      <td>1</td>\n",
       "      <td>0.139426</td>\n",
       "      <td>0.534800</td>\n",
       "      <td>195</td>\n",
       "      <td>https://drive.google.com/drive/folders/1qf-Gy5...</td>\n",
       "      <td>\"music collection\" -is:retweet</td>\n",
       "      <td>2022-05-27</td>\n",
       "      <td>somestuffisaid</td>\n",
       "      <td>1530191742770847745</td>\n",
       "      <td>Theme Park Soundtracks - Google Drive</td>\n",
       "      <td>The Magic Kingdom - Attractions &amp; More - Back...</td>\n",
       "    </tr>\n",
       "    <tr>\n",
       "      <th>71</th>\n",
       "      <td>My sis and I loved this book growing up.  I wo...</td>\n",
       "      <td>1</td>\n",
       "      <td>0.124273</td>\n",
       "      <td>0.531028</td>\n",
       "      <td>155</td>\n",
       "      <td>https://www.sheetmusicplus.com/title/the-best-...</td>\n",
       "      <td>\"sheet music\" -is:retweet</td>\n",
       "      <td>2022-05-28</td>\n",
       "      <td>motcorner</td>\n",
       "      <td>1530583893010702341</td>\n",
       "      <td>The Best Songs Ever - 6th Edition (Easy Piano)...</td>\n",
       "      <td>World's Largest Sheet Music Selection . Easy ...</td>\n",
       "    </tr>\n",
       "    <tr>\n",
       "      <th>72</th>\n",
       "      <td>Golliwogg’s Cakewalk - Download Sheet Music PD...</td>\n",
       "      <td>1</td>\n",
       "      <td>0.085796</td>\n",
       "      <td>0.521436</td>\n",
       "      <td>182</td>\n",
       "      <td>https://www.scoreexchange.com/scores/110038.html</td>\n",
       "      <td>\"sheet music\" -is:retweet</td>\n",
       "      <td>2022-05-24</td>\n",
       "      <td>hamarpercussion</td>\n",
       "      <td>1528974411046469632</td>\n",
       "      <td>Golliwogg’s Cakewalk - Download Sheet Music PD...</td>\n",
       "      <td>Four mallet vibraphone solo arrangement by Ha...</td>\n",
       "    </tr>\n",
       "    <tr>\n",
       "      <th>73</th>\n",
       "      <td>The Music Library of Choice https://t.co/nEIUk...</td>\n",
       "      <td>1</td>\n",
       "      <td>0.021356</td>\n",
       "      <td>0.505339</td>\n",
       "      <td>185</td>\n",
       "      <td>https://www.totim.audio/</td>\n",
       "      <td>\"music library\" -is:retweet</td>\n",
       "      <td>2022-05-27</td>\n",
       "      <td>MatthewBromham</td>\n",
       "      <td>1530102343756304384</td>\n",
       "      <td>TOTIM - Tracks from £2.50 | TOTIM</td>\n",
       "      <td>With over 4000 tracks, TOTIM is the music lib...</td>\n",
       "    </tr>\n",
       "    <tr>\n",
       "      <th>74</th>\n",
       "      <td>Magna-Tiles Grateful Dead Music Collection Mag...</td>\n",
       "      <td>1</td>\n",
       "      <td>0.018812</td>\n",
       "      <td>0.504703</td>\n",
       "      <td>189</td>\n",
       "      <td>https://sunset-vending.com/product/magna-tiles...</td>\n",
       "      <td>\"music collection\" -is:retweet</td>\n",
       "      <td>2022-05-26</td>\n",
       "      <td>DonELichterman</td>\n",
       "      <td>1529887715801501696</td>\n",
       "      <td>Magna-Tiles Grateful Dead Music Collection Mag...</td>\n",
       "      <td>The Grateful Dead Magna-Tiles set lets any pa...</td>\n",
       "    </tr>\n",
       "  </tbody>\n",
       "</table>\n",
       "<p>75 rows × 12 columns</p>\n",
       "</div>"
      ],
      "text/plain": [
       "                                                tweet  Prediction     Score  \\\n",
       "0   Anita Datta reviews In the deep – a collection...           1  5.546715   \n",
       "1   Beethoven-Liszt - Symphony No. 3, Op. 55 (Pian...           1  3.685057   \n",
       "2   Is your child learning a musical instrument? D...           1  3.542830   \n",
       "3   Hark! The Herald Angels Sing(Wind Quartet)\\n\\n...           1  3.526400   \n",
       "4   We've partnered with  and  to offer FREE unlim...           1  3.396769   \n",
       "..                                                ...         ...       ...   \n",
       "70  Make your Disney parks music collection BIGGER...           1  0.139426   \n",
       "71  My sis and I loved this book growing up.  I wo...           1  0.124273   \n",
       "72  Golliwogg’s Cakewalk - Download Sheet Music PD...           1  0.085796   \n",
       "73  The Music Library of Choice https://t.co/nEIUk...           1  0.021356   \n",
       "74  Magna-Tiles Grateful Dead Music Collection Mag...           1  0.018812   \n",
       "\n",
       "    Probability  Input Length  \\\n",
       "0      0.996115           137   \n",
       "1      0.975519           255   \n",
       "2      0.971882           889   \n",
       "3      0.971430           138   \n",
       "4      0.967603           201   \n",
       "..          ...           ...   \n",
       "70     0.534800           195   \n",
       "71     0.531028           155   \n",
       "72     0.521436           182   \n",
       "73     0.505339           185   \n",
       "74     0.504703           189   \n",
       "\n",
       "                                                  URL  \\\n",
       "0   https://www.musicteachermagazine.co.uk/review/...   \n",
       "1   https://sheetmusiclibrary.website/2022/05/23/b...   \n",
       "2   https://getkidsintomusic.com/2022/05/16/where-...   \n",
       "3                                https://is.gd/lM0COj   \n",
       "4                             https://buff.ly/3LE8jfX   \n",
       "..                                                ...   \n",
       "70  https://drive.google.com/drive/folders/1qf-Gy5...   \n",
       "71  https://www.sheetmusicplus.com/title/the-best-...   \n",
       "72   https://www.scoreexchange.com/scores/110038.html   \n",
       "73                           https://www.totim.audio/   \n",
       "74  https://sunset-vending.com/product/magna-tiles...   \n",
       "\n",
       "                         Search KW  tweet date             user  \\\n",
       "0        \"sheet music\" -is:retweet  2022-05-25  MusicTeacherMag   \n",
       "1      \"music library\" -is:retweet  2022-05-23     LibrarySheet   \n",
       "2        \"sheet music\" -is:retweet  2022-05-24        kids_into   \n",
       "3        \"sheet music\" -is:retweet  2022-05-27      HarmonyTabs   \n",
       "4        \"sheet music\" -is:retweet  2022-05-28   MakeMusicDayUK   \n",
       "..                             ...         ...              ...   \n",
       "70  \"music collection\" -is:retweet  2022-05-27   somestuffisaid   \n",
       "71       \"sheet music\" -is:retweet  2022-05-28        motcorner   \n",
       "72       \"sheet music\" -is:retweet  2022-05-24  hamarpercussion   \n",
       "73     \"music library\" -is:retweet  2022-05-27   MatthewBromham   \n",
       "74  \"music collection\" -is:retweet  2022-05-26   DonELichterman   \n",
       "\n",
       "               tweet id                                              Title  \\\n",
       "0   1529451291356934145  Choral sheet music reviews: In the deep | Musi...   \n",
       "1   1528689728219914241  Beethoven-Liszt - Symphony No. 3, Op. 55 (Pian...   \n",
       "2   1529110819094548481                   Where to Buy Sheet Music Online?   \n",
       "3   1530132066167312386  Hark! The Herald Angels Sing (Wind Quartet) – ...   \n",
       "4   1530473969903620097  Make Music Day UK 2022 | Sheet Music Downloads...   \n",
       "..                  ...                                                ...   \n",
       "70  1530191742770847745              Theme Park Soundtracks - Google Drive   \n",
       "71  1530583893010702341  The Best Songs Ever - 6th Edition (Easy Piano)...   \n",
       "72  1528974411046469632  Golliwogg’s Cakewalk - Download Sheet Music PD...   \n",
       "73  1530102343756304384                  TOTIM - Tracks from £2.50 | TOTIM   \n",
       "74  1529887715801501696  Magna-Tiles Grateful Dead Music Collection Mag...   \n",
       "\n",
       "                                          Description  \n",
       "0    Choral sheet music reviews: In the deep – a c...  \n",
       "1    Beethoven-Liszt – Symphony No. 3, Op.  55 (Pi...  \n",
       "2    There are good options for buying music onlin...  \n",
       "3    Hark!  The Herald Angels Sing. is a jazzy win...  \n",
       "4    Download the official sheet music selections ...  \n",
       "..                                                ...  \n",
       "70   The Magic Kingdom - Attractions & More - Back...  \n",
       "71   World's Largest Sheet Music Selection . Easy ...  \n",
       "72   Four mallet vibraphone solo arrangement by Ha...  \n",
       "73   With over 4000 tracks, TOTIM is the music lib...  \n",
       "74   The Grateful Dead Magna-Tiles set lets any pa...  \n",
       "\n",
       "[75 rows x 12 columns]"
      ]
     },
     "execution_count": 18,
     "metadata": {},
     "output_type": "execute_result"
    }
   ],
   "source": [
    "predicted_resources = LogRegSearches.predict_resource(path, 'resources_v4', scraped_links, 'Description', 1, '2022-05-22_05-28_v2+v4_alt')\n",
    "predicted_resources"
   ]
  },
  {
   "cell_type": "markdown",
   "metadata": {},
   "source": [
    "***"
   ]
  },
  {
   "cell_type": "markdown",
   "metadata": {},
   "source": [
    "Compare final results for evaluation"
   ]
  },
  {
   "cell_type": "code",
   "execution_count": 36,
   "metadata": {},
   "outputs": [],
   "source": [
    "baseline = pd.read_csv(path+'LOGREG_RELEVANCE/FINAL_RESULTS/Jan-April_2022_assessed_by_Marilena.csv')\n",
    "baseline['source'] = 'baseline'\n",
    "baseline_true = baseline.loc[baseline['Add to musoW'] != 'no']\n",
    "baseline_false = baseline.loc[baseline['Add to musoW'] == 'no']\n",
    "\n",
    "evaluate = pd.read_csv(path+'LOGREG_RELEVANCE/PREDICTIONS/all_keywords_2022-01-01_04-30_desc_v2_100maxfeats.csv')\n",
    "evaluate['source'] = 'new'"
   ]
  },
  {
   "cell_type": "code",
   "execution_count": 37,
   "metadata": {},
   "outputs": [],
   "source": [
    "baseline_true = baseline_true['URL'].to_dict()\n",
    "baseline_true = dict([(value, key) for key, value in baseline_true.items()])\n",
    "baseline_true.update((k,'true positive') for k in baseline_true)\n",
    "baseline_false = baseline_false['URL'].to_dict()\n",
    "baseline_false = dict([(value, key) for key, value in baseline_false.items()])\n",
    "baseline_false.update((k,'false positive') for k in baseline_false)"
   ]
  },
  {
   "cell_type": "code",
   "execution_count": 38,
   "metadata": {},
   "outputs": [],
   "source": [
    "evaluate['sort'] = evaluate['URL'].map(baseline_true)\n",
    "evaluate.loc[evaluate['sort'] != 'true positive', 'sort'] = evaluate['URL'].map(baseline_false)\n",
    "evaluate['sort'] = evaluate['sort'].fillna('new')"
   ]
  },
  {
   "cell_type": "code",
   "execution_count": 39,
   "metadata": {},
   "outputs": [
    {
     "data": {
      "text/html": [
       "<div>\n",
       "<style scoped>\n",
       "    .dataframe tbody tr th:only-of-type {\n",
       "        vertical-align: middle;\n",
       "    }\n",
       "\n",
       "    .dataframe tbody tr th {\n",
       "        vertical-align: top;\n",
       "    }\n",
       "\n",
       "    .dataframe thead th {\n",
       "        text-align: right;\n",
       "    }\n",
       "</style>\n",
       "<table border=\"1\" class=\"dataframe\">\n",
       "  <thead>\n",
       "    <tr style=\"text-align: right;\">\n",
       "      <th></th>\n",
       "      <th>Unnamed: 0</th>\n",
       "      <th>tweet</th>\n",
       "      <th>Prediction</th>\n",
       "      <th>Score</th>\n",
       "      <th>Probability</th>\n",
       "      <th>Input Length</th>\n",
       "      <th>URL</th>\n",
       "      <th>Search KW</th>\n",
       "      <th>Title</th>\n",
       "      <th>Description</th>\n",
       "      <th>source</th>\n",
       "      <th>sort</th>\n",
       "    </tr>\n",
       "  </thead>\n",
       "  <tbody>\n",
       "    <tr>\n",
       "      <th>0</th>\n",
       "      <td>0</td>\n",
       "      <td>https://t.co/OkEHI6XQu3 Music archive Wolfgang...</td>\n",
       "      <td>1</td>\n",
       "      <td>7.489973</td>\n",
       "      <td>0.999442</td>\n",
       "      <td>189</td>\n",
       "      <td>http://www.opusip.co.uk/2022/01/25/music-archi...</td>\n",
       "      <td>\"music archive\" -is:retweet</td>\n",
       "      <td>Music archive Wolfgang's Vault resolves copyri...</td>\n",
       "      <td>25th January 2022\\nMusic archive Wolfgang’s Va...</td>\n",
       "      <td>new</td>\n",
       "      <td>false positive</td>\n",
       "    </tr>\n",
       "    <tr>\n",
       "      <th>1</th>\n",
       "      <td>1</td>\n",
       "      <td>Online concert archive Wolfgang's Vault has re...</td>\n",
       "      <td>1</td>\n",
       "      <td>6.473366</td>\n",
       "      <td>0.998458</td>\n",
       "      <td>308</td>\n",
       "      <td>https://reut.rs/3rTJWTx</td>\n",
       "      <td>\"music archive\" -is:retweet</td>\n",
       "      <td>Music archive Wolfgang's Vault resolves copyri...</td>\n",
       "      <td>Rocker Greg Kihn sued online archive over all...</td>\n",
       "      <td>new</td>\n",
       "      <td>false positive</td>\n",
       "    </tr>\n",
       "    <tr>\n",
       "      <th>2</th>\n",
       "      <td>2</td>\n",
       "      <td>Video Interview:\\nFlorida Sound Archive With S...</td>\n",
       "      <td>1</td>\n",
       "      <td>5.960977</td>\n",
       "      <td>0.997429</td>\n",
       "      <td>113</td>\n",
       "      <td>https://www.musiceternal.com/News/2022/Florida...</td>\n",
       "      <td>\"sound archive\" -is:retweet</td>\n",
       "      <td>Florida Sound Archive With Sam Rosenthal</td>\n",
       "      <td>Interview with Sam Rosenthal of Projekt Record...</td>\n",
       "      <td>new</td>\n",
       "      <td>true positive</td>\n",
       "    </tr>\n",
       "    <tr>\n",
       "      <th>3</th>\n",
       "      <td>3</td>\n",
       "      <td>Inmates at HMP Perth engage with archive birds...</td>\n",
       "      <td>1</td>\n",
       "      <td>5.949058</td>\n",
       "      <td>0.997398</td>\n",
       "      <td>216</td>\n",
       "      <td>https://www.listentosteve.com/doingbird</td>\n",
       "      <td>\"oral history\" -is:retweet</td>\n",
       "      <td>Steve Urquhart // doing bird</td>\n",
       "      <td>Inmates at HMP Perth engage with archive bird...</td>\n",
       "      <td>new</td>\n",
       "      <td>true positive</td>\n",
       "    </tr>\n",
       "    <tr>\n",
       "      <th>4</th>\n",
       "      <td>4</td>\n",
       "      <td>With first-hand access to the original film ar...</td>\n",
       "      <td>1</td>\n",
       "      <td>5.705338</td>\n",
       "      <td>0.996683</td>\n",
       "      <td>285</td>\n",
       "      <td>https://buff.ly/38mYNQm</td>\n",
       "      <td>\"archive collection\" -is:retweet</td>\n",
       "      <td>Introducing… THE ARCHIVE COLLECTION – Regal Robot</td>\n",
       "      <td>The Archive Collection – by Regal Robot™Intro...</td>\n",
       "      <td>new</td>\n",
       "      <td>false positive</td>\n",
       "    </tr>\n",
       "    <tr>\n",
       "      <th>...</th>\n",
       "      <td>...</td>\n",
       "      <td>...</td>\n",
       "      <td>...</td>\n",
       "      <td>...</td>\n",
       "      <td>...</td>\n",
       "      <td>...</td>\n",
       "      <td>...</td>\n",
       "      <td>...</td>\n",
       "      <td>...</td>\n",
       "      <td>...</td>\n",
       "      <td>...</td>\n",
       "      <td>...</td>\n",
       "    </tr>\n",
       "    <tr>\n",
       "      <th>480</th>\n",
       "      <td>480</td>\n",
       "      <td>Hard to believe there isn't, although it appe...</td>\n",
       "      <td>1</td>\n",
       "      <td>0.021968</td>\n",
       "      <td>0.505492</td>\n",
       "      <td>298</td>\n",
       "      <td>https://digital.library.unt.edu/ark:/67531/met...</td>\n",
       "      <td>\"digital library\" -is:retweet</td>\n",
       "      <td>Norma and Mel Gabler: The Development and Caus...</td>\n",
       "      <td>The problem of this study was to trace throug...</td>\n",
       "      <td>new</td>\n",
       "      <td>new</td>\n",
       "    </tr>\n",
       "    <tr>\n",
       "      <th>481</th>\n",
       "      <td>481</td>\n",
       "      <td>Join Delyna Baxter as she discusses the true h...</td>\n",
       "      <td>1</td>\n",
       "      <td>0.009815</td>\n",
       "      <td>0.502454</td>\n",
       "      <td>193</td>\n",
       "      <td>http://bit.ly/register-delyna22</td>\n",
       "      <td>\"oral history\" -is:retweet</td>\n",
       "      <td>Webinar Registration - Zoom</td>\n",
       "      <td>Zoom is a full-featured, easy-to-use, engagin...</td>\n",
       "      <td>new</td>\n",
       "      <td>new</td>\n",
       "    </tr>\n",
       "    <tr>\n",
       "      <th>482</th>\n",
       "      <td>482</td>\n",
       "      <td>NowPlaying blues : Realize (Digital Edition Bo...</td>\n",
       "      <td>1</td>\n",
       "      <td>0.008761</td>\n",
       "      <td>0.502190</td>\n",
       "      <td>238</td>\n",
       "      <td>https://cowboysjukejoint.com/</td>\n",
       "      <td>\"digital edition\" -is:retweet</td>\n",
       "      <td>Cowboy's Juke Joint - Playing The Harder side ...</td>\n",
       "      <td>Cowboy’s Juke Joint is an independent non-com...</td>\n",
       "      <td>new</td>\n",
       "      <td>false positive</td>\n",
       "    </tr>\n",
       "    <tr>\n",
       "      <th>483</th>\n",
       "      <td>483</td>\n",
       "      <td>Concerts of the ensemble Bis-Quit band from St...</td>\n",
       "      <td>1</td>\n",
       "      <td>0.000688</td>\n",
       "      <td>0.500172</td>\n",
       "      <td>239</td>\n",
       "      <td>https://en.rwp.agency/news/953/</td>\n",
       "      <td>\"music culture\" -is:retweet</td>\n",
       "      <td>Concerts of the ensemble Bis-Quit band from St...</td>\n",
       "      <td>Kyrgyzstan will hold concerts of the Bis-Quit...</td>\n",
       "      <td>new</td>\n",
       "      <td>false positive</td>\n",
       "    </tr>\n",
       "    <tr>\n",
       "      <th>484</th>\n",
       "      <td>484</td>\n",
       "      <td>Rationality [sound Recording] : What It Is, Wh...</td>\n",
       "      <td>1</td>\n",
       "      <td>0.000175</td>\n",
       "      <td>0.500044</td>\n",
       "      <td>254</td>\n",
       "      <td>https://cincinnatilibrary.bibliocommons.com/v2...</td>\n",
       "      <td>\"sound recording\" -is:retweet</td>\n",
       "      <td>Rationality | Cincinnati &amp; Hamilton County Pub...</td>\n",
       "      <td>Today humanity is reaching new heights of sci...</td>\n",
       "      <td>new</td>\n",
       "      <td>new</td>\n",
       "    </tr>\n",
       "  </tbody>\n",
       "</table>\n",
       "<p>485 rows × 12 columns</p>\n",
       "</div>"
      ],
      "text/plain": [
       "     Unnamed: 0                                              tweet  \\\n",
       "0             0  https://t.co/OkEHI6XQu3 Music archive Wolfgang...   \n",
       "1             1  Online concert archive Wolfgang's Vault has re...   \n",
       "2             2  Video Interview:\\nFlorida Sound Archive With S...   \n",
       "3             3  Inmates at HMP Perth engage with archive birds...   \n",
       "4             4  With first-hand access to the original film ar...   \n",
       "..          ...                                                ...   \n",
       "480         480   Hard to believe there isn't, although it appe...   \n",
       "481         481  Join Delyna Baxter as she discusses the true h...   \n",
       "482         482  NowPlaying blues : Realize (Digital Edition Bo...   \n",
       "483         483  Concerts of the ensemble Bis-Quit band from St...   \n",
       "484         484  Rationality [sound Recording] : What It Is, Wh...   \n",
       "\n",
       "     Prediction     Score  Probability  Input Length  \\\n",
       "0             1  7.489973     0.999442           189   \n",
       "1             1  6.473366     0.998458           308   \n",
       "2             1  5.960977     0.997429           113   \n",
       "3             1  5.949058     0.997398           216   \n",
       "4             1  5.705338     0.996683           285   \n",
       "..          ...       ...          ...           ...   \n",
       "480           1  0.021968     0.505492           298   \n",
       "481           1  0.009815     0.502454           193   \n",
       "482           1  0.008761     0.502190           238   \n",
       "483           1  0.000688     0.500172           239   \n",
       "484           1  0.000175     0.500044           254   \n",
       "\n",
       "                                                   URL  \\\n",
       "0    http://www.opusip.co.uk/2022/01/25/music-archi...   \n",
       "1                              https://reut.rs/3rTJWTx   \n",
       "2    https://www.musiceternal.com/News/2022/Florida...   \n",
       "3              https://www.listentosteve.com/doingbird   \n",
       "4                              https://buff.ly/38mYNQm   \n",
       "..                                                 ...   \n",
       "480  https://digital.library.unt.edu/ark:/67531/met...   \n",
       "481                    http://bit.ly/register-delyna22   \n",
       "482                      https://cowboysjukejoint.com/   \n",
       "483                    https://en.rwp.agency/news/953/   \n",
       "484  https://cincinnatilibrary.bibliocommons.com/v2...   \n",
       "\n",
       "                            Search KW  \\\n",
       "0         \"music archive\" -is:retweet   \n",
       "1         \"music archive\" -is:retweet   \n",
       "2         \"sound archive\" -is:retweet   \n",
       "3          \"oral history\" -is:retweet   \n",
       "4    \"archive collection\" -is:retweet   \n",
       "..                                ...   \n",
       "480     \"digital library\" -is:retweet   \n",
       "481        \"oral history\" -is:retweet   \n",
       "482     \"digital edition\" -is:retweet   \n",
       "483       \"music culture\" -is:retweet   \n",
       "484     \"sound recording\" -is:retweet   \n",
       "\n",
       "                                                 Title  \\\n",
       "0    Music archive Wolfgang's Vault resolves copyri...   \n",
       "1    Music archive Wolfgang's Vault resolves copyri...   \n",
       "2             Florida Sound Archive With Sam Rosenthal   \n",
       "3                         Steve Urquhart // doing bird   \n",
       "4    Introducing… THE ARCHIVE COLLECTION – Regal Robot   \n",
       "..                                                 ...   \n",
       "480  Norma and Mel Gabler: The Development and Caus...   \n",
       "481                        Webinar Registration - Zoom   \n",
       "482  Cowboy's Juke Joint - Playing The Harder side ...   \n",
       "483  Concerts of the ensemble Bis-Quit band from St...   \n",
       "484  Rationality | Cincinnati & Hamilton County Pub...   \n",
       "\n",
       "                                           Description source            sort  \n",
       "0    25th January 2022\\nMusic archive Wolfgang’s Va...    new  false positive  \n",
       "1     Rocker Greg Kihn sued online archive over all...    new  false positive  \n",
       "2    Interview with Sam Rosenthal of Projekt Record...    new   true positive  \n",
       "3     Inmates at HMP Perth engage with archive bird...    new   true positive  \n",
       "4     The Archive Collection – by Regal Robot™Intro...    new  false positive  \n",
       "..                                                 ...    ...             ...  \n",
       "480   The problem of this study was to trace throug...    new             new  \n",
       "481   Zoom is a full-featured, easy-to-use, engagin...    new             new  \n",
       "482   Cowboy’s Juke Joint is an independent non-com...    new  false positive  \n",
       "483   Kyrgyzstan will hold concerts of the Bis-Quit...    new  false positive  \n",
       "484   Today humanity is reaching new heights of sci...    new             new  \n",
       "\n",
       "[485 rows x 12 columns]"
      ]
     },
     "execution_count": 39,
     "metadata": {},
     "output_type": "execute_result"
    }
   ],
   "source": [
    "evaluate"
   ]
  },
  {
   "cell_type": "code",
   "execution_count": 33,
   "metadata": {},
   "outputs": [],
   "source": [
    "evaluate.to_csv(path+'LOGREG_RELEVANCE/FINAL_RESULTS/Jan-April_2022_desc_maxfeats_100.csv')"
   ]
  },
  {
   "cell_type": "code",
   "execution_count": 27,
   "metadata": {},
   "outputs": [
    {
     "data": {
      "text/html": [
       "<div>\n",
       "<style scoped>\n",
       "    .dataframe tbody tr th:only-of-type {\n",
       "        vertical-align: middle;\n",
       "    }\n",
       "\n",
       "    .dataframe tbody tr th {\n",
       "        vertical-align: top;\n",
       "    }\n",
       "\n",
       "    .dataframe thead th {\n",
       "        text-align: right;\n",
       "    }\n",
       "</style>\n",
       "<table border=\"1\" class=\"dataframe\">\n",
       "  <thead>\n",
       "    <tr style=\"text-align: right;\">\n",
       "      <th></th>\n",
       "      <th>tweet</th>\n",
       "      <th>Prediction</th>\n",
       "      <th>Score</th>\n",
       "      <th>Probability</th>\n",
       "      <th>Input Length</th>\n",
       "      <th>URL</th>\n",
       "      <th>Search KW</th>\n",
       "      <th>tweet date</th>\n",
       "      <th>user</th>\n",
       "      <th>tweet id</th>\n",
       "      <th>Title</th>\n",
       "      <th>Description</th>\n",
       "    </tr>\n",
       "  </thead>\n",
       "  <tbody>\n",
       "    <tr>\n",
       "      <th>0</th>\n",
       "      <td>Fur Elise sheet music (Ludwig van Beethoven mu...</td>\n",
       "      <td>1</td>\n",
       "      <td>8.546705</td>\n",
       "      <td>0.999806</td>\n",
       "      <td>80</td>\n",
       "      <td>https://sheetmusic.kongashare.com/fur-elise-sh...</td>\n",
       "      <td>\"sheet music\" -is:retweet</td>\n",
       "      <td>2022-05-25</td>\n",
       "      <td>konga_share</td>\n",
       "      <td>1529256862230712320</td>\n",
       "      <td>Fur Elise sheet music (Ludwig van Beethoven mu...</td>\n",
       "      <td>The music is composed of a well-known compose...</td>\n",
       "    </tr>\n",
       "    <tr>\n",
       "      <th>1</th>\n",
       "      <td>CINEMA PARADISO, ENNIO MORRICONE with sheet mu...</td>\n",
       "      <td>1</td>\n",
       "      <td>8.145584</td>\n",
       "      <td>0.99971</td>\n",
       "      <td>101</td>\n",
       "      <td>https://sheetmusiclibrary.website/2022/05/24/c...</td>\n",
       "      <td>\"sheet music\" -is:retweet</td>\n",
       "      <td>2022-05-24</td>\n",
       "      <td>LibrarySheet</td>\n",
       "      <td>1529177480149487616</td>\n",
       "      <td>CINEMA PARADISO, ENNIO MORRICONE With Sheet Mu...</td>\n",
       "      <td>The Creative Development of Johann Sebastian ...</td>\n",
       "    </tr>\n",
       "    <tr>\n",
       "      <th>2</th>\n",
       "      <td>Wagner - The Ride of the Valkyries (piano solo...</td>\n",
       "      <td>1</td>\n",
       "      <td>8.075519</td>\n",
       "      <td>0.999689</td>\n",
       "      <td>116</td>\n",
       "      <td>https://sheetmusiclibrary.website/2022/05/02/w...</td>\n",
       "      <td>\"sheet music\" -is:retweet</td>\n",
       "      <td>2022-05-27</td>\n",
       "      <td>LibrarySheet</td>\n",
       "      <td>1530261038968582145</td>\n",
       "      <td>Wagner - The Ride Of The Valkyries (piano Solo...</td>\n",
       "      <td>The Ride of the Valkyries or Valkyrie Ride is...</td>\n",
       "    </tr>\n",
       "    <tr>\n",
       "      <th>3</th>\n",
       "      <td>Elton John – Rocket Man (Piano solo) with shee...</td>\n",
       "      <td>1</td>\n",
       "      <td>7.9908</td>\n",
       "      <td>0.999662</td>\n",
       "      <td>105</td>\n",
       "      <td>https://sheetmusiclibrary.website/2022/05/24/e...</td>\n",
       "      <td>\"sheet music\" -is:retweet</td>\n",
       "      <td>2022-05-24</td>\n",
       "      <td>LibrarySheet</td>\n",
       "      <td>1529176305358487552</td>\n",
       "      <td>Elton John – Rocket Man (Piano Solo) With Shee...</td>\n",
       "      <td>Elton John: 'I want to write more musicals an...</td>\n",
       "    </tr>\n",
       "    <tr>\n",
       "      <th>4</th>\n",
       "      <td>Beethoven-Liszt - Symphony No. 3, Op. 55 (Pian...</td>\n",
       "      <td>1</td>\n",
       "      <td>7.861649</td>\n",
       "      <td>0.999615</td>\n",
       "      <td>122</td>\n",
       "      <td>https://sheetmusiclibrary.website/2022/05/23/b...</td>\n",
       "      <td>\"music library\" -is:retweet</td>\n",
       "      <td>2022-05-23</td>\n",
       "      <td>LibrarySheet</td>\n",
       "      <td>1528689728219914241</td>\n",
       "      <td>Beethoven-Liszt - Symphony No. 3, Op. 55 (Pian...</td>\n",
       "      <td>Beethoven-Liszt – Symphony No. 3, Op.  55 (Pi...</td>\n",
       "    </tr>\n",
       "    <tr>\n",
       "      <th>...</th>\n",
       "      <td>...</td>\n",
       "      <td>...</td>\n",
       "      <td>...</td>\n",
       "      <td>...</td>\n",
       "      <td>...</td>\n",
       "      <td>...</td>\n",
       "      <td>...</td>\n",
       "      <td>...</td>\n",
       "      <td>...</td>\n",
       "      <td>...</td>\n",
       "      <td>...</td>\n",
       "      <td>...</td>\n",
       "    </tr>\n",
       "    <tr>\n",
       "      <th>332</th>\n",
       "      <td>This Month in Digital Music Libraries - May 20...</td>\n",
       "      <td>1</td>\n",
       "      <td>0.214171</td>\n",
       "      <td>0.553339</td>\n",
       "      <td>96</td>\n",
       "      <td>https://buff.ly/3PUXIk2</td>\n",
       "      <td>\"music library\" -is:retweet</td>\n",
       "      <td>2022-05-26</td>\n",
       "      <td>bliss_music</td>\n",
       "      <td>1529851364108554240</td>\n",
       "      <td>This month in digital music libraries - May 20...</td>\n",
       "      <td>This month in digital music libraries - May 2...</td>\n",
       "    </tr>\n",
       "    <tr>\n",
       "      <th>333</th>\n",
       "      <td>Buy my sheetmusic 'If I Fell' on SheetMusicPlu...</td>\n",
       "      <td>1</td>\n",
       "      <td>0.178405</td>\n",
       "      <td>0.544483</td>\n",
       "      <td>72</td>\n",
       "      <td>http://www.sheetmusicplus.com/title/22160947</td>\n",
       "      <td>\"sheet music\" -is:retweet</td>\n",
       "      <td>2022-05-25</td>\n",
       "      <td>Clavi10Claudio</td>\n",
       "      <td>1529441719166676993</td>\n",
       "      <td>If I Fell By John Lennon And Paul McCartney - ...</td>\n",
       "      <td>There are currently no items in your cart.  W...</td>\n",
       "    </tr>\n",
       "    <tr>\n",
       "      <th>334</th>\n",
       "      <td>Buy my sheetmusic 'Summer Nights' on SheetMusi...</td>\n",
       "      <td>1</td>\n",
       "      <td>0.157613</td>\n",
       "      <td>0.539322</td>\n",
       "      <td>76</td>\n",
       "      <td>http://www.sheetmusicplus.com/title/20679578</td>\n",
       "      <td>\"sheet music\" -is:retweet</td>\n",
       "      <td>2022-05-26</td>\n",
       "      <td>Clavi10Claudio</td>\n",
       "      <td>1529920839596003347</td>\n",
       "      <td>Summer Nights By Warren Casey And Jim Jacobs -...</td>\n",
       "      <td>There are currently no items in your cart.  W...</td>\n",
       "    </tr>\n",
       "    <tr>\n",
       "      <th>335</th>\n",
       "      <td>Ready to say goodbye to streaming services? We...</td>\n",
       "      <td>1</td>\n",
       "      <td>0.077469</td>\n",
       "      <td>0.519358</td>\n",
       "      <td>92</td>\n",
       "      <td>http://p4k.in/z4uXGYp</td>\n",
       "      <td>\"music collection\" -is:retweet</td>\n",
       "      <td>2022-05-26</td>\n",
       "      <td>pitchfork</td>\n",
       "      <td>1529972974228496386</td>\n",
       "      <td>Everything You Need to Build Your Own Digital ...</td>\n",
       "      <td>A Network Attached Storage (NAS) box is the i...</td>\n",
       "    </tr>\n",
       "    <tr>\n",
       "      <th>336</th>\n",
       "      <td>Quiet on the Set ~ Windows Volume Limiter http...</td>\n",
       "      <td>1</td>\n",
       "      <td>0.022436</td>\n",
       "      <td>0.505609</td>\n",
       "      <td>65</td>\n",
       "      <td>http://audio-file.org/2022/05/25/quiet-on-the-...</td>\n",
       "      <td>\"audio file\" -is:retweet</td>\n",
       "      <td>2022-05-25</td>\n",
       "      <td>tom2tec</td>\n",
       "      <td>1529474640451608586</td>\n",
       "      <td>Quiet on the Set ~ Windows Volume Limiter | Th...</td>\n",
       "      <td>This app is primarily geared toward young/spe...</td>\n",
       "    </tr>\n",
       "  </tbody>\n",
       "</table>\n",
       "<p>337 rows × 12 columns</p>\n",
       "</div>"
      ],
      "text/plain": [
       "                                                 tweet Prediction     Score  \\\n",
       "0    Fur Elise sheet music (Ludwig van Beethoven mu...          1  8.546705   \n",
       "1    CINEMA PARADISO, ENNIO MORRICONE with sheet mu...          1  8.145584   \n",
       "2    Wagner - The Ride of the Valkyries (piano solo...          1  8.075519   \n",
       "3    Elton John – Rocket Man (Piano solo) with shee...          1    7.9908   \n",
       "4    Beethoven-Liszt - Symphony No. 3, Op. 55 (Pian...          1  7.861649   \n",
       "..                                                 ...        ...       ...   \n",
       "332  This Month in Digital Music Libraries - May 20...          1  0.214171   \n",
       "333  Buy my sheetmusic 'If I Fell' on SheetMusicPlu...          1  0.178405   \n",
       "334  Buy my sheetmusic 'Summer Nights' on SheetMusi...          1  0.157613   \n",
       "335  Ready to say goodbye to streaming services? We...          1  0.077469   \n",
       "336  Quiet on the Set ~ Windows Volume Limiter http...          1  0.022436   \n",
       "\n",
       "    Probability Input Length  \\\n",
       "0      0.999806           80   \n",
       "1       0.99971          101   \n",
       "2      0.999689          116   \n",
       "3      0.999662          105   \n",
       "4      0.999615          122   \n",
       "..          ...          ...   \n",
       "332    0.553339           96   \n",
       "333    0.544483           72   \n",
       "334    0.539322           76   \n",
       "335    0.519358           92   \n",
       "336    0.505609           65   \n",
       "\n",
       "                                                   URL  \\\n",
       "0    https://sheetmusic.kongashare.com/fur-elise-sh...   \n",
       "1    https://sheetmusiclibrary.website/2022/05/24/c...   \n",
       "2    https://sheetmusiclibrary.website/2022/05/02/w...   \n",
       "3    https://sheetmusiclibrary.website/2022/05/24/e...   \n",
       "4    https://sheetmusiclibrary.website/2022/05/23/b...   \n",
       "..                                                 ...   \n",
       "332                            https://buff.ly/3PUXIk2   \n",
       "333       http://www.sheetmusicplus.com/title/22160947   \n",
       "334       http://www.sheetmusicplus.com/title/20679578   \n",
       "335                              http://p4k.in/z4uXGYp   \n",
       "336  http://audio-file.org/2022/05/25/quiet-on-the-...   \n",
       "\n",
       "                          Search KW  tweet date            user  \\\n",
       "0         \"sheet music\" -is:retweet  2022-05-25     konga_share   \n",
       "1         \"sheet music\" -is:retweet  2022-05-24    LibrarySheet   \n",
       "2         \"sheet music\" -is:retweet  2022-05-27    LibrarySheet   \n",
       "3         \"sheet music\" -is:retweet  2022-05-24    LibrarySheet   \n",
       "4       \"music library\" -is:retweet  2022-05-23    LibrarySheet   \n",
       "..                              ...         ...             ...   \n",
       "332     \"music library\" -is:retweet  2022-05-26     bliss_music   \n",
       "333       \"sheet music\" -is:retweet  2022-05-25  Clavi10Claudio   \n",
       "334       \"sheet music\" -is:retweet  2022-05-26  Clavi10Claudio   \n",
       "335  \"music collection\" -is:retweet  2022-05-26       pitchfork   \n",
       "336        \"audio file\" -is:retweet  2022-05-25         tom2tec   \n",
       "\n",
       "                tweet id                                              Title  \\\n",
       "0    1529256862230712320  Fur Elise sheet music (Ludwig van Beethoven mu...   \n",
       "1    1529177480149487616  CINEMA PARADISO, ENNIO MORRICONE With Sheet Mu...   \n",
       "2    1530261038968582145  Wagner - The Ride Of The Valkyries (piano Solo...   \n",
       "3    1529176305358487552  Elton John – Rocket Man (Piano Solo) With Shee...   \n",
       "4    1528689728219914241  Beethoven-Liszt - Symphony No. 3, Op. 55 (Pian...   \n",
       "..                   ...                                                ...   \n",
       "332  1529851364108554240  This month in digital music libraries - May 20...   \n",
       "333  1529441719166676993  If I Fell By John Lennon And Paul McCartney - ...   \n",
       "334  1529920839596003347  Summer Nights By Warren Casey And Jim Jacobs -...   \n",
       "335  1529972974228496386  Everything You Need to Build Your Own Digital ...   \n",
       "336  1529474640451608586  Quiet on the Set ~ Windows Volume Limiter | Th...   \n",
       "\n",
       "                                           Description  \n",
       "0     The music is composed of a well-known compose...  \n",
       "1     The Creative Development of Johann Sebastian ...  \n",
       "2     The Ride of the Valkyries or Valkyrie Ride is...  \n",
       "3     Elton John: 'I want to write more musicals an...  \n",
       "4     Beethoven-Liszt – Symphony No. 3, Op.  55 (Pi...  \n",
       "..                                                 ...  \n",
       "332   This month in digital music libraries - May 2...  \n",
       "333   There are currently no items in your cart.  W...  \n",
       "334   There are currently no items in your cart.  W...  \n",
       "335   A Network Attached Storage (NAS) box is the i...  \n",
       "336   This app is primarily geared toward young/spe...  \n",
       "\n",
       "[337 rows x 12 columns]"
      ]
     },
     "execution_count": 27,
     "metadata": {},
     "output_type": "execute_result"
    }
   ],
   "source": [
    "test = pd.read_pickle('/Users/laurentfintoni/Desktop/University/COURSE DOCS/THESIS/Internship/musow-pipeline-thesis/LOGREG_RELEVANCE/SCRAPES/2022-05-22_05-28_v3_alt.pkl')\n",
    "test"
   ]
  },
  {
   "cell_type": "code",
   "execution_count": 1,
   "metadata": {},
   "outputs": [
    {
     "data": {
      "text/plain": [
       "'en'"
      ]
     },
     "execution_count": 1,
     "metadata": {},
     "output_type": "execute_result"
    }
   ],
   "source": [
    "from langdetect import detect\n",
    "\n",
    "detect(' youtube爵士教学-bebop. youtube牵士. youtube===Barry Harris: Bebop, bebop . Youtube==Bebop-style: Beop, jazz, funk, jazz piano, funk .')"
   ]
  },
  {
   "cell_type": "code",
   "execution_count": 22,
   "metadata": {},
   "outputs": [
    {
     "ename": "LangDetectException",
     "evalue": "No features in text.",
     "output_type": "error",
     "traceback": [
      "\u001b[0;31m---------------------------------------------------------------------------\u001b[0m",
      "\u001b[0;31mLangDetectException\u001b[0m                       Traceback (most recent call last)",
      "\u001b[0;32m/var/folders/d1/gjlb4c2x5qld93w00hwqj3yh0000gn/T/ipykernel_5347/2569112909.py\u001b[0m in \u001b[0;36m<cell line: 4>\u001b[0;34m()\u001b[0m\n\u001b[1;32m      2\u001b[0m     \u001b[0;32mreturn\u001b[0m \u001b[0mdetect\u001b[0m\u001b[0;34m(\u001b[0m\u001b[0mtext\u001b[0m\u001b[0;34m)\u001b[0m\u001b[0;34m\u001b[0m\u001b[0;34m\u001b[0m\u001b[0m\n\u001b[1;32m      3\u001b[0m \u001b[0;34m\u001b[0m\u001b[0m\n\u001b[0;32m----> 4\u001b[0;31m \u001b[0mtest\u001b[0m\u001b[0;34m[\u001b[0m\u001b[0;34m'Description'\u001b[0m\u001b[0;34m]\u001b[0m\u001b[0;34m.\u001b[0m\u001b[0mapply\u001b[0m\u001b[0;34m(\u001b[0m\u001b[0mdetect_lang\u001b[0m\u001b[0;34m)\u001b[0m\u001b[0;34m\u001b[0m\u001b[0;34m\u001b[0m\u001b[0m\n\u001b[0m",
      "\u001b[0;32m/Library/Frameworks/Python.framework/Versions/3.10/lib/python3.10/site-packages/pandas/core/series.py\u001b[0m in \u001b[0;36mapply\u001b[0;34m(self, func, convert_dtype, args, **kwargs)\u001b[0m\n\u001b[1;32m   4431\u001b[0m         \u001b[0mdtype\u001b[0m\u001b[0;34m:\u001b[0m \u001b[0mfloat64\u001b[0m\u001b[0;34m\u001b[0m\u001b[0;34m\u001b[0m\u001b[0m\n\u001b[1;32m   4432\u001b[0m         \"\"\"\n\u001b[0;32m-> 4433\u001b[0;31m         \u001b[0;32mreturn\u001b[0m \u001b[0mSeriesApply\u001b[0m\u001b[0;34m(\u001b[0m\u001b[0mself\u001b[0m\u001b[0;34m,\u001b[0m \u001b[0mfunc\u001b[0m\u001b[0;34m,\u001b[0m \u001b[0mconvert_dtype\u001b[0m\u001b[0;34m,\u001b[0m \u001b[0margs\u001b[0m\u001b[0;34m,\u001b[0m \u001b[0mkwargs\u001b[0m\u001b[0;34m)\u001b[0m\u001b[0;34m.\u001b[0m\u001b[0mapply\u001b[0m\u001b[0;34m(\u001b[0m\u001b[0;34m)\u001b[0m\u001b[0;34m\u001b[0m\u001b[0;34m\u001b[0m\u001b[0m\n\u001b[0m\u001b[1;32m   4434\u001b[0m \u001b[0;34m\u001b[0m\u001b[0m\n\u001b[1;32m   4435\u001b[0m     def _reduce(\n",
      "\u001b[0;32m/Library/Frameworks/Python.framework/Versions/3.10/lib/python3.10/site-packages/pandas/core/apply.py\u001b[0m in \u001b[0;36mapply\u001b[0;34m(self)\u001b[0m\n\u001b[1;32m   1080\u001b[0m             \u001b[0;32mreturn\u001b[0m \u001b[0mself\u001b[0m\u001b[0;34m.\u001b[0m\u001b[0mapply_str\u001b[0m\u001b[0;34m(\u001b[0m\u001b[0;34m)\u001b[0m\u001b[0;34m\u001b[0m\u001b[0;34m\u001b[0m\u001b[0m\n\u001b[1;32m   1081\u001b[0m \u001b[0;34m\u001b[0m\u001b[0m\n\u001b[0;32m-> 1082\u001b[0;31m         \u001b[0;32mreturn\u001b[0m \u001b[0mself\u001b[0m\u001b[0;34m.\u001b[0m\u001b[0mapply_standard\u001b[0m\u001b[0;34m(\u001b[0m\u001b[0;34m)\u001b[0m\u001b[0;34m\u001b[0m\u001b[0;34m\u001b[0m\u001b[0m\n\u001b[0m\u001b[1;32m   1083\u001b[0m \u001b[0;34m\u001b[0m\u001b[0m\n\u001b[1;32m   1084\u001b[0m     \u001b[0;32mdef\u001b[0m \u001b[0magg\u001b[0m\u001b[0;34m(\u001b[0m\u001b[0mself\u001b[0m\u001b[0;34m)\u001b[0m\u001b[0;34m:\u001b[0m\u001b[0;34m\u001b[0m\u001b[0;34m\u001b[0m\u001b[0m\n",
      "\u001b[0;32m/Library/Frameworks/Python.framework/Versions/3.10/lib/python3.10/site-packages/pandas/core/apply.py\u001b[0m in \u001b[0;36mapply_standard\u001b[0;34m(self)\u001b[0m\n\u001b[1;32m   1135\u001b[0m                 \u001b[0;31m# List[Union[Callable[..., Any], str]]]]]\"; expected\u001b[0m\u001b[0;34m\u001b[0m\u001b[0;34m\u001b[0m\u001b[0m\n\u001b[1;32m   1136\u001b[0m                 \u001b[0;31m# \"Callable[[Any], Any]\"\u001b[0m\u001b[0;34m\u001b[0m\u001b[0;34m\u001b[0m\u001b[0m\n\u001b[0;32m-> 1137\u001b[0;31m                 mapped = lib.map_infer(\n\u001b[0m\u001b[1;32m   1138\u001b[0m                     \u001b[0mvalues\u001b[0m\u001b[0;34m,\u001b[0m\u001b[0;34m\u001b[0m\u001b[0;34m\u001b[0m\u001b[0m\n\u001b[1;32m   1139\u001b[0m                     \u001b[0mf\u001b[0m\u001b[0;34m,\u001b[0m  \u001b[0;31m# type: ignore[arg-type]\u001b[0m\u001b[0;34m\u001b[0m\u001b[0;34m\u001b[0m\u001b[0m\n",
      "\u001b[0;32mpandas/_libs/lib.pyx\u001b[0m in \u001b[0;36mpandas._libs.lib.map_infer\u001b[0;34m()\u001b[0m\n",
      "\u001b[0;32m/var/folders/d1/gjlb4c2x5qld93w00hwqj3yh0000gn/T/ipykernel_5347/2569112909.py\u001b[0m in \u001b[0;36mdetect_lang\u001b[0;34m(text)\u001b[0m\n\u001b[1;32m      1\u001b[0m \u001b[0;32mdef\u001b[0m \u001b[0mdetect_lang\u001b[0m\u001b[0;34m(\u001b[0m\u001b[0mtext\u001b[0m\u001b[0;34m)\u001b[0m\u001b[0;34m:\u001b[0m\u001b[0;34m\u001b[0m\u001b[0;34m\u001b[0m\u001b[0m\n\u001b[0;32m----> 2\u001b[0;31m     \u001b[0;32mreturn\u001b[0m \u001b[0mdetect\u001b[0m\u001b[0;34m(\u001b[0m\u001b[0mtext\u001b[0m\u001b[0;34m)\u001b[0m\u001b[0;34m\u001b[0m\u001b[0;34m\u001b[0m\u001b[0m\n\u001b[0m\u001b[1;32m      3\u001b[0m \u001b[0;34m\u001b[0m\u001b[0m\n\u001b[1;32m      4\u001b[0m \u001b[0mtest\u001b[0m\u001b[0;34m[\u001b[0m\u001b[0;34m'Description'\u001b[0m\u001b[0;34m]\u001b[0m\u001b[0;34m.\u001b[0m\u001b[0mapply\u001b[0m\u001b[0;34m(\u001b[0m\u001b[0mdetect_lang\u001b[0m\u001b[0;34m)\u001b[0m\u001b[0;34m\u001b[0m\u001b[0;34m\u001b[0m\u001b[0m\n",
      "\u001b[0;32m/Library/Frameworks/Python.framework/Versions/3.10/lib/python3.10/site-packages/langdetect/detector_factory.py\u001b[0m in \u001b[0;36mdetect\u001b[0;34m(text)\u001b[0m\n\u001b[1;32m    128\u001b[0m     \u001b[0mdetector\u001b[0m \u001b[0;34m=\u001b[0m \u001b[0m_factory\u001b[0m\u001b[0;34m.\u001b[0m\u001b[0mcreate\u001b[0m\u001b[0;34m(\u001b[0m\u001b[0;34m)\u001b[0m\u001b[0;34m\u001b[0m\u001b[0;34m\u001b[0m\u001b[0m\n\u001b[1;32m    129\u001b[0m     \u001b[0mdetector\u001b[0m\u001b[0;34m.\u001b[0m\u001b[0mappend\u001b[0m\u001b[0;34m(\u001b[0m\u001b[0mtext\u001b[0m\u001b[0;34m)\u001b[0m\u001b[0;34m\u001b[0m\u001b[0;34m\u001b[0m\u001b[0m\n\u001b[0;32m--> 130\u001b[0;31m     \u001b[0;32mreturn\u001b[0m \u001b[0mdetector\u001b[0m\u001b[0;34m.\u001b[0m\u001b[0mdetect\u001b[0m\u001b[0;34m(\u001b[0m\u001b[0;34m)\u001b[0m\u001b[0;34m\u001b[0m\u001b[0;34m\u001b[0m\u001b[0m\n\u001b[0m\u001b[1;32m    131\u001b[0m \u001b[0;34m\u001b[0m\u001b[0m\n\u001b[1;32m    132\u001b[0m \u001b[0;34m\u001b[0m\u001b[0m\n",
      "\u001b[0;32m/Library/Frameworks/Python.framework/Versions/3.10/lib/python3.10/site-packages/langdetect/detector.py\u001b[0m in \u001b[0;36mdetect\u001b[0;34m(self)\u001b[0m\n\u001b[1;32m    134\u001b[0m         \u001b[0mwhich\u001b[0m \u001b[0mhas\u001b[0m \u001b[0mthe\u001b[0m \u001b[0mhighest\u001b[0m \u001b[0mprobability\u001b[0m\u001b[0;34m.\u001b[0m\u001b[0;34m\u001b[0m\u001b[0;34m\u001b[0m\u001b[0m\n\u001b[1;32m    135\u001b[0m         '''\n\u001b[0;32m--> 136\u001b[0;31m         \u001b[0mprobabilities\u001b[0m \u001b[0;34m=\u001b[0m \u001b[0mself\u001b[0m\u001b[0;34m.\u001b[0m\u001b[0mget_probabilities\u001b[0m\u001b[0;34m(\u001b[0m\u001b[0;34m)\u001b[0m\u001b[0;34m\u001b[0m\u001b[0;34m\u001b[0m\u001b[0m\n\u001b[0m\u001b[1;32m    137\u001b[0m         \u001b[0;32mif\u001b[0m \u001b[0mprobabilities\u001b[0m\u001b[0;34m:\u001b[0m\u001b[0;34m\u001b[0m\u001b[0;34m\u001b[0m\u001b[0m\n\u001b[1;32m    138\u001b[0m             \u001b[0;32mreturn\u001b[0m \u001b[0mprobabilities\u001b[0m\u001b[0;34m[\u001b[0m\u001b[0;36m0\u001b[0m\u001b[0;34m]\u001b[0m\u001b[0;34m.\u001b[0m\u001b[0mlang\u001b[0m\u001b[0;34m\u001b[0m\u001b[0;34m\u001b[0m\u001b[0m\n",
      "\u001b[0;32m/Library/Frameworks/Python.framework/Versions/3.10/lib/python3.10/site-packages/langdetect/detector.py\u001b[0m in \u001b[0;36mget_probabilities\u001b[0;34m(self)\u001b[0m\n\u001b[1;32m    141\u001b[0m     \u001b[0;32mdef\u001b[0m \u001b[0mget_probabilities\u001b[0m\u001b[0;34m(\u001b[0m\u001b[0mself\u001b[0m\u001b[0;34m)\u001b[0m\u001b[0;34m:\u001b[0m\u001b[0;34m\u001b[0m\u001b[0;34m\u001b[0m\u001b[0m\n\u001b[1;32m    142\u001b[0m         \u001b[0;32mif\u001b[0m \u001b[0mself\u001b[0m\u001b[0;34m.\u001b[0m\u001b[0mlangprob\u001b[0m \u001b[0;32mis\u001b[0m \u001b[0;32mNone\u001b[0m\u001b[0;34m:\u001b[0m\u001b[0;34m\u001b[0m\u001b[0;34m\u001b[0m\u001b[0m\n\u001b[0;32m--> 143\u001b[0;31m             \u001b[0mself\u001b[0m\u001b[0;34m.\u001b[0m\u001b[0m_detect_block\u001b[0m\u001b[0;34m(\u001b[0m\u001b[0;34m)\u001b[0m\u001b[0;34m\u001b[0m\u001b[0;34m\u001b[0m\u001b[0m\n\u001b[0m\u001b[1;32m    144\u001b[0m         \u001b[0;32mreturn\u001b[0m \u001b[0mself\u001b[0m\u001b[0;34m.\u001b[0m\u001b[0m_sort_probability\u001b[0m\u001b[0;34m(\u001b[0m\u001b[0mself\u001b[0m\u001b[0;34m.\u001b[0m\u001b[0mlangprob\u001b[0m\u001b[0;34m)\u001b[0m\u001b[0;34m\u001b[0m\u001b[0;34m\u001b[0m\u001b[0m\n\u001b[1;32m    145\u001b[0m \u001b[0;34m\u001b[0m\u001b[0m\n",
      "\u001b[0;32m/Library/Frameworks/Python.framework/Versions/3.10/lib/python3.10/site-packages/langdetect/detector.py\u001b[0m in \u001b[0;36m_detect_block\u001b[0;34m(self)\u001b[0m\n\u001b[1;32m    148\u001b[0m         \u001b[0mngrams\u001b[0m \u001b[0;34m=\u001b[0m \u001b[0mself\u001b[0m\u001b[0;34m.\u001b[0m\u001b[0m_extract_ngrams\u001b[0m\u001b[0;34m(\u001b[0m\u001b[0;34m)\u001b[0m\u001b[0;34m\u001b[0m\u001b[0;34m\u001b[0m\u001b[0m\n\u001b[1;32m    149\u001b[0m         \u001b[0;32mif\u001b[0m \u001b[0;32mnot\u001b[0m \u001b[0mngrams\u001b[0m\u001b[0;34m:\u001b[0m\u001b[0;34m\u001b[0m\u001b[0;34m\u001b[0m\u001b[0m\n\u001b[0;32m--> 150\u001b[0;31m             \u001b[0;32mraise\u001b[0m \u001b[0mLangDetectException\u001b[0m\u001b[0;34m(\u001b[0m\u001b[0mErrorCode\u001b[0m\u001b[0;34m.\u001b[0m\u001b[0mCantDetectError\u001b[0m\u001b[0;34m,\u001b[0m \u001b[0;34m'No features in text.'\u001b[0m\u001b[0;34m)\u001b[0m\u001b[0;34m\u001b[0m\u001b[0;34m\u001b[0m\u001b[0m\n\u001b[0m\u001b[1;32m    151\u001b[0m \u001b[0;34m\u001b[0m\u001b[0m\n\u001b[1;32m    152\u001b[0m         \u001b[0mself\u001b[0m\u001b[0;34m.\u001b[0m\u001b[0mlangprob\u001b[0m \u001b[0;34m=\u001b[0m \u001b[0;34m[\u001b[0m\u001b[0;36m0.0\u001b[0m\u001b[0;34m]\u001b[0m \u001b[0;34m*\u001b[0m \u001b[0mlen\u001b[0m\u001b[0;34m(\u001b[0m\u001b[0mself\u001b[0m\u001b[0;34m.\u001b[0m\u001b[0mlanglist\u001b[0m\u001b[0;34m)\u001b[0m\u001b[0;34m\u001b[0m\u001b[0;34m\u001b[0m\u001b[0m\n",
      "\u001b[0;31mLangDetectException\u001b[0m: No features in text."
     ]
    }
   ],
   "source": [
    "def detect_lang(text):\n",
    "    return detect(text)\n",
    "\n",
    "test['Description'].apply(detect_lang)"
   ]
  },
  {
   "cell_type": "code",
   "execution_count": 55,
   "metadata": {},
   "outputs": [],
   "source": [
    "import difflib\n",
    "\n",
    "archive_desc_training = pd.read_pickle(path+'LOGREG_RELEVANCE/TRAINING_SETS/archive_desc_training_v4.pkl')\n",
    "test = pd.read_csv('/Users/laurentfintoni/Desktop/University/COURSE DOCS/THESIS/Internship/musow-pipeline-thesis/LOGREG_RELEVANCE/PREDICTIONS/May 2022 tests/best_keywords_2022-05-08_-05-14_v2+v4_alt.csv')"
   ]
  },
  {
   "cell_type": "code",
   "execution_count": 31,
   "metadata": {},
   "outputs": [],
   "source": [
    "checklist = archive_desc_training.loc[archive_desc_training['Target'] == 1]\n",
    "checklist = checklist['URL'].to_list()"
   ]
  },
  {
   "cell_type": "code",
   "execution_count": 32,
   "metadata": {},
   "outputs": [],
   "source": [
    "from urllib.parse import urlparse\n",
    "parsed = []\n",
    "for url in checklist:\n",
    "    parsedurl = urlparse(url)\n",
    "    parsed.append(parsedurl[1])\n"
   ]
  },
  {
   "cell_type": "code",
   "execution_count": 33,
   "metadata": {},
   "outputs": [],
   "source": [
    "parsed = set(parsed)"
   ]
  },
  {
   "cell_type": "code",
   "execution_count": 25,
   "metadata": {},
   "outputs": [],
   "source": [
    "import re\n",
    "test['Match'] = test['URL'].apply(lambda x: re.search(rf'({x})', '|'.join(parsed)))\n"
   ]
  },
  {
   "cell_type": "code",
   "execution_count": 58,
   "metadata": {},
   "outputs": [],
   "source": [
    "def match_url(row):\n",
    "    if row['URL'] in '|'.join(parsed):\n",
    "        return 'training set match'\n",
    "    else:\n",
    "        pass"
   ]
  },
  {
   "cell_type": "code",
   "execution_count": 59,
   "metadata": {},
   "outputs": [],
   "source": [
    "test['Match'] = test.apply(match_url, axis=1)\n",
    "test['Match'] = test['Match'].astype(str)"
   ]
  },
  {
   "cell_type": "code",
   "execution_count": 60,
   "metadata": {},
   "outputs": [
    {
     "data": {
      "text/html": [
       "<div>\n",
       "<style scoped>\n",
       "    .dataframe tbody tr th:only-of-type {\n",
       "        vertical-align: middle;\n",
       "    }\n",
       "\n",
       "    .dataframe tbody tr th {\n",
       "        vertical-align: top;\n",
       "    }\n",
       "\n",
       "    .dataframe thead th {\n",
       "        text-align: right;\n",
       "    }\n",
       "</style>\n",
       "<table border=\"1\" class=\"dataframe\">\n",
       "  <thead>\n",
       "    <tr style=\"text-align: right;\">\n",
       "      <th></th>\n",
       "      <th>Unnamed: 0</th>\n",
       "      <th>user</th>\n",
       "      <th>created_at</th>\n",
       "      <th>lang</th>\n",
       "      <th>like_count</th>\n",
       "      <th>quote_count</th>\n",
       "      <th>reply_count</th>\n",
       "      <th>retweet_count</th>\n",
       "      <th>tweet</th>\n",
       "      <th>URL</th>\n",
       "      <th>Search KW</th>\n",
       "      <th>Title</th>\n",
       "      <th>Description</th>\n",
       "      <th>Prediction</th>\n",
       "      <th>Score</th>\n",
       "      <th>Probability</th>\n",
       "      <th>Input Length</th>\n",
       "      <th>Match</th>\n",
       "    </tr>\n",
       "  </thead>\n",
       "  <tbody>\n",
       "  </tbody>\n",
       "</table>\n",
       "</div>"
      ],
      "text/plain": [
       "Empty DataFrame\n",
       "Columns: [Unnamed: 0, user, created_at, lang, like_count, quote_count, reply_count, retweet_count, tweet, URL, Search KW, Title, Description, Prediction, Score, Probability, Input Length, Match]\n",
       "Index: []"
      ]
     },
     "execution_count": 60,
     "metadata": {},
     "output_type": "execute_result"
    }
   ],
   "source": [
    "test.loc[test['Match'] != 'None']"
   ]
  },
  {
   "cell_type": "code",
   "execution_count": 63,
   "metadata": {},
   "outputs": [],
   "source": [
    "test.loc[test['URL'].str.contains('|'.join(parsed), case=False, regex=True), ['Match']] = 'training set match'"
   ]
  },
  {
   "cell_type": "code",
   "execution_count": 64,
   "metadata": {},
   "outputs": [
    {
     "data": {
      "text/html": [
       "<div>\n",
       "<style scoped>\n",
       "    .dataframe tbody tr th:only-of-type {\n",
       "        vertical-align: middle;\n",
       "    }\n",
       "\n",
       "    .dataframe tbody tr th {\n",
       "        vertical-align: top;\n",
       "    }\n",
       "\n",
       "    .dataframe thead th {\n",
       "        text-align: right;\n",
       "    }\n",
       "</style>\n",
       "<table border=\"1\" class=\"dataframe\">\n",
       "  <thead>\n",
       "    <tr style=\"text-align: right;\">\n",
       "      <th></th>\n",
       "      <th>Unnamed: 0</th>\n",
       "      <th>user</th>\n",
       "      <th>created_at</th>\n",
       "      <th>lang</th>\n",
       "      <th>like_count</th>\n",
       "      <th>quote_count</th>\n",
       "      <th>reply_count</th>\n",
       "      <th>retweet_count</th>\n",
       "      <th>tweet</th>\n",
       "      <th>URL</th>\n",
       "      <th>Search KW</th>\n",
       "      <th>Title</th>\n",
       "      <th>Description</th>\n",
       "      <th>Prediction</th>\n",
       "      <th>Score</th>\n",
       "      <th>Probability</th>\n",
       "      <th>Input Length</th>\n",
       "      <th>Match</th>\n",
       "    </tr>\n",
       "  </thead>\n",
       "  <tbody>\n",
       "    <tr>\n",
       "      <th>0</th>\n",
       "      <td>0</td>\n",
       "      <td>tom2tec</td>\n",
       "      <td>2022-05-08 09:56:30+00:00</td>\n",
       "      <td>en</td>\n",
       "      <td>0</td>\n",
       "      <td>0</td>\n",
       "      <td>0</td>\n",
       "      <td>0</td>\n",
       "      <td>Music Player GO ~ Android Audio Player https:/...</td>\n",
       "      <td>http://audio-file.org/2022/05/08/music-player-...</td>\n",
       "      <td>\"audio file\" -is:retweet</td>\n",
       "      <td>Music Player GO ~ Android Audio Player | The A...</td>\n",
       "      <td>Home of Music Player GO, a minimal yet fully-...</td>\n",
       "      <td>1</td>\n",
       "      <td>4.566412</td>\n",
       "      <td>0.989712</td>\n",
       "      <td>216</td>\n",
       "      <td>training set match</td>\n",
       "    </tr>\n",
       "    <tr>\n",
       "      <th>3</th>\n",
       "      <td>3</td>\n",
       "      <td>matonizz</td>\n",
       "      <td>2022-05-11 22:03:54+00:00</td>\n",
       "      <td>en</td>\n",
       "      <td>3</td>\n",
       "      <td>0</td>\n",
       "      <td>0</td>\n",
       "      <td>0</td>\n",
       "      <td>Such a rich sound... Hard not to love the bass...</td>\n",
       "      <td>https://www.matonizz.com/product/didziausia-me...</td>\n",
       "      <td>\"sheet music\" -is:retweet</td>\n",
       "      <td>DIDŽIAUSIA MEILĖ (A Love Most Supreme) - David...</td>\n",
       "      <td>The $14.99 price tag is $1.99 for sheet music...</td>\n",
       "      <td>1</td>\n",
       "      <td>3.291026</td>\n",
       "      <td>0.964120</td>\n",
       "      <td>116</td>\n",
       "      <td>training set match</td>\n",
       "    </tr>\n",
       "    <tr>\n",
       "      <th>4</th>\n",
       "      <td>4</td>\n",
       "      <td>soundarchive</td>\n",
       "      <td>2022-05-12 14:57:22+00:00</td>\n",
       "      <td>en</td>\n",
       "      <td>14</td>\n",
       "      <td>0</td>\n",
       "      <td>1</td>\n",
       "      <td>2</td>\n",
       "      <td>This is a great listen.  from the sound archiv...</td>\n",
       "      <td>https://www.bbc.co.uk/sounds/play/m001692r</td>\n",
       "      <td>\"sound archive\" -is:retweet</td>\n",
       "      <td>Between the Ears - A Society of Recordists - B...</td>\n",
       "      <td>A sonic portrait of the Wildlife Sound Record...</td>\n",
       "      <td>1</td>\n",
       "      <td>3.220357</td>\n",
       "      <td>0.961593</td>\n",
       "      <td>167</td>\n",
       "      <td>training set match</td>\n",
       "    </tr>\n",
       "    <tr>\n",
       "      <th>5</th>\n",
       "      <td>5</td>\n",
       "      <td>matonizz</td>\n",
       "      <td>2022-05-13 20:21:47+00:00</td>\n",
       "      <td>en</td>\n",
       "      <td>3</td>\n",
       "      <td>0</td>\n",
       "      <td>0</td>\n",
       "      <td>2</td>\n",
       "      <td>Super Pleasant Music, Debussy's \"The Girl With...</td>\n",
       "      <td>https://www.matonizz.com/product/the-girl-with...</td>\n",
       "      <td>\"sheet music\" -is:retweet</td>\n",
       "      <td>THE GIRL WITH THE FLAXEN HAIR - Claude Debussy...</td>\n",
       "      <td>The $14.99 sheet music includes five backing ...</td>\n",
       "      <td>1</td>\n",
       "      <td>2.904269</td>\n",
       "      <td>0.948057</td>\n",
       "      <td>151</td>\n",
       "      <td>training set match</td>\n",
       "    </tr>\n",
       "    <tr>\n",
       "      <th>10</th>\n",
       "      <td>10</td>\n",
       "      <td>jingajik</td>\n",
       "      <td>2022-05-13 03:29:14+00:00</td>\n",
       "      <td>en</td>\n",
       "      <td>11</td>\n",
       "      <td>1</td>\n",
       "      <td>2</td>\n",
       "      <td>5</td>\n",
       "      <td>John Cousins, sonic artist - Part 2 of the blo...</td>\n",
       "      <td>https://natlib.govt.nz/blog/posts/tales-from-t...</td>\n",
       "      <td>\"music collection\" -is:retweet</td>\n",
       "      <td>Tales from the Acousmonium – Part 2 | National...</td>\n",
       "      <td>The John Cousins Collection contains an exten...</td>\n",
       "      <td>1</td>\n",
       "      <td>1.449516</td>\n",
       "      <td>0.809924</td>\n",
       "      <td>898</td>\n",
       "      <td>training set match</td>\n",
       "    </tr>\n",
       "    <tr>\n",
       "      <th>27</th>\n",
       "      <td>27</td>\n",
       "      <td>phillipsme</td>\n",
       "      <td>2022-05-08 07:03:29+00:00</td>\n",
       "      <td>en</td>\n",
       "      <td>0</td>\n",
       "      <td>0</td>\n",
       "      <td>1</td>\n",
       "      <td>0</td>\n",
       "      <td>National Sound Archive?\\nhttps://t.co/Gmejkx...</td>\n",
       "      <td>https://sounds.bl.uk/Accents-and-dialects/Surv...</td>\n",
       "      <td>\"sound archive\" -is:retweet</td>\n",
       "      <td>Survey of English Dialects - Accents and diale...</td>\n",
       "      <td>Survey of English Dialects (SED) was a ground...</td>\n",
       "      <td>1</td>\n",
       "      <td>0.312134</td>\n",
       "      <td>0.577406</td>\n",
       "      <td>547</td>\n",
       "      <td>training set match</td>\n",
       "    </tr>\n",
       "    <tr>\n",
       "      <th>32</th>\n",
       "      <td>32</td>\n",
       "      <td>practicingmusic</td>\n",
       "      <td>2022-05-12 16:23:11+00:00</td>\n",
       "      <td>en</td>\n",
       "      <td>0</td>\n",
       "      <td>0</td>\n",
       "      <td>0</td>\n",
       "      <td>0</td>\n",
       "      <td>Practicing Musician offers K-12 music educator...</td>\n",
       "      <td>https://www.practicingmusician.com</td>\n",
       "      <td>\"sheet music\" -is:retweet</td>\n",
       "      <td>Practicing Musician</td>\n",
       "      <td>Online Concert Band and Strings Methods. For ...</td>\n",
       "      <td>1</td>\n",
       "      <td>0.099019</td>\n",
       "      <td>0.524735</td>\n",
       "      <td>175</td>\n",
       "      <td>training set match</td>\n",
       "    </tr>\n",
       "  </tbody>\n",
       "</table>\n",
       "</div>"
      ],
      "text/plain": [
       "    Unnamed: 0             user                 created_at lang  like_count  \\\n",
       "0            0          tom2tec  2022-05-08 09:56:30+00:00   en           0   \n",
       "3            3         matonizz  2022-05-11 22:03:54+00:00   en           3   \n",
       "4            4     soundarchive  2022-05-12 14:57:22+00:00   en          14   \n",
       "5            5         matonizz  2022-05-13 20:21:47+00:00   en           3   \n",
       "10          10         jingajik  2022-05-13 03:29:14+00:00   en          11   \n",
       "27          27       phillipsme  2022-05-08 07:03:29+00:00   en           0   \n",
       "32          32  practicingmusic  2022-05-12 16:23:11+00:00   en           0   \n",
       "\n",
       "    quote_count  reply_count  retweet_count  \\\n",
       "0             0            0              0   \n",
       "3             0            0              0   \n",
       "4             0            1              2   \n",
       "5             0            0              2   \n",
       "10            1            2              5   \n",
       "27            0            1              0   \n",
       "32            0            0              0   \n",
       "\n",
       "                                                tweet  \\\n",
       "0   Music Player GO ~ Android Audio Player https:/...   \n",
       "3   Such a rich sound... Hard not to love the bass...   \n",
       "4   This is a great listen.  from the sound archiv...   \n",
       "5   Super Pleasant Music, Debussy's \"The Girl With...   \n",
       "10  John Cousins, sonic artist - Part 2 of the blo...   \n",
       "27    National Sound Archive?\\nhttps://t.co/Gmejkx...   \n",
       "32  Practicing Musician offers K-12 music educator...   \n",
       "\n",
       "                                                  URL  \\\n",
       "0   http://audio-file.org/2022/05/08/music-player-...   \n",
       "3   https://www.matonizz.com/product/didziausia-me...   \n",
       "4          https://www.bbc.co.uk/sounds/play/m001692r   \n",
       "5   https://www.matonizz.com/product/the-girl-with...   \n",
       "10  https://natlib.govt.nz/blog/posts/tales-from-t...   \n",
       "27  https://sounds.bl.uk/Accents-and-dialects/Surv...   \n",
       "32                 https://www.practicingmusician.com   \n",
       "\n",
       "                         Search KW  \\\n",
       "0         \"audio file\" -is:retweet   \n",
       "3        \"sheet music\" -is:retweet   \n",
       "4      \"sound archive\" -is:retweet   \n",
       "5        \"sheet music\" -is:retweet   \n",
       "10  \"music collection\" -is:retweet   \n",
       "27     \"sound archive\" -is:retweet   \n",
       "32       \"sheet music\" -is:retweet   \n",
       "\n",
       "                                                Title  \\\n",
       "0   Music Player GO ~ Android Audio Player | The A...   \n",
       "3   DIDŽIAUSIA MEILĖ (A Love Most Supreme) - David...   \n",
       "4   Between the Ears - A Society of Recordists - B...   \n",
       "5   THE GIRL WITH THE FLAXEN HAIR - Claude Debussy...   \n",
       "10  Tales from the Acousmonium – Part 2 | National...   \n",
       "27  Survey of English Dialects - Accents and diale...   \n",
       "32                                Practicing Musician   \n",
       "\n",
       "                                          Description  Prediction     Score  \\\n",
       "0    Home of Music Player GO, a minimal yet fully-...           1  4.566412   \n",
       "3    The $14.99 price tag is $1.99 for sheet music...           1  3.291026   \n",
       "4    A sonic portrait of the Wildlife Sound Record...           1  3.220357   \n",
       "5    The $14.99 sheet music includes five backing ...           1  2.904269   \n",
       "10   The John Cousins Collection contains an exten...           1  1.449516   \n",
       "27   Survey of English Dialects (SED) was a ground...           1  0.312134   \n",
       "32   Online Concert Band and Strings Methods. For ...           1  0.099019   \n",
       "\n",
       "    Probability  Input Length               Match  \n",
       "0      0.989712           216  training set match  \n",
       "3      0.964120           116  training set match  \n",
       "4      0.961593           167  training set match  \n",
       "5      0.948057           151  training set match  \n",
       "10     0.809924           898  training set match  \n",
       "27     0.577406           547  training set match  \n",
       "32     0.524735           175  training set match  "
      ]
     },
     "execution_count": 64,
     "metadata": {},
     "output_type": "execute_result"
    }
   ],
   "source": [
    "test.loc[test['Match'] == 'training set match']"
   ]
  }
 ],
 "metadata": {
  "interpreter": {
   "hash": "aee8b7b246df8f9039afb4144a1f6fd8d2ca17a180786b69acc140d282b71a49"
  },
  "kernelspec": {
   "display_name": "Python 3.10.4 64-bit",
   "language": "python",
   "name": "python3"
  },
  "language_info": {
   "codemirror_mode": {
    "name": "ipython",
    "version": 3
   },
   "file_extension": ".py",
   "mimetype": "text/x-python",
   "name": "python",
   "nbconvert_exporter": "python",
   "pygments_lexer": "ipython3",
   "version": "3.10.4"
  }
 },
 "nbformat": 4,
 "nbformat_minor": 4
}
